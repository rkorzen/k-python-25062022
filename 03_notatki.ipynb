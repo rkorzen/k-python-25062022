{
 "cells": [
  {
   "cell_type": "markdown",
   "id": "33e9d07e",
   "metadata": {},
   "source": [
    "## Dekoratory\n"
   ]
  },
  {
   "cell_type": "code",
   "execution_count": null,
   "id": "a1b2a5f1",
   "metadata": {},
   "outputs": [],
   "source": [
    "show = True\n",
    "from functools import wraps\n",
    "\n",
    "\n",
    "def decor(func):\n",
    "    @wraps(func)\n",
    "    def wrapper(*args, **kwargs):\n",
    "        print(\"Before func\")\n",
    "        if show:\n",
    "            result = func(*args, **kwargs)\n",
    "        else:\n",
    "            print(\"Funkcja nie jest wykonana\")\n",
    "        print(\"po funkcji\")\n",
    "        return result\n",
    "\n",
    "    # wrapper.__name__ = func.__name__\n",
    "    # wrapper.__doc__ = func.__doc__\n",
    "    # wrapper.__annotations__ = func.__annotations__\n",
    "    return wrapper\n",
    "\n",
    "\n",
    "@decor\n",
    "def foo(x: str):\n",
    "    \"\"\"Dokumentacja funkcji foo\"\"\"\n",
    "    print(\"foo\")\n",
    "    return 10\n",
    "\n",
    "foo = decor(foo)\n",
    "\n",
    "@decor\n",
    "def bar():\n",
    "    print(\"bar\")\n",
    "\n",
    "\n",
    "\n",
    "\n",
    "# print(foo.__name__)\n",
    "# print(foo.__doc__)\n",
    "# print(foo.__annotations__)\n",
    "\n",
    "x = foo(\"ddd\")\n",
    "x\n"
   ]
  },
  {
   "cell_type": "markdown",
   "id": "93c15d25",
   "metadata": {},
   "source": [
    "### ZADANIE\n",
    "\n",
    "Stwórz dekoratory bold, italic, które udekorują tekst zwracany przez inne funkcje znacznikami html `<b></b>` `<i></i>`\n",
    "\n",
    "\n",
    "    Ala ma kota -> <b>Ala ma kota</b>\n"
   ]
  },
  {
   "cell_type": "code",
   "execution_count": null,
   "id": "15cab174",
   "metadata": {},
   "outputs": [],
   "source": [
    "def bold(func):\n",
    "    \n",
    "    @wraps(func)\n",
    "    def wrapper(*args, **kwargs):\n",
    "        \n",
    "        result = func(*args, **kwargs)\n",
    "        return f\"<b>{result}</b>\"\n",
    "    \n",
    "    return wrapper\n",
    "\n",
    "\n",
    "@bold\n",
    "def paragraph(text):\n",
    "    return  f\"<p>{text}</p>\"\n",
    "\n",
    "assert paragraph(\"AAA\") == \"<b><p>AAA</p></b>\""
   ]
  },
  {
   "cell_type": "markdown",
   "id": "deb681f1",
   "metadata": {},
   "source": [
    "## funkcje\n"
   ]
  },
  {
   "cell_type": "code",
   "execution_count": null,
   "id": "0409d962",
   "metadata": {},
   "outputs": [],
   "source": [
    "def foo(a, b, c, d=1, e=3):\n",
    "    print(a, b, c, d, e)\n",
    "\n",
    "foo(1, 2, 3, 4, 5)"
   ]
  },
  {
   "cell_type": "code",
   "execution_count": null,
   "id": "bfd99e87",
   "metadata": {},
   "outputs": [],
   "source": [
    "foo(c=1, b=2, a=3, d=10, e=20)"
   ]
  },
  {
   "cell_type": "code",
   "execution_count": null,
   "id": "91f6ffcb",
   "metadata": {},
   "outputs": [],
   "source": [
    "foo(c=1, b=2, 3, d=10, e=20)"
   ]
  },
  {
   "cell_type": "code",
   "execution_count": null,
   "id": "1c2f0065",
   "metadata": {},
   "outputs": [],
   "source": [
    "foo(1, c=2, b=3, d=10, e=20)"
   ]
  },
  {
   "cell_type": "code",
   "execution_count": null,
   "id": "4df6f66d",
   "metadata": {},
   "outputs": [],
   "source": [
    "foo(1, b=2, a=3, d=10, e=20)"
   ]
  },
  {
   "cell_type": "code",
   "execution_count": null,
   "id": "32be3ae0",
   "metadata": {},
   "outputs": [],
   "source": [
    "def bar(b, a=1): pass"
   ]
  },
  {
   "cell_type": "code",
   "execution_count": null,
   "id": "50b74827",
   "metadata": {},
   "outputs": [],
   "source": [
    "def suma(a, b, *,to_float=False):\n",
    "    result = a + b\n",
    "    if to_float:\n",
    "        result = float(result)\n",
    "        \n",
    "    return result"
   ]
  },
  {
   "cell_type": "code",
   "execution_count": null,
   "id": "079124d7",
   "metadata": {},
   "outputs": [],
   "source": [
    "suma(1, 2)"
   ]
  },
  {
   "cell_type": "code",
   "execution_count": null,
   "id": "c4736acd",
   "metadata": {},
   "outputs": [],
   "source": [
    "suma(1, 2, to_float=True)"
   ]
  },
  {
   "cell_type": "code",
   "execution_count": null,
   "id": "35e6fd1a",
   "metadata": {},
   "outputs": [],
   "source": [
    "suma(1, 2, True)"
   ]
  },
  {
   "cell_type": "code",
   "execution_count": null,
   "id": "0da98afb",
   "metadata": {},
   "outputs": [],
   "source": [
    "suma(1, 2, 10)"
   ]
  },
  {
   "cell_type": "markdown",
   "id": "312afda6",
   "metadata": {},
   "source": [
    "### args  = arguments"
   ]
  },
  {
   "cell_type": "code",
   "execution_count": null,
   "id": "512940b3",
   "metadata": {},
   "outputs": [],
   "source": [
    "def suma(a, b, *args):\n",
    "    print(f\"a={a} b={b} args={args}\")\n",
    "    return a + b + sum(args)"
   ]
  },
  {
   "cell_type": "code",
   "execution_count": null,
   "id": "51012632",
   "metadata": {},
   "outputs": [],
   "source": []
  },
  {
   "cell_type": "code",
   "execution_count": null,
   "id": "8489c12e",
   "metadata": {},
   "outputs": [],
   "source": [
    "assert suma(1, 2) == 3\n",
    "assert suma(1, 2, 3) == 6\n",
    "assert suma(1, 2, 3, 1) == 7\n",
    "\n",
    "assert suma(1, 2, 3, 1, 1, 1) == 9"
   ]
  },
  {
   "cell_type": "markdown",
   "id": "8bc05392",
   "metadata": {},
   "source": [
    "### kwargs = keyword arguments"
   ]
  },
  {
   "cell_type": "code",
   "execution_count": null,
   "id": "5b66328f",
   "metadata": {},
   "outputs": [],
   "source": [
    "def suma(a, b, *args, c=0, **kwargs):\n",
    "    print(f\"a={a} b={b} args={args} c={c} kwargs={kwargs}\")\n",
    "    return a + b + sum(args) "
   ]
  },
  {
   "cell_type": "code",
   "execution_count": null,
   "id": "4ed02b5b",
   "metadata": {},
   "outputs": [],
   "source": [
    "assert suma(1, 2, 3, 1, 1, 1, c=200, x=10, y=222) == 9"
   ]
  },
  {
   "cell_type": "code",
   "execution_count": null,
   "id": "86fd708e",
   "metadata": {},
   "outputs": [],
   "source": [
    "assert suma(1, 2, 3, 1, 1, 1, x=10, y=222) == 9"
   ]
  },
  {
   "cell_type": "code",
   "execution_count": null,
   "id": "b52899d0",
   "metadata": {},
   "outputs": [],
   "source": [
    "def hello(*args):\n",
    "    print(args)"
   ]
  },
  {
   "cell_type": "code",
   "execution_count": null,
   "id": "59d7e47a",
   "metadata": {},
   "outputs": [],
   "source": [
    "hello(\"Hello\", \"World\")"
   ]
  },
  {
   "cell_type": "code",
   "execution_count": null,
   "id": "3d37747f",
   "metadata": {},
   "outputs": [],
   "source": [
    "hello(name=\"Adam\")"
   ]
  },
  {
   "cell_type": "code",
   "execution_count": null,
   "id": "963c088c",
   "metadata": {},
   "outputs": [],
   "source": [
    "def hello(*x, **xx):\n",
    "    print(x, xx)"
   ]
  },
  {
   "cell_type": "code",
   "execution_count": null,
   "id": "c76c10ad",
   "metadata": {},
   "outputs": [],
   "source": [
    "hello(name=\"Adam\")"
   ]
  },
  {
   "cell_type": "code",
   "execution_count": null,
   "id": "e62f63a7",
   "metadata": {},
   "outputs": [],
   "source": [
    "a, b, *c = 10, 20, 30, 10, 10, 10"
   ]
  },
  {
   "cell_type": "code",
   "execution_count": null,
   "id": "846e31e5",
   "metadata": {},
   "outputs": [],
   "source": [
    "print(c)"
   ]
  },
  {
   "cell_type": "code",
   "execution_count": null,
   "id": "cc8c9652",
   "metadata": {},
   "outputs": [],
   "source": [
    "print(*c)"
   ]
  },
  {
   "cell_type": "code",
   "execution_count": null,
   "id": "7f5903e5",
   "metadata": {},
   "outputs": [],
   "source": [
    "print(30, 10 , 10, 10)"
   ]
  },
  {
   "cell_type": "code",
   "execution_count": null,
   "id": "d6a7b3c7",
   "metadata": {},
   "outputs": [],
   "source": [
    "print([30, 10 , 10, 10])"
   ]
  },
  {
   "cell_type": "code",
   "execution_count": null,
   "id": "4a15fb0e",
   "metadata": {},
   "outputs": [],
   "source": [
    "formatting = {'sep':\"-\", 'end':\"!\"}\n"
   ]
  },
  {
   "cell_type": "code",
   "execution_count": null,
   "id": "914286fe",
   "metadata": {},
   "outputs": [],
   "source": [
    "print(*c, sep=\"-\", end=\"!\")"
   ]
  },
  {
   "cell_type": "code",
   "execution_count": null,
   "id": "f03b3831",
   "metadata": {},
   "outputs": [],
   "source": [
    "print(*c, **formatting)"
   ]
  },
  {
   "cell_type": "code",
   "execution_count": 1,
   "id": "bf02de9d",
   "metadata": {},
   "outputs": [
    {
     "name": "stdout",
     "output_type": "stream",
     "text": [
      "20\n",
      "40\n"
     ]
    },
    {
     "ename": "NameError",
     "evalue": "name 'b' is not defined",
     "output_type": "error",
     "traceback": [
      "\u001b[0;31m---------------------------------------------------------------------------\u001b[0m",
      "\u001b[0;31mNameError\u001b[0m                                 Traceback (most recent call last)",
      "Input \u001b[0;32mIn [1]\u001b[0m, in \u001b[0;36m<cell line: 17>\u001b[0;34m()\u001b[0m\n\u001b[1;32m     14\u001b[0m     \u001b[38;5;28mprint\u001b[39m(b)\n\u001b[1;32m     16\u001b[0m aa(\u001b[38;5;241m*\u001b[39m\u001b[38;5;241m*\u001b[39mmetadata)\n\u001b[0;32m---> 17\u001b[0m \u001b[43mbb\u001b[49m\u001b[43m(\u001b[49m\u001b[38;5;241;43m*\u001b[39;49m\u001b[38;5;241;43m*\u001b[39;49m\u001b[43mmetadata\u001b[49m\u001b[43m)\u001b[49m\n",
      "Input \u001b[0;32mIn [1]\u001b[0m, in \u001b[0;36mbb\u001b[0;34m(**kwargs)\u001b[0m\n\u001b[1;32m     12\u001b[0m \u001b[38;5;28;01mdef\u001b[39;00m \u001b[38;5;21mbb\u001b[39m(\u001b[38;5;241m*\u001b[39m\u001b[38;5;241m*\u001b[39mkwargs):\n\u001b[1;32m     13\u001b[0m     \u001b[38;5;28mprint\u001b[39m(kwargs\u001b[38;5;241m.\u001b[39mget(\u001b[38;5;124m'\u001b[39m\u001b[38;5;124mb\u001b[39m\u001b[38;5;124m'\u001b[39m)\u001b[38;5;241m*\u001b[39m\u001b[38;5;241m2\u001b[39m)\n\u001b[0;32m---> 14\u001b[0m     \u001b[38;5;28mprint\u001b[39m(\u001b[43mb\u001b[49m)\n",
      "\u001b[0;31mNameError\u001b[0m: name 'b' is not defined"
     ]
    }
   ],
   "source": [
    "metadata = {\n",
    "    \"a\": 10, \n",
    "    \"b\": 20, \n",
    "    \"c\": 30\n",
    "}\n",
    "\n",
    "\n",
    "\n",
    "def aa(**kwargs):\n",
    "    print(kwargs.get('a')*2)\n",
    "\n",
    "def bb(x=50, **kwargs):  \n",
    "    print(kwargs.get('b')*2)\n",
    "    print(x)\n",
    "\n",
    "aa(**metadata)\n",
    "bb(**metadata)   # bb(a=10, b=20, c=30)"
   ]
  },
  {
   "cell_type": "code",
   "execution_count": 2,
   "id": "415f0388",
   "metadata": {},
   "outputs": [],
   "source": [
    "def suma(a, b, /, *, return_float=False):\n",
    "    return a + b"
   ]
  },
  {
   "cell_type": "code",
   "execution_count": 4,
   "id": "fa916b7f",
   "metadata": {},
   "outputs": [
    {
     "ename": "TypeError",
     "evalue": "suma() takes 2 positional arguments but 3 were given",
     "output_type": "error",
     "traceback": [
      "\u001b[0;31m---------------------------------------------------------------------------\u001b[0m",
      "\u001b[0;31mTypeError\u001b[0m                                 Traceback (most recent call last)",
      "Input \u001b[0;32mIn [4]\u001b[0m, in \u001b[0;36m<cell line: 1>\u001b[0;34m()\u001b[0m\n\u001b[0;32m----> 1\u001b[0m \u001b[43msuma\u001b[49m\u001b[43m(\u001b[49m\u001b[38;5;241;43m1\u001b[39;49m\u001b[43m,\u001b[49m\u001b[43m \u001b[49m\u001b[38;5;241;43m2\u001b[39;49m\u001b[43m,\u001b[49m\u001b[43m \u001b[49m\u001b[38;5;241;43m3\u001b[39;49m\u001b[43m)\u001b[49m\n",
      "\u001b[0;31mTypeError\u001b[0m: suma() takes 2 positional arguments but 3 were given"
     ]
    }
   ],
   "source": [
    "suma(1, 2)"
   ]
  },
  {
   "cell_type": "code",
   "execution_count": 9,
   "id": "fd744639",
   "metadata": {},
   "outputs": [
    {
     "data": {
      "text/plain": [
       "[10]"
      ]
     },
     "execution_count": 9,
     "metadata": {},
     "output_type": "execute_result"
    }
   ],
   "source": [
    "def add_element(a, elements=[]):\n",
    "    elements.append(a)\n",
    "    return elements\n",
    "\n",
    "add_element(10)"
   ]
  },
  {
   "cell_type": "code",
   "execution_count": 11,
   "id": "2379eff6",
   "metadata": {},
   "outputs": [
    {
     "data": {
      "text/plain": [
       "[10, 20]"
      ]
     },
     "execution_count": 11,
     "metadata": {},
     "output_type": "execute_result"
    }
   ],
   "source": [
    "add_element(20)"
   ]
  },
  {
   "cell_type": "code",
   "execution_count": 12,
   "id": "693705cf",
   "metadata": {},
   "outputs": [
    {
     "data": {
      "text/plain": [
       "([10, 20],)"
      ]
     },
     "execution_count": 12,
     "metadata": {},
     "output_type": "execute_result"
    }
   ],
   "source": [
    "add_element.__defaults__"
   ]
  },
  {
   "cell_type": "code",
   "execution_count": 13,
   "id": "c22c5c5c",
   "metadata": {},
   "outputs": [
    {
     "data": {
      "text/plain": [
       "[20]"
      ]
     },
     "execution_count": 13,
     "metadata": {},
     "output_type": "execute_result"
    }
   ],
   "source": [
    "def add_element(a, elements=None):\n",
    "    if not elements:\n",
    "        elements = []\n",
    "    elements.append(a)\n",
    "    return elements\n",
    "\n",
    "add_element(10)\n",
    "\n",
    "add_element(20)"
   ]
  },
  {
   "cell_type": "code",
   "execution_count": 16,
   "id": "8a79dbed",
   "metadata": {},
   "outputs": [],
   "source": [
    "func = lambda x: x[1]\n",
    "suma = lambda x, y: x+y"
   ]
  },
  {
   "cell_type": "code",
   "execution_count": 15,
   "id": "30e49627",
   "metadata": {},
   "outputs": [
    {
     "data": {
      "text/plain": [
       "'1'"
      ]
     },
     "execution_count": 15,
     "metadata": {},
     "output_type": "execute_result"
    }
   ],
   "source": [
    "func(\"a1\")"
   ]
  },
  {
   "cell_type": "code",
   "execution_count": 17,
   "id": "55670f52",
   "metadata": {},
   "outputs": [
    {
     "data": {
      "text/plain": [
       "3"
      ]
     },
     "execution_count": 17,
     "metadata": {},
     "output_type": "execute_result"
    }
   ],
   "source": [
    "suma(1, 2)"
   ]
  },
  {
   "cell_type": "code",
   "execution_count": 20,
   "id": "4117adb4",
   "metadata": {},
   "outputs": [
    {
     "data": {
      "text/plain": [
       "4"
      ]
     },
     "execution_count": 20,
     "metadata": {},
     "output_type": "execute_result"
    }
   ],
   "source": [
    "(lambda x, y: x+y)(1, 3)"
   ]
  },
  {
   "cell_type": "markdown",
   "id": "95217f67",
   "metadata": {},
   "source": [
    "### funkcja to też obiekt"
   ]
  },
  {
   "cell_type": "code",
   "execution_count": 21,
   "id": "e9071bd4",
   "metadata": {},
   "outputs": [
    {
     "name": "stdout",
     "output_type": "stream",
     "text": [
      "89\n",
      "1\n",
      "56\n"
     ]
    }
   ],
   "source": [
    "functions = [sum, min, max]\n",
    "collection = [1, 2 , 3, 4, 56, 23]\n",
    "\n",
    "for f in functions:\n",
    "    print(f(collection))"
   ]
  },
  {
   "cell_type": "markdown",
   "id": "34cf759f",
   "metadata": {},
   "source": [
    "### zad \n",
    "\n",
    "Napisz prosty kalkulator, ktory dziala tak:\n",
    "    \n",
    "    Jaka operacje chcesz wykonac? [1-add, 2-sub ...] 1\n",
    "    Podaj arg a: 10\n",
    "    Podaj arg b: 20\n",
    "    Wynik: 30\n",
    "\n",
    "\n",
    "Rozbij to na kilka różnych funkcji.\n",
    "    "
   ]
  },
  {
   "cell_type": "code",
   "execution_count": null,
   "id": "4ba5999d",
   "metadata": {},
   "outputs": [],
   "source": [
    "\n",
    "def kalkulator():\n",
    "    operacja = input(\"Podaj operację [1-dodaj, 2-odejmij, 3-mnoz, 4-dziel]: \")\n",
    "    a = int(input(\"Podaj arg 1: \"))\n",
    "    b = int(input(\"Podaj arg 2: \"))\n",
    "    \n",
    "    if operacja == \"1\":\n",
    "        \n"
   ]
  },
  {
   "cell_type": "markdown",
   "id": "5722b5ca",
   "metadata": {},
   "source": [
    "## zad\n",
    "\n",
    "Napisz funkcję, która wywoła inną funkcję po zadanym czasie.\n",
    "\n",
    "Np. Wywołanie\n",
    "\n",
    "    delay(lambda x: x ** 0.5, 100, 16)\n",
    "\n",
    "Powinno po 100 ms policzyć pierwiastek z 16\n",
    "\n",
    "Inny przykład\n",
    "\n",
    "    def func(a, b, c):\n",
    "        return a * b ** c\n",
    "\n",
    "    delay(func, 250, 10, 20, 2)\n",
    "\n",
    "powinno zwrócić po 250 ms wynik 4000\n",
    "\n",
    "    delay(print, 2000, \"Ala ma kota\", \"Asa\", end=\"-\")\n",
    "\n",
    "Zwróci po 2 sekundach:\n",
    "\n",
    "    Ala ma kota Asa-\n",
    "\n",
    "Postaraj się w miare możliwości napisać testy. "
   ]
  },
  {
   "cell_type": "code",
   "execution_count": 26,
   "id": "a9ba97a4",
   "metadata": {},
   "outputs": [
    {
     "data": {
      "text/plain": [
       "4000"
      ]
     },
     "execution_count": 26,
     "metadata": {},
     "output_type": "execute_result"
    }
   ],
   "source": [
    "from time import sleep\n",
    "\n",
    "def delay(func, ms, *args, **kwargs):\n",
    "    sleep(ms/1000)\n",
    "    return func(*args, **kwargs)\n",
    "\n",
    "\n",
    "def func(a, b, c):\n",
    "    return a * b ** c\n",
    "\n",
    "delay(func, 250, 10, 20, 2)"
   ]
  },
  {
   "cell_type": "code",
   "execution_count": 28,
   "id": "044fb281",
   "metadata": {},
   "outputs": [
    {
     "name": "stdout",
     "output_type": "stream",
     "text": [
      "Ala ma kota;Asa-"
     ]
    }
   ],
   "source": [
    "delay(print, 2000, \"Ala ma kota\", \"Asa\", sep=\";\", end=\"-\")\n"
   ]
  },
  {
   "cell_type": "markdown",
   "id": "cc0366af",
   "metadata": {},
   "source": [
    "### zad\n",
    "\n",
    "\n",
    "### total_length\n",
    "\n",
    "a) Napisz funkcję o nazwie `total_length`, która przyjmuje pewną liczbę obiektów, które posiadają długość(listy, zestawy, ciągi itp.) i zwraca sumę długości obiektów.\n",
    "\n",
    "Np:\n",
    "\n",
    "    >>> total_length([4, 5], (6, 7))\n",
    "    4\n",
    "    >>> total_length('hello', {'red': 50, 'purple': 100})\n",
    "    7\n",
    "\n",
    "b) Zmodyfikuj funkcję tak, by przyjmowała iterowalne obiekty, które nie posiadają długości - np wyrażenie generatorowe\n",
    "\n",
    "    >>> numbers = [4, 6, 8, 9]\n",
    "    >>> total_length(enumerate(numbers), (n**2 for n in numbers))\n",
    "    8\n",
    "    >>> total_length(n for n in numbers if n % 2 == 0)\n",
    "    3\n",
    "\n",
    "c) Zadbaj o to by funkcja działała wydajnie dla obiektów, które maja dużo elementów\n",
    "\n",
    "    total_length(range(1000), range(1000000000))"
   ]
  },
  {
   "cell_type": "code",
   "execution_count": 29,
   "id": "6eb63b1e",
   "metadata": {},
   "outputs": [
    {
     "data": {
      "text/plain": [
       "3"
      ]
     },
     "execution_count": 29,
     "metadata": {},
     "output_type": "execute_result"
    }
   ],
   "source": [
    "len(\"aaa\")"
   ]
  },
  {
   "cell_type": "code",
   "execution_count": 36,
   "id": "77a67427",
   "metadata": {},
   "outputs": [],
   "source": [
    "numbers = [4, 6, 8, 9]\n",
    "xxx= (n**2 for n in numbers)"
   ]
  },
  {
   "cell_type": "code",
   "execution_count": 38,
   "id": "8c3047d7",
   "metadata": {},
   "outputs": [
    {
     "name": "stdout",
     "output_type": "stream",
     "text": [
      "16\n",
      "36\n",
      "64\n",
      "81\n"
     ]
    }
   ],
   "source": [
    "for i in xxx: print(i)"
   ]
  },
  {
   "cell_type": "code",
   "execution_count": 40,
   "id": "12f47cd2",
   "metadata": {},
   "outputs": [
    {
     "name": "stdout",
     "output_type": "stream",
     "text": [
      "4\n",
      "6\n",
      "8\n",
      "9\n"
     ]
    }
   ],
   "source": [
    "for i in numbers: print(i)"
   ]
  },
  {
   "cell_type": "code",
   "execution_count": 43,
   "id": "829e9f34",
   "metadata": {},
   "outputs": [],
   "source": [
    "if str(type(xxx)) == 'generator' : print(\"aaaa\")"
   ]
  },
  {
   "cell_type": "code",
   "execution_count": 45,
   "id": "ad4d8c88",
   "metadata": {},
   "outputs": [
    {
     "data": {
      "text/plain": [
       "generator"
      ]
     },
     "execution_count": 45,
     "metadata": {},
     "output_type": "execute_result"
    }
   ],
   "source": [
    "type(xxx)"
   ]
  },
  {
   "cell_type": "code",
   "execution_count": 46,
   "id": "08be5335",
   "metadata": {},
   "outputs": [
    {
     "name": "stdout",
     "output_type": "stream",
     "text": [
      "aaaa\n"
     ]
    }
   ],
   "source": [
    "if 'generator' in str(type(xxx)): print(\"aaaa\")"
   ]
  },
  {
   "cell_type": "code",
   "execution_count": 49,
   "id": "ef311416",
   "metadata": {},
   "outputs": [
    {
     "data": {
      "text/plain": [
       "False"
      ]
     },
     "execution_count": 49,
     "metadata": {},
     "output_type": "execute_result"
    }
   ],
   "source": [
    "hasattr(numbers, '__next__')"
   ]
  },
  {
   "cell_type": "code",
   "execution_count": 50,
   "id": "6031feb5",
   "metadata": {},
   "outputs": [
    {
     "data": {
      "text/plain": [
       "True"
      ]
     },
     "execution_count": 50,
     "metadata": {},
     "output_type": "execute_result"
    }
   ],
   "source": [
    "hasattr(numbers, '__len__')"
   ]
  },
  {
   "cell_type": "markdown",
   "id": "eab46944",
   "metadata": {},
   "source": [
    "#### Rozwiązanie a)"
   ]
  },
  {
   "cell_type": "code",
   "execution_count": 53,
   "id": "60d93856",
   "metadata": {},
   "outputs": [],
   "source": [
    "def total_length(*args):\n",
    "    return sum(len(x) for x in args)\n",
    "\n",
    "\n",
    "def total_length_v2(*args):\n",
    "    length = 0\n",
    "    for el in args:\n",
    "        length += len(el)\n",
    "    return length\n",
    "\n",
    "\n",
    "assert total_length([4, 5], [6, 7]) == 4\n",
    "assert total_length('hello', {'red':50, 'purple': 100}) == 7\n",
    "\n",
    "\n",
    "assert total_length_v2([4, 5], [6, 7]) == 4\n",
    "assert total_length_v2('hello', {'red':50, 'purple': 100}) == 7"
   ]
  },
  {
   "cell_type": "code",
   "execution_count": 60,
   "id": "565b4aab",
   "metadata": {},
   "outputs": [
    {
     "name": "stdout",
     "output_type": "stream",
     "text": [
      "63 ms ± 407 µs per loop (mean ± std. dev. of 7 runs, 10 loops each)\n"
     ]
    }
   ],
   "source": [
    "%timeit total_length(list(range(1000000)), list(range(1000000)))"
   ]
  },
  {
   "cell_type": "code",
   "execution_count": 61,
   "id": "12369236",
   "metadata": {},
   "outputs": [
    {
     "name": "stdout",
     "output_type": "stream",
     "text": [
      "62 ms ± 248 µs per loop (mean ± std. dev. of 7 runs, 10 loops each)\n"
     ]
    }
   ],
   "source": [
    "%timeit total_length_v2(list(range(1000000)), list(range(1000000)))"
   ]
  },
  {
   "cell_type": "code",
   "execution_count": 65,
   "id": "e41a88aa",
   "metadata": {},
   "outputs": [],
   "source": [
    "assert total_length(range(11), range(12)) == 23"
   ]
  },
  {
   "cell_type": "code",
   "execution_count": 67,
   "id": "bf8c25cb",
   "metadata": {},
   "outputs": [
    {
     "ename": "TypeError",
     "evalue": "object of type 'generator' has no len()",
     "output_type": "error",
     "traceback": [
      "\u001b[0;31m---------------------------------------------------------------------------\u001b[0m",
      "\u001b[0;31mTypeError\u001b[0m                                 Traceback (most recent call last)",
      "Input \u001b[0;32mIn [67]\u001b[0m, in \u001b[0;36m<cell line: 1>\u001b[0;34m()\u001b[0m\n\u001b[0;32m----> 1\u001b[0m \u001b[43mtotal_length\u001b[49m\u001b[43m(\u001b[49m\u001b[43m(\u001b[49m\u001b[43mx\u001b[49m\u001b[43m \u001b[49m\u001b[38;5;28;43;01mfor\u001b[39;49;00m\u001b[43m \u001b[49m\u001b[43mx\u001b[49m\u001b[43m \u001b[49m\u001b[38;5;129;43;01min\u001b[39;49;00m\u001b[43m \u001b[49m\u001b[38;5;28;43mrange\u001b[39;49m\u001b[43m(\u001b[49m\u001b[38;5;241;43m10\u001b[39;49m\u001b[43m)\u001b[49m\u001b[43m)\u001b[49m\u001b[43m)\u001b[49m\n",
      "Input \u001b[0;32mIn [53]\u001b[0m, in \u001b[0;36mtotal_length\u001b[0;34m(*args)\u001b[0m\n\u001b[1;32m      1\u001b[0m \u001b[38;5;28;01mdef\u001b[39;00m \u001b[38;5;21mtotal_length\u001b[39m(\u001b[38;5;241m*\u001b[39margs):\n\u001b[0;32m----> 2\u001b[0m     \u001b[38;5;28;01mreturn\u001b[39;00m \u001b[38;5;28;43msum\u001b[39;49m\u001b[43m(\u001b[49m\u001b[38;5;28;43mlen\u001b[39;49m\u001b[43m(\u001b[49m\u001b[43mx\u001b[49m\u001b[43m)\u001b[49m\u001b[43m \u001b[49m\u001b[38;5;28;43;01mfor\u001b[39;49;00m\u001b[43m \u001b[49m\u001b[43mx\u001b[49m\u001b[43m \u001b[49m\u001b[38;5;129;43;01min\u001b[39;49;00m\u001b[43m \u001b[49m\u001b[43margs\u001b[49m\u001b[43m)\u001b[49m\n",
      "Input \u001b[0;32mIn [53]\u001b[0m, in \u001b[0;36m<genexpr>\u001b[0;34m(.0)\u001b[0m\n\u001b[1;32m      1\u001b[0m \u001b[38;5;28;01mdef\u001b[39;00m \u001b[38;5;21mtotal_length\u001b[39m(\u001b[38;5;241m*\u001b[39margs):\n\u001b[0;32m----> 2\u001b[0m     \u001b[38;5;28;01mreturn\u001b[39;00m \u001b[38;5;28msum\u001b[39m(\u001b[38;5;28;43mlen\u001b[39;49m\u001b[43m(\u001b[49m\u001b[43mx\u001b[49m\u001b[43m)\u001b[49m \u001b[38;5;28;01mfor\u001b[39;00m x \u001b[38;5;129;01min\u001b[39;00m args)\n",
      "\u001b[0;31mTypeError\u001b[0m: object of type 'generator' has no len()"
     ]
    }
   ],
   "source": [
    "total_length((x for x in range(10)))"
   ]
  },
  {
   "cell_type": "code",
   "execution_count": 70,
   "id": "37cd0a7d",
   "metadata": {},
   "outputs": [],
   "source": [
    "def total_length(*iterables):\n",
    "    length = 0\n",
    "    for iterable in iterables:\n",
    "        for _ in iterable:\n",
    "            length += 1\n",
    "    return length\n"
   ]
  },
  {
   "cell_type": "code",
   "execution_count": 71,
   "id": "e54b08e7",
   "metadata": {},
   "outputs": [
    {
     "data": {
      "text/plain": [
       "10"
      ]
     },
     "execution_count": 71,
     "metadata": {},
     "output_type": "execute_result"
    }
   ],
   "source": [
    "total_length((x for x in range(10)))"
   ]
  },
  {
   "cell_type": "code",
   "execution_count": 72,
   "id": "3cc91df8",
   "metadata": {},
   "outputs": [
    {
     "name": "stdout",
     "output_type": "stream",
     "text": [
      "142 ms ± 742 µs per loop (mean ± std. dev. of 7 runs, 10 loops each)\n"
     ]
    }
   ],
   "source": [
    "%timeit total_length(list(range(1000000)), list(range(1000000)))"
   ]
  },
  {
   "cell_type": "code",
   "execution_count": 75,
   "id": "57ce7c9b",
   "metadata": {},
   "outputs": [],
   "source": [
    "def total_length(*iterables):\n",
    "   return sum(\n",
    "       1 \n",
    "       for iterable in iterables\n",
    "       for _ in iterable\n",
    "   )"
   ]
  },
  {
   "cell_type": "code",
   "execution_count": 76,
   "id": "2ad7bb75",
   "metadata": {},
   "outputs": [
    {
     "data": {
      "text/plain": [
       "10"
      ]
     },
     "execution_count": 76,
     "metadata": {},
     "output_type": "execute_result"
    }
   ],
   "source": [
    "total_length((x for x in range(10)))"
   ]
  },
  {
   "cell_type": "code",
   "execution_count": 77,
   "id": "aa274ac2",
   "metadata": {},
   "outputs": [
    {
     "name": "stdout",
     "output_type": "stream",
     "text": [
      "135 ms ± 592 µs per loop (mean ± std. dev. of 7 runs, 10 loops each)\n"
     ]
    }
   ],
   "source": [
    "%timeit total_length(list(range(1000000)), list(range(1000000)))"
   ]
  },
  {
   "cell_type": "code",
   "execution_count": 78,
   "id": "0341dcf7",
   "metadata": {},
   "outputs": [],
   "source": [
    "def total_length(*iterables):\n",
    "    length = 0\n",
    "    for iterable in iterables:\n",
    "        if hasattr(iterable, '__len__'):\n",
    "            length += len(iterable)\n",
    "        else:\n",
    "            length += sum(1 for _ in iterable)\n",
    "    return length"
   ]
  },
  {
   "cell_type": "code",
   "execution_count": 79,
   "id": "a65fe1b0",
   "metadata": {},
   "outputs": [
    {
     "data": {
      "text/plain": [
       "10"
      ]
     },
     "execution_count": 79,
     "metadata": {},
     "output_type": "execute_result"
    }
   ],
   "source": [
    "total_length())"
   ]
  },
  {
   "cell_type": "code",
   "execution_count": 81,
   "id": "df91081a",
   "metadata": {},
   "outputs": [
    {
     "name": "stdout",
     "output_type": "stream",
     "text": [
      "72.9 ms ± 717 µs per loop (mean ± std. dev. of 7 runs, 10 loops each)\n"
     ]
    }
   ],
   "source": [
    "%timeit total_length((x for x in range(100000)), list(range(1000000)), list(range(1000000)), [1, 2, 3])"
   ]
  },
  {
   "cell_type": "code",
   "execution_count": 83,
   "id": "c57356e9",
   "metadata": {},
   "outputs": [],
   "source": [
    "gen = (x for x in range(10))"
   ]
  },
  {
   "cell_type": "code",
   "execution_count": 84,
   "id": "0b5427a7",
   "metadata": {},
   "outputs": [
    {
     "data": {
      "text/plain": [
       "generator"
      ]
     },
     "execution_count": 84,
     "metadata": {},
     "output_type": "execute_result"
    }
   ],
   "source": [
    "type(gen)"
   ]
  },
  {
   "cell_type": "code",
   "execution_count": 85,
   "id": "c9836531",
   "metadata": {},
   "outputs": [
    {
     "data": {
      "text/plain": [
       "False"
      ]
     },
     "execution_count": 85,
     "metadata": {},
     "output_type": "execute_result"
    }
   ],
   "source": [
    "hasattr(gen, \"__len__\")"
   ]
  },
  {
   "cell_type": "code",
   "execution_count": 86,
   "id": "4aa512a9",
   "metadata": {},
   "outputs": [
    {
     "data": {
      "text/plain": [
       "True"
      ]
     },
     "execution_count": 86,
     "metadata": {},
     "output_type": "execute_result"
    }
   ],
   "source": [
    "hasattr([1, 2], \"__len__\")"
   ]
  },
  {
   "cell_type": "code",
   "execution_count": 87,
   "id": "ab8658f0",
   "metadata": {},
   "outputs": [
    {
     "data": {
      "text/plain": [
       "2"
      ]
     },
     "execution_count": 87,
     "metadata": {},
     "output_type": "execute_result"
    }
   ],
   "source": [
    "len([1,2])"
   ]
  },
  {
   "cell_type": "code",
   "execution_count": 88,
   "id": "821e4154",
   "metadata": {},
   "outputs": [
    {
     "data": {
      "text/plain": [
       "2"
      ]
     },
     "execution_count": 88,
     "metadata": {},
     "output_type": "execute_result"
    }
   ],
   "source": [
    "[1, 2].__len__()"
   ]
  },
  {
   "cell_type": "code",
   "execution_count": 89,
   "id": "74efc744",
   "metadata": {},
   "outputs": [
    {
     "ename": "TypeError",
     "evalue": "object of type 'generator' has no len()",
     "output_type": "error",
     "traceback": [
      "\u001b[0;31m---------------------------------------------------------------------------\u001b[0m",
      "\u001b[0;31mTypeError\u001b[0m                                 Traceback (most recent call last)",
      "Input \u001b[0;32mIn [89]\u001b[0m, in \u001b[0;36m<cell line: 1>\u001b[0;34m()\u001b[0m\n\u001b[0;32m----> 1\u001b[0m \u001b[38;5;28;43mlen\u001b[39;49m\u001b[43m(\u001b[49m\u001b[43mgen\u001b[49m\u001b[43m)\u001b[49m\n",
      "\u001b[0;31mTypeError\u001b[0m: object of type 'generator' has no len()"
     ]
    }
   ],
   "source": [
    "len(gen)"
   ]
  },
  {
   "cell_type": "code",
   "execution_count": 91,
   "id": "a7154ca8",
   "metadata": {},
   "outputs": [
    {
     "name": "stdout",
     "output_type": "stream",
     "text": [
      "72.1 ms ± 355 µs per loop (mean ± std. dev. of 7 runs, 10 loops each)\n"
     ]
    }
   ],
   "source": [
    "%%timeit \n",
    "\n",
    "total_length((x for x in range(100000)), list(range(1000000)), list(range(1000000)), [1, 2, 3])"
   ]
  },
  {
   "cell_type": "code",
   "execution_count": 92,
   "id": "4795fd2c",
   "metadata": {},
   "outputs": [
    {
     "data": {
      "application/json": {
       "cell": {
        "!": "OSMagics",
        "HTML": "Other",
        "SVG": "Other",
        "bash": "Other",
        "capture": "ExecutionMagics",
        "debug": "ExecutionMagics",
        "file": "Other",
        "html": "DisplayMagics",
        "javascript": "DisplayMagics",
        "js": "DisplayMagics",
        "latex": "DisplayMagics",
        "markdown": "DisplayMagics",
        "perl": "Other",
        "prun": "ExecutionMagics",
        "pypy": "Other",
        "python": "Other",
        "python2": "Other",
        "python3": "Other",
        "ruby": "Other",
        "script": "ScriptMagics",
        "sh": "Other",
        "svg": "DisplayMagics",
        "sx": "OSMagics",
        "system": "OSMagics",
        "time": "ExecutionMagics",
        "timeit": "ExecutionMagics",
        "writefile": "OSMagics"
       },
       "line": {
        "alias": "OSMagics",
        "alias_magic": "BasicMagics",
        "autoawait": "AsyncMagics",
        "autocall": "AutoMagics",
        "automagic": "AutoMagics",
        "autosave": "KernelMagics",
        "bookmark": "OSMagics",
        "cat": "Other",
        "cd": "OSMagics",
        "clear": "KernelMagics",
        "colors": "BasicMagics",
        "conda": "PackagingMagics",
        "config": "ConfigMagics",
        "connect_info": "KernelMagics",
        "cp": "Other",
        "debug": "ExecutionMagics",
        "dhist": "OSMagics",
        "dirs": "OSMagics",
        "doctest_mode": "BasicMagics",
        "ed": "Other",
        "edit": "KernelMagics",
        "env": "OSMagics",
        "gui": "BasicMagics",
        "hist": "Other",
        "history": "HistoryMagics",
        "killbgscripts": "ScriptMagics",
        "ldir": "Other",
        "less": "KernelMagics",
        "lf": "Other",
        "lk": "Other",
        "ll": "Other",
        "load": "CodeMagics",
        "load_ext": "ExtensionMagics",
        "loadpy": "CodeMagics",
        "logoff": "LoggingMagics",
        "logon": "LoggingMagics",
        "logstart": "LoggingMagics",
        "logstate": "LoggingMagics",
        "logstop": "LoggingMagics",
        "ls": "Other",
        "lsmagic": "BasicMagics",
        "lx": "Other",
        "macro": "ExecutionMagics",
        "magic": "BasicMagics",
        "man": "KernelMagics",
        "matplotlib": "PylabMagics",
        "mkdir": "Other",
        "more": "KernelMagics",
        "mv": "Other",
        "notebook": "BasicMagics",
        "page": "BasicMagics",
        "pastebin": "CodeMagics",
        "pdb": "ExecutionMagics",
        "pdef": "NamespaceMagics",
        "pdoc": "NamespaceMagics",
        "pfile": "NamespaceMagics",
        "pinfo": "NamespaceMagics",
        "pinfo2": "NamespaceMagics",
        "pip": "PackagingMagics",
        "popd": "OSMagics",
        "pprint": "BasicMagics",
        "precision": "BasicMagics",
        "prun": "ExecutionMagics",
        "psearch": "NamespaceMagics",
        "psource": "NamespaceMagics",
        "pushd": "OSMagics",
        "pwd": "OSMagics",
        "pycat": "OSMagics",
        "pylab": "PylabMagics",
        "qtconsole": "KernelMagics",
        "quickref": "BasicMagics",
        "recall": "HistoryMagics",
        "rehashx": "OSMagics",
        "reload_ext": "ExtensionMagics",
        "rep": "Other",
        "rerun": "HistoryMagics",
        "reset": "NamespaceMagics",
        "reset_selective": "NamespaceMagics",
        "rm": "Other",
        "rmdir": "Other",
        "run": "ExecutionMagics",
        "save": "CodeMagics",
        "sc": "OSMagics",
        "set_env": "OSMagics",
        "store": "StoreMagics",
        "sx": "OSMagics",
        "system": "OSMagics",
        "tb": "ExecutionMagics",
        "time": "ExecutionMagics",
        "timeit": "ExecutionMagics",
        "unalias": "OSMagics",
        "unload_ext": "ExtensionMagics",
        "who": "NamespaceMagics",
        "who_ls": "NamespaceMagics",
        "whos": "NamespaceMagics",
        "xdel": "NamespaceMagics",
        "xmode": "BasicMagics"
       }
      },
      "text/plain": [
       "Available line magics:\n",
       "%alias  %alias_magic  %autoawait  %autocall  %automagic  %autosave  %bookmark  %cat  %cd  %clear  %colors  %conda  %config  %connect_info  %cp  %debug  %dhist  %dirs  %doctest_mode  %ed  %edit  %env  %gui  %hist  %history  %killbgscripts  %ldir  %less  %lf  %lk  %ll  %load  %load_ext  %loadpy  %logoff  %logon  %logstart  %logstate  %logstop  %ls  %lsmagic  %lx  %macro  %magic  %man  %matplotlib  %mkdir  %more  %mv  %notebook  %page  %pastebin  %pdb  %pdef  %pdoc  %pfile  %pinfo  %pinfo2  %pip  %popd  %pprint  %precision  %prun  %psearch  %psource  %pushd  %pwd  %pycat  %pylab  %qtconsole  %quickref  %recall  %rehashx  %reload_ext  %rep  %rerun  %reset  %reset_selective  %rm  %rmdir  %run  %save  %sc  %set_env  %store  %sx  %system  %tb  %time  %timeit  %unalias  %unload_ext  %who  %who_ls  %whos  %xdel  %xmode\n",
       "\n",
       "Available cell magics:\n",
       "%%!  %%HTML  %%SVG  %%bash  %%capture  %%debug  %%file  %%html  %%javascript  %%js  %%latex  %%markdown  %%perl  %%prun  %%pypy  %%python  %%python2  %%python3  %%ruby  %%script  %%sh  %%svg  %%sx  %%system  %%time  %%timeit  %%writefile\n",
       "\n",
       "Automagic is ON, % prefix IS NOT needed for line magics."
      ]
     },
     "execution_count": 92,
     "metadata": {},
     "output_type": "execute_result"
    }
   ],
   "source": [
    "%lsmagic"
   ]
  },
  {
   "cell_type": "code",
   "execution_count": 93,
   "id": "c7e44af2",
   "metadata": {},
   "outputs": [
    {
     "name": "stdout",
     "output_type": "stream",
     "text": [
      "Writing xxx.txt\n"
     ]
    }
   ],
   "source": [
    "%%writefile xxx.txt\n",
    "\n",
    "dsds\n",
    "\n",
    "sds\n",
    "def\n",
    "sdsd"
   ]
  },
  {
   "cell_type": "markdown",
   "id": "c031b7fa",
   "metadata": {},
   "source": [
    "|\n",
    "\n",
    "### funkcje jako argumenty\n",
    "\n",
    "Napisz funkcję `cut`, która przyjmie jako argument listę oraz dwie funkcje określające kiedy zacząć wybieranie i kiedy kończyć.\n",
    "\n",
    "np.:\n",
    "\n",
    "    cut([1, 2, 3, 4, 5, 6, 7, 8], start=lambda x: x > 3, stop=lambda x: x==7)\n",
    "    [4, 5, 6, 7]\n",
    "    \n",
    "    \n",
    "    cut([1, 2, 3, 4, 5, 6, 7, 8], start=lambda x: x > 3, stop=lambda x: x<7)\n",
    "    [4]\n",
    "    \n",
    "    cut([1, 2, 3, 4, 8, 8, 8, 8, 1], start=lambda x: x > 3, stop=lambda x: x<4)\n",
    "    [4, 8, 8, 8, 8, 6]\n",
    "        \n",
    "    cut([\"x\", \"y\", \"z\", \"zz\"], start=lambda x: x == \"y\", stop=lambda x: x==\"zz\")\n",
    "    [ \"y\", \"z\", \"zz\"]"
   ]
  },
  {
   "cell_type": "code",
   "execution_count": 98,
   "id": "3a88a81a",
   "metadata": {},
   "outputs": [],
   "source": [
    "from typing import Callable, List, Union\n",
    "\n",
    "def cut(data: List[Union[int, str]], start: Callable, stop: Callable) -> List[Union[int, str]]:\n",
    "    result = []\n",
    "    \n",
    "    can_add = False\n",
    "    \n",
    "    for el in data:\n",
    "        if not can_add and start(el):\n",
    "            can_add = True\n",
    "            \n",
    "        if can_add:\n",
    "            result.append(el)\n",
    "            if stop(el): break\n",
    "    \n",
    "    return result\n",
    "\n",
    "\n",
    "assert cut([1, 2, 3, 4, 5, 6, 7, 8], start=lambda x: x > 3, stop=lambda x: x==7) == [4, 5, 6, 7]\n",
    "\n",
    "assert cut([1, 2, 3, 4, 5, 6, 7, 8], start=lambda x: x > 3, stop=lambda x: x<7) == [4]\n",
    "\n",
    "assert cut([1, 2, 3, 4, 8, 8, 8, 8, 6], start=lambda x: x > 3, stop=lambda x: x<4) == [4, 8, 8, 8, 8, 6]\n",
    "\n",
    "assert cut([\"x\", \"y\", \"z\", \"zz\"], start=lambda x: x == \"y\", stop=lambda x: x==\"zz\") ==[ \"y\", \"z\", \"zz\"]                \n",
    "                \n",
    "            "
   ]
  },
  {
   "cell_type": "markdown",
   "id": "70bed6aa",
   "metadata": {},
   "source": [
    "# Klasy"
   ]
  },
  {
   "cell_type": "code",
   "execution_count": 100,
   "id": "1a8c59f6",
   "metadata": {},
   "outputs": [
    {
     "data": {
      "text/plain": [
       "<__main__.Vehicle at 0x10f9661d0>"
      ]
     },
     "execution_count": 100,
     "metadata": {},
     "output_type": "execute_result"
    }
   ],
   "source": [
    "class Vehicle: pass\n",
    "\n",
    "v = Vehicle()\n",
    "\n",
    "v"
   ]
  },
  {
   "cell_type": "code",
   "execution_count": 101,
   "id": "57ce88bc",
   "metadata": {},
   "outputs": [
    {
     "data": {
      "text/plain": [
       "__main__.Vehicle"
      ]
     },
     "execution_count": 101,
     "metadata": {},
     "output_type": "execute_result"
    }
   ],
   "source": [
    "type(v)"
   ]
  },
  {
   "cell_type": "code",
   "execution_count": 102,
   "id": "f4730f4b",
   "metadata": {},
   "outputs": [
    {
     "data": {
      "text/plain": [
       "['__class__',\n",
       " '__delattr__',\n",
       " '__dict__',\n",
       " '__dir__',\n",
       " '__doc__',\n",
       " '__eq__',\n",
       " '__format__',\n",
       " '__ge__',\n",
       " '__getattribute__',\n",
       " '__gt__',\n",
       " '__hash__',\n",
       " '__init__',\n",
       " '__init_subclass__',\n",
       " '__le__',\n",
       " '__lt__',\n",
       " '__module__',\n",
       " '__ne__',\n",
       " '__new__',\n",
       " '__reduce__',\n",
       " '__reduce_ex__',\n",
       " '__repr__',\n",
       " '__setattr__',\n",
       " '__sizeof__',\n",
       " '__str__',\n",
       " '__subclasshook__',\n",
       " '__weakref__']"
      ]
     },
     "execution_count": 102,
     "metadata": {},
     "output_type": "execute_result"
    }
   ],
   "source": [
    "dir(v)"
   ]
  },
  {
   "cell_type": "code",
   "execution_count": 103,
   "id": "0915894c",
   "metadata": {},
   "outputs": [],
   "source": [
    "v.name = \"Mercedes\""
   ]
  },
  {
   "cell_type": "code",
   "execution_count": 106,
   "id": "23d664fe",
   "metadata": {},
   "outputs": [],
   "source": [
    "Vehicle.description = \"Pojazdy wszelakie\""
   ]
  },
  {
   "cell_type": "code",
   "execution_count": 107,
   "id": "3fc79459",
   "metadata": {},
   "outputs": [
    {
     "data": {
      "text/plain": [
       "'Pojazdy wszelakie'"
      ]
     },
     "execution_count": 107,
     "metadata": {},
     "output_type": "execute_result"
    }
   ],
   "source": [
    "v.description"
   ]
  },
  {
   "cell_type": "code",
   "execution_count": 108,
   "id": "8399ad31",
   "metadata": {},
   "outputs": [],
   "source": [
    "v2  = \"Ford\""
   ]
  },
  {
   "cell_type": "code",
   "execution_count": 109,
   "id": "8ce2d617",
   "metadata": {},
   "outputs": [],
   "source": [
    "v2 = Vehicle()"
   ]
  },
  {
   "cell_type": "code",
   "execution_count": 110,
   "id": "e7d4aae4",
   "metadata": {},
   "outputs": [
    {
     "data": {
      "text/plain": [
       "'Pojazdy wszelakie'"
      ]
     },
     "execution_count": 110,
     "metadata": {},
     "output_type": "execute_result"
    }
   ],
   "source": [
    "v2.description\n"
   ]
  },
  {
   "cell_type": "code",
   "execution_count": 172,
   "id": "f818e304",
   "metadata": {},
   "outputs": [],
   "source": [
    "class Vehicle:\n",
    "    description: str = \"Pojazdy wszelakie\"\n",
    "    count = 0\n",
    "    def __init__(self, name: str):\n",
    "        # Vehicle.count += 1\n",
    "        self.__class__.count += 1\n",
    "        self.name = name\n",
    "        \n",
    "    def __del__(self):\n",
    "        self.__class__.count -= 1\n",
    "        \n",
    "        \n",
    "    def __repr__(self):\n",
    "        return f\"<Vehicle: {self.name}>\"\n",
    "        "
   ]
  },
  {
   "cell_type": "code",
   "execution_count": 173,
   "id": "6c9052b7",
   "metadata": {},
   "outputs": [],
   "source": [
    "v = Vehicle(\"Ford\")"
   ]
  },
  {
   "cell_type": "code",
   "execution_count": 176,
   "id": "4d288659",
   "metadata": {},
   "outputs": [
    {
     "data": {
      "text/plain": [
       "'<Vehicle: Ford>'"
      ]
     },
     "execution_count": 176,
     "metadata": {},
     "output_type": "execute_result"
    }
   ],
   "source": [
    "repr(v)"
   ]
  },
  {
   "cell_type": "code",
   "execution_count": 167,
   "id": "cba27365",
   "metadata": {},
   "outputs": [
    {
     "data": {
      "text/plain": [
       "'[Ford]'"
      ]
     },
     "execution_count": 167,
     "metadata": {},
     "output_type": "execute_result"
    }
   ],
   "source": [
    "str([v])"
   ]
  },
  {
   "cell_type": "code",
   "execution_count": 152,
   "id": "22bfae19",
   "metadata": {},
   "outputs": [
    {
     "data": {
      "text/plain": [
       "'Ford'"
      ]
     },
     "execution_count": 152,
     "metadata": {},
     "output_type": "execute_result"
    }
   ],
   "source": [
    "v.description\n",
    "v.name"
   ]
  },
  {
   "cell_type": "code",
   "execution_count": 153,
   "id": "c3e23e74",
   "metadata": {},
   "outputs": [
    {
     "data": {
      "text/plain": [
       "1"
      ]
     },
     "execution_count": 153,
     "metadata": {},
     "output_type": "execute_result"
    }
   ],
   "source": [
    "v.count"
   ]
  },
  {
   "cell_type": "code",
   "execution_count": 154,
   "id": "83927af9",
   "metadata": {},
   "outputs": [
    {
     "data": {
      "text/plain": [
       "__main__.Vehicle"
      ]
     },
     "execution_count": 154,
     "metadata": {},
     "output_type": "execute_result"
    }
   ],
   "source": [
    "v.__class__"
   ]
  },
  {
   "cell_type": "code",
   "execution_count": 155,
   "id": "8976cb30",
   "metadata": {},
   "outputs": [],
   "source": [
    "assert Vehicle.count == 1"
   ]
  },
  {
   "cell_type": "code",
   "execution_count": 156,
   "id": "779a80af",
   "metadata": {},
   "outputs": [],
   "source": [
    "v2 = Vehicle(\"Mercedes\")\n",
    "assert Vehicle.count == 2"
   ]
  },
  {
   "cell_type": "code",
   "execution_count": 157,
   "id": "c8cd6e64",
   "metadata": {},
   "outputs": [],
   "source": [
    "del v"
   ]
  },
  {
   "cell_type": "code",
   "execution_count": 158,
   "id": "de7fa514",
   "metadata": {},
   "outputs": [
    {
     "data": {
      "text/plain": [
       "1"
      ]
     },
     "execution_count": 158,
     "metadata": {},
     "output_type": "execute_result"
    }
   ],
   "source": [
    "Vehicle.count"
   ]
  },
  {
   "cell_type": "markdown",
   "id": "03715716",
   "metadata": {},
   "source": [
    "### metody\n",
    "\n"
   ]
  },
  {
   "cell_type": "code",
   "execution_count": 220,
   "id": "afb4d68a",
   "metadata": {},
   "outputs": [],
   "source": [
    "class Vehicle:\n",
    "    description: str = \"Pojazdy wszelakie\"\n",
    "    count = 0\n",
    "    def __init__(self, name: str):\n",
    "        # Vehicle.count += 1\n",
    "        self.__class__.count += 1\n",
    "        self.name = name\n",
    "        # self.name_len = len(name)\n",
    "        self._energy = 100\n",
    "        \n",
    "    def __del__(self):\n",
    "        self.__class__.count -= 1\n",
    "        \n",
    "        \n",
    "    def __repr__(self):\n",
    "        return f\"<Vehicle: {self.name}>\"\n",
    "    \n",
    "    def drive(self):\n",
    "        print(f\"{self} is driving\")\n",
    "    \n",
    "    @property\n",
    "    def name_len(self):\n",
    "        return len(self.name)\n",
    "    \n",
    "    @property\n",
    "    def energy(self):\n",
    "        return self._energy\n",
    "    \n",
    "    \n",
    "    @energy.setter\n",
    "    def energy(self, value):\n",
    "        if 0 <= value <= 100:\n",
    "            self._energy = value\n",
    "        else:\n",
    "            raise ValueError(\"Energia powinna byc w zakresie 0-100\")\n",
    "    \n",
    "    def charge(self):\n",
    "        self._energy = 100"
   ]
  },
  {
   "cell_type": "code",
   "execution_count": 221,
   "id": "44e20edb",
   "metadata": {},
   "outputs": [],
   "source": [
    "v = Vehicle(\"Ford\")"
   ]
  },
  {
   "cell_type": "code",
   "execution_count": 201,
   "id": "bc5d5f5a",
   "metadata": {},
   "outputs": [
    {
     "name": "stdout",
     "output_type": "stream",
     "text": [
      "<Vehicle: Ford> is driving\n"
     ]
    }
   ],
   "source": [
    "v.drive()"
   ]
  },
  {
   "cell_type": "code",
   "execution_count": 202,
   "id": "e30d3821",
   "metadata": {},
   "outputs": [
    {
     "name": "stdout",
     "output_type": "stream",
     "text": [
      "<Vehicle: Ford> is driving\n"
     ]
    }
   ],
   "source": [
    "Vehicle.drive(v)"
   ]
  },
  {
   "cell_type": "code",
   "execution_count": 204,
   "id": "b047237e",
   "metadata": {},
   "outputs": [
    {
     "data": {
      "text/plain": [
       "4"
      ]
     },
     "execution_count": 204,
     "metadata": {},
     "output_type": "execute_result"
    }
   ],
   "source": [
    "v.name_len"
   ]
  },
  {
   "cell_type": "code",
   "execution_count": 205,
   "id": "f988ef75",
   "metadata": {},
   "outputs": [],
   "source": [
    "v.name = \"Ford Mustang\""
   ]
  },
  {
   "cell_type": "code",
   "execution_count": 206,
   "id": "7dc896c1",
   "metadata": {},
   "outputs": [
    {
     "data": {
      "text/plain": [
       "<Vehicle: Ford Mustang>"
      ]
     },
     "execution_count": 206,
     "metadata": {},
     "output_type": "execute_result"
    }
   ],
   "source": [
    "v"
   ]
  },
  {
   "cell_type": "code",
   "execution_count": 207,
   "id": "2c08f9e5",
   "metadata": {},
   "outputs": [
    {
     "data": {
      "text/plain": [
       "12"
      ]
     },
     "execution_count": 207,
     "metadata": {},
     "output_type": "execute_result"
    }
   ],
   "source": [
    "v.name_len"
   ]
  },
  {
   "cell_type": "code",
   "execution_count": 222,
   "id": "8b12bb6b",
   "metadata": {},
   "outputs": [
    {
     "data": {
      "text/plain": [
       "100"
      ]
     },
     "execution_count": 222,
     "metadata": {},
     "output_type": "execute_result"
    }
   ],
   "source": [
    "v.energy"
   ]
  },
  {
   "cell_type": "code",
   "execution_count": 223,
   "id": "87e88b44",
   "metadata": {},
   "outputs": [],
   "source": [
    "v.energy = 3"
   ]
  },
  {
   "cell_type": "code",
   "execution_count": 224,
   "id": "b9d0215b",
   "metadata": {},
   "outputs": [
    {
     "data": {
      "text/plain": [
       "3"
      ]
     },
     "execution_count": 224,
     "metadata": {},
     "output_type": "execute_result"
    }
   ],
   "source": [
    "v.energy"
   ]
  },
  {
   "cell_type": "code",
   "execution_count": 225,
   "id": "e2838b11",
   "metadata": {},
   "outputs": [
    {
     "ename": "ValueError",
     "evalue": "Energia powinna byc w zakresie 0-100",
     "output_type": "error",
     "traceback": [
      "\u001b[0;31m---------------------------------------------------------------------------\u001b[0m",
      "\u001b[0;31mValueError\u001b[0m                                Traceback (most recent call last)",
      "Input \u001b[0;32mIn [225]\u001b[0m, in \u001b[0;36m<cell line: 1>\u001b[0;34m()\u001b[0m\n\u001b[0;32m----> 1\u001b[0m v\u001b[38;5;241m.\u001b[39menergy \u001b[38;5;241m=\u001b[39m \u001b[38;5;241m101\u001b[39m\n",
      "Input \u001b[0;32mIn [220]\u001b[0m, in \u001b[0;36mVehicle.energy\u001b[0;34m(self, value)\u001b[0m\n\u001b[1;32m     33\u001b[0m     \u001b[38;5;28mself\u001b[39m\u001b[38;5;241m.\u001b[39m_energy \u001b[38;5;241m=\u001b[39m value\n\u001b[1;32m     34\u001b[0m \u001b[38;5;28;01melse\u001b[39;00m:\n\u001b[0;32m---> 35\u001b[0m     \u001b[38;5;28;01mraise\u001b[39;00m \u001b[38;5;167;01mValueError\u001b[39;00m(\u001b[38;5;124m\"\u001b[39m\u001b[38;5;124mEnergia powinna byc w zakresie 0-100\u001b[39m\u001b[38;5;124m\"\u001b[39m)\n",
      "\u001b[0;31mValueError\u001b[0m: Energia powinna byc w zakresie 0-100"
     ]
    }
   ],
   "source": [
    "v.energy = 101"
   ]
  },
  {
   "cell_type": "markdown",
   "id": "b6900c89",
   "metadata": {},
   "source": [
    "### Przeciążanie operatorów"
   ]
  },
  {
   "cell_type": "code",
   "execution_count": 275,
   "id": "7b84cf57",
   "metadata": {},
   "outputs": [],
   "source": [
    "class MyInt:\n",
    "    \n",
    "    def __init__(self, value=None):\n",
    "        self.value = 0\n",
    "        if value:\n",
    "            self.value = value\n",
    "\n",
    "    def __repr__(self): return f\"{self.value}\"\n",
    "\n",
    "    \n",
    "    def __add__(self, other):\n",
    "        if isinstance(other, MyInt):\n",
    "            return self.__class__(self.value + other.value)\n",
    "        elif isinstance(other, int):\n",
    "            return self.__class__(self.value + other)\n",
    "        else:\n",
    "            return NotImplemented\n",
    "        \n",
    "    def __eq__(self, other):\n",
    "        if isinstance(other, MyInt):\n",
    "            return self.value == other.value\n",
    "        elif isinstance(other, int):\n",
    "            self.value == other\n",
    "        else:\n",
    "            return NotImplemented\n",
    "        \n",
    "    # *  __mul__, __rmul__\n",
    "    # /  __truediv__\n",
    "    # // __div__\n",
    "    # ... https://www.geeksforgeeks.org/operator-overloading-in-python/\n",
    "\n",
    "    \n",
    "    def __radd__(self, other):\n",
    "        return self.__add__(other)\n",
    "    \n",
    "    \n",
    "a = MyInt(10)\n",
    "b = MyInt(20)\n",
    "c = MyInt(10)"
   ]
  },
  {
   "cell_type": "code",
   "execution_count": 276,
   "id": "134d681e",
   "metadata": {},
   "outputs": [
    {
     "data": {
      "text/plain": [
       "10"
      ]
     },
     "execution_count": 276,
     "metadata": {},
     "output_type": "execute_result"
    }
   ],
   "source": [
    "a"
   ]
  },
  {
   "cell_type": "code",
   "execution_count": 254,
   "id": "baf969e5",
   "metadata": {},
   "outputs": [
    {
     "data": {
      "text/plain": [
       "30"
      ]
     },
     "execution_count": 254,
     "metadata": {},
     "output_type": "execute_result"
    }
   ],
   "source": [
    "10 + 20"
   ]
  },
  {
   "cell_type": "code",
   "execution_count": 266,
   "id": "b12acd6d",
   "metadata": {},
   "outputs": [
    {
     "data": {
      "text/plain": [
       "11"
      ]
     },
     "execution_count": 266,
     "metadata": {},
     "output_type": "execute_result"
    }
   ],
   "source": [
    "a + 1   # a.__add__(1)"
   ]
  },
  {
   "cell_type": "code",
   "execution_count": 262,
   "id": "aed15daf",
   "metadata": {},
   "outputs": [
    {
     "data": {
      "text/plain": [
       "11"
      ]
     },
     "execution_count": 262,
     "metadata": {},
     "output_type": "execute_result"
    }
   ],
   "source": [
    "1 + a   # 1.__add__(a) -> if fail... ->  a.__radd__(1)"
   ]
  },
  {
   "cell_type": "code",
   "execution_count": 277,
   "id": "42ce7a69",
   "metadata": {},
   "outputs": [
    {
     "data": {
      "text/plain": [
       "True"
      ]
     },
     "execution_count": 277,
     "metadata": {},
     "output_type": "execute_result"
    }
   ],
   "source": [
    "a == c"
   ]
  },
  {
   "cell_type": "code",
   "execution_count": 278,
   "id": "f8d3ad74",
   "metadata": {},
   "outputs": [
    {
     "data": {
      "text/plain": [
       "4565726976"
      ]
     },
     "execution_count": 278,
     "metadata": {},
     "output_type": "execute_result"
    }
   ],
   "source": [
    "id(a)"
   ]
  },
  {
   "cell_type": "code",
   "execution_count": 279,
   "id": "432a0f4f",
   "metadata": {},
   "outputs": [
    {
     "data": {
      "text/plain": [
       "4565716992"
      ]
     },
     "execution_count": 279,
     "metadata": {},
     "output_type": "execute_result"
    }
   ],
   "source": [
    "id(c)"
   ]
  },
  {
   "cell_type": "markdown",
   "id": "575fbce8",
   "metadata": {},
   "source": [
    "### Zadanie\n",
    "\n",
    "1. Stwórz klasę reprezentującą okręg (Circle)\n",
    "\n",
    "Okrąg powinien mieć promień (`radius`), średnicę (`diameter`) i pole powierzchni (`area`) oraz przyjemną reprezentację napisową\n",
    "\n",
    "Np:\n",
    "\n",
    "```\n",
    "    >>> c = Circle(5)\n",
    "    >>> c\n",
    "    Circle(5)\n",
    "    >>> c.radius\n",
    "    5\n",
    "    >>> c.diameter\n",
    "    10\n",
    "    >>> c.area\n",
    "    78.53981633974483\n",
    "```\n",
    "\n",
    "2. Promień domyślnie powinien przyjemować wartość 1:\n",
    "\n",
    "```\n",
    "    >>> c = Circle()\n",
    "    >>> c.radius\n",
    "    1\n",
    "    >>> c.diameter\n",
    "    2\n",
    "```\n",
    "\n",
    "3. Kiedy promień się zmienia zmieniają się też średnica i pole powierzchni, np:\n",
    "\n",
    "```\n",
    "    >>> c = Circle(2)\n",
    "    >>> c.radius = 1\n",
    "    >>> c.diameter\n",
    "    2\n",
    "    >>> c.area\n",
    "    3.141592653589793\n",
    "    >>> c\n",
    "    Circle(1)\n",
    "```\n",
    "\n",
    "\n",
    "4. Można ustawić średnicę i wpływa to na promień i pole\n",
    "```\n",
    "    >>> c = Circle(1)\n",
    "    >>> c.diameter = 4\n",
    "    >>> c.radius\n",
    "    2.0\n",
    "```    \n",
    "5. Można ustawić pole powierzhni.\n",
    "\n",
    "```\n",
    "    >>> c = Circle(1)\n",
    "    >>> c.area = math.pi * 5 ** 2\n",
    "    >>> c.radius\n",
    "    5.0\n",
    "```\n",
    "6. Promień nie może być liczbą mniejszą od zera:\n",
    "```\n",
    "    >>> c = Circle(5)\n",
    "    >>> c.radius = 3\n",
    "    >>> c.radius = -2\n",
    "    Traceback (most recent call last):\n",
    "      File \"<stdin>\", line 1, in <module>\n",
    "      File \"circle.py\", line 27, in radius\n",
    "        raise ValueError(\"Radius cannot be negative\")\n",
    "    ValueError: R\n",
    "```"
   ]
  },
  {
   "cell_type": "code",
   "execution_count": 283,
   "id": "d226f0fe",
   "metadata": {},
   "outputs": [
    {
     "ename": "AttributeError",
     "evalue": "'Circle' object has no attribute '__radius'",
     "output_type": "error",
     "traceback": [
      "\u001b[0;31m---------------------------------------------------------------------------\u001b[0m",
      "\u001b[0;31mAttributeError\u001b[0m                            Traceback (most recent call last)",
      "Input \u001b[0;32mIn [283]\u001b[0m, in \u001b[0;36m<cell line: 21>\u001b[0;34m()\u001b[0m\n\u001b[1;32m     19\u001b[0m c\u001b[38;5;241m.\u001b[39mradius \u001b[38;5;241m=\u001b[39m \u001b[38;5;241m2\u001b[39m\n\u001b[1;32m     20\u001b[0m \u001b[38;5;66;03m# c.__radius = 5\u001b[39;00m\n\u001b[0;32m---> 21\u001b[0m \u001b[43mc\u001b[49m\u001b[38;5;241;43m.\u001b[39;49m\u001b[43m__radius\u001b[49m\n",
      "\u001b[0;31mAttributeError\u001b[0m: 'Circle' object has no attribute '__radius'"
     ]
    }
   ],
   "source": [
    "class Circle:\n",
    "    \n",
    "    def __init__(self, radius):\n",
    "        self.radius = radius\n",
    "        \n",
    "    \n",
    "    def set_radius(self, value):\n",
    "        self.__radius = value\n",
    "    \n",
    "    @property\n",
    "    def radius(self):\n",
    "        return self.__radius\n",
    "    \n",
    "    @radius.setter\n",
    "    def radius(self, value):\n",
    "        if value < 0: raise ValueError(\"Promien ujemny?\")\n",
    "        self.__radius = value    \n",
    "    \n",
    "    @property\n",
    "    def diameter(self):\n",
    "        return self.radius * 2\n",
    "    \n",
    "    @diameter.setter\n",
    "    def diameter(self, value):\n",
    "        self.radius = value / 2\n",
    "    \n",
    "        \n",
    "    \n",
    "    \n",
    "c = Circle(-1)\n",
    "c.radius = 2\n",
    "# c.__radius = 5\n",
    "c.__radius"
   ]
  },
  {
   "cell_type": "code",
   "execution_count": 284,
   "id": "12d33e7b",
   "metadata": {},
   "outputs": [
    {
     "data": {
      "text/plain": [
       "2"
      ]
     },
     "execution_count": 284,
     "metadata": {},
     "output_type": "execute_result"
    }
   ],
   "source": [
    "c._Circle__radius"
   ]
  },
  {
   "cell_type": "code",
   "execution_count": 285,
   "id": "46530db4",
   "metadata": {},
   "outputs": [],
   "source": [
    "c.__radius = 10"
   ]
  },
  {
   "cell_type": "code",
   "execution_count": 286,
   "id": "936e9af0",
   "metadata": {},
   "outputs": [
    {
     "data": {
      "text/plain": [
       "10"
      ]
     },
     "execution_count": 286,
     "metadata": {},
     "output_type": "execute_result"
    }
   ],
   "source": [
    "c.__radius"
   ]
  },
  {
   "cell_type": "code",
   "execution_count": 287,
   "id": "f3b14a1f",
   "metadata": {},
   "outputs": [
    {
     "data": {
      "text/plain": [
       "2"
      ]
     },
     "execution_count": 287,
     "metadata": {},
     "output_type": "execute_result"
    }
   ],
   "source": [
    "c.radius"
   ]
  },
  {
   "cell_type": "code",
   "execution_count": 289,
   "id": "2913397b",
   "metadata": {},
   "outputs": [
    {
     "data": {
      "text/plain": [
       "{'_Circle__radius': 2, '__radius': 10}"
      ]
     },
     "execution_count": 289,
     "metadata": {},
     "output_type": "execute_result"
    }
   ],
   "source": [
    "vars(c)"
   ]
  },
  {
   "cell_type": "code",
   "execution_count": 290,
   "id": "3ac20325",
   "metadata": {},
   "outputs": [],
   "source": [
    "c._Circle__radius = 5"
   ]
  },
  {
   "cell_type": "code",
   "execution_count": 291,
   "id": "d8992f46",
   "metadata": {},
   "outputs": [
    {
     "data": {
      "text/plain": [
       "5"
      ]
     },
     "execution_count": 291,
     "metadata": {},
     "output_type": "execute_result"
    }
   ],
   "source": [
    "c.radius"
   ]
  },
  {
   "cell_type": "code",
   "execution_count": 292,
   "id": "54b91583",
   "metadata": {},
   "outputs": [],
   "source": [
    "c.xxxx = 10"
   ]
  },
  {
   "cell_type": "code",
   "execution_count": 293,
   "id": "b5413f6d",
   "metadata": {},
   "outputs": [
    {
     "data": {
      "text/plain": [
       "{'_Circle__radius': 5, '__radius': 10, 'xxxx': 10}"
      ]
     },
     "execution_count": 293,
     "metadata": {},
     "output_type": "execute_result"
    }
   ],
   "source": [
    "vars(c)"
   ]
  },
  {
   "cell_type": "code",
   "execution_count": 295,
   "id": "e589ffcd",
   "metadata": {},
   "outputs": [
    {
     "data": {
      "text/plain": [
       "{'_Circle__radius': 5, '__radius': 10, 'xxxx': 10}"
      ]
     },
     "execution_count": 295,
     "metadata": {},
     "output_type": "execute_result"
    }
   ],
   "source": [
    "c.__dict__\n"
   ]
  },
  {
   "cell_type": "markdown",
   "id": "f7b66797",
   "metadata": {},
   "source": [
    "### Slots"
   ]
  },
  {
   "cell_type": "code",
   "execution_count": 296,
   "id": "f24de7e4",
   "metadata": {},
   "outputs": [],
   "source": [
    "class NormalClass:\n",
    "    classattr = \"foo\"\n",
    "    def __init__(self):\n",
    "        self.x = 1\n",
    "        self.y = 2\n",
    "\n",
    "n = NormalClass()"
   ]
  },
  {
   "cell_type": "code",
   "execution_count": 297,
   "id": "058a3411",
   "metadata": {},
   "outputs": [
    {
     "data": {
      "text/plain": [
       "{'x': 1, 'y': 2}"
      ]
     },
     "execution_count": 297,
     "metadata": {},
     "output_type": "execute_result"
    }
   ],
   "source": [
    "vars(n)"
   ]
  },
  {
   "cell_type": "code",
   "execution_count": 298,
   "id": "59e7e166",
   "metadata": {},
   "outputs": [],
   "source": [
    "n.z = 10"
   ]
  },
  {
   "cell_type": "code",
   "execution_count": 299,
   "id": "23801529",
   "metadata": {},
   "outputs": [
    {
     "data": {
      "text/plain": [
       "{'x': 1, 'y': 2, 'z': 10}"
      ]
     },
     "execution_count": 299,
     "metadata": {},
     "output_type": "execute_result"
    }
   ],
   "source": [
    "vars(n)"
   ]
  },
  {
   "cell_type": "code",
   "execution_count": 302,
   "id": "aeb5d0da",
   "metadata": {},
   "outputs": [],
   "source": [
    "class SlottedClass:\n",
    "    __slots__ = (\"x\", \"y\")\n",
    "    classattr = \"foo\"\n",
    "    def __init__(self):\n",
    "        self.x = 1\n",
    "        self.y = 2\n",
    "\n",
    "s = SlottedClass()"
   ]
  },
  {
   "cell_type": "code",
   "execution_count": 303,
   "id": "e7f2ea7b",
   "metadata": {},
   "outputs": [
    {
     "ename": "TypeError",
     "evalue": "vars() argument must have __dict__ attribute",
     "output_type": "error",
     "traceback": [
      "\u001b[0;31m---------------------------------------------------------------------------\u001b[0m",
      "\u001b[0;31mTypeError\u001b[0m                                 Traceback (most recent call last)",
      "Input \u001b[0;32mIn [303]\u001b[0m, in \u001b[0;36m<cell line: 1>\u001b[0;34m()\u001b[0m\n\u001b[0;32m----> 1\u001b[0m \u001b[38;5;28;43mvars\u001b[39;49m\u001b[43m(\u001b[49m\u001b[43ms\u001b[49m\u001b[43m)\u001b[49m\n",
      "\u001b[0;31mTypeError\u001b[0m: vars() argument must have __dict__ attribute"
     ]
    }
   ],
   "source": [
    "vars(s)"
   ]
  },
  {
   "cell_type": "code",
   "execution_count": 304,
   "id": "90d5fd64",
   "metadata": {},
   "outputs": [
    {
     "data": {
      "text/plain": [
       "1"
      ]
     },
     "execution_count": 304,
     "metadata": {},
     "output_type": "execute_result"
    }
   ],
   "source": [
    "s.x"
   ]
  },
  {
   "cell_type": "code",
   "execution_count": 305,
   "id": "3ce55870",
   "metadata": {},
   "outputs": [
    {
     "data": {
      "text/plain": [
       "2"
      ]
     },
     "execution_count": 305,
     "metadata": {},
     "output_type": "execute_result"
    }
   ],
   "source": [
    "s.y"
   ]
  },
  {
   "cell_type": "code",
   "execution_count": 306,
   "id": "dccaddc2",
   "metadata": {},
   "outputs": [
    {
     "ename": "AttributeError",
     "evalue": "'SlottedClass' object has no attribute 'xxx'",
     "output_type": "error",
     "traceback": [
      "\u001b[0;31m---------------------------------------------------------------------------\u001b[0m",
      "\u001b[0;31mAttributeError\u001b[0m                            Traceback (most recent call last)",
      "Input \u001b[0;32mIn [306]\u001b[0m, in \u001b[0;36m<cell line: 1>\u001b[0;34m()\u001b[0m\n\u001b[0;32m----> 1\u001b[0m s\u001b[38;5;241m.\u001b[39mxxx \u001b[38;5;241m=\u001b[39m \u001b[38;5;241m10\u001b[39m\n",
      "\u001b[0;31mAttributeError\u001b[0m: 'SlottedClass' object has no attribute 'xxx'"
     ]
    }
   ],
   "source": [
    "s.xxx = 10"
   ]
  },
  {
   "cell_type": "code",
   "execution_count": 307,
   "id": "b2f98aac",
   "metadata": {},
   "outputs": [],
   "source": [
    "class XXX(SlottedClass):\n",
    "    pass\n",
    "\n",
    "x = XXX()"
   ]
  },
  {
   "cell_type": "code",
   "execution_count": 308,
   "id": "09f740be",
   "metadata": {},
   "outputs": [
    {
     "data": {
      "text/plain": [
       "{}"
      ]
     },
     "execution_count": 308,
     "metadata": {},
     "output_type": "execute_result"
    }
   ],
   "source": [
    "vars(x)"
   ]
  },
  {
   "cell_type": "code",
   "execution_count": 309,
   "id": "78cbaf6d",
   "metadata": {},
   "outputs": [
    {
     "data": {
      "text/plain": [
       "1"
      ]
     },
     "execution_count": 309,
     "metadata": {},
     "output_type": "execute_result"
    }
   ],
   "source": [
    "x.x"
   ]
  },
  {
   "cell_type": "code",
   "execution_count": 310,
   "id": "d410162c",
   "metadata": {},
   "outputs": [
    {
     "data": {
      "text/plain": [
       "2"
      ]
     },
     "execution_count": 310,
     "metadata": {},
     "output_type": "execute_result"
    }
   ],
   "source": [
    "x.y"
   ]
  },
  {
   "cell_type": "code",
   "execution_count": 311,
   "id": "d16a8cce",
   "metadata": {},
   "outputs": [],
   "source": [
    "x.z = 10"
   ]
  },
  {
   "cell_type": "markdown",
   "id": "1bb7ea36",
   "metadata": {},
   "source": [
    "### Dziedziczenie"
   ]
  },
  {
   "cell_type": "code",
   "execution_count": 312,
   "id": "45283d0a",
   "metadata": {},
   "outputs": [
    {
     "name": "stdout",
     "output_type": "stream",
     "text": [
      "Hello i'm Jack London\n"
     ]
    }
   ],
   "source": [
    "class Person:\n",
    "    \n",
    "    def __init__(self, name, surname):\n",
    "        self.name = name\n",
    "        self.surname = surname\n",
    "        \n",
    "    def __repr__(self):\n",
    "        return f\"{self.name} {self.surname}\"\n",
    "    \n",
    "    \n",
    "    def hello(self):\n",
    "        print(f\"Hello i'm {self}\")\n",
    "        \n",
    "p = Person(\"Jack\", \"London\")\n",
    "p.hello()"
   ]
  },
  {
   "cell_type": "code",
   "execution_count": 317,
   "id": "8d5fd997",
   "metadata": {},
   "outputs": [
    {
     "name": "stdout",
     "output_type": "stream",
     "text": [
      "Hello i'm Jack London\n",
      "I'am worker...\n"
     ]
    }
   ],
   "source": [
    "class Employee(Person):\n",
    "    \n",
    "    def __init__(self, name, surname, position):\n",
    "        super().__init__(name, surname)\n",
    "        self.position = position\n",
    "    \n",
    "    def hello(self):\n",
    "        super().hello()\n",
    "        print(\"I'am worker...\")\n",
    "    \n",
    "\n",
    "e = Employee(\"Jack\", \"London\", \"director\")\n",
    "e.hello()"
   ]
  },
  {
   "cell_type": "markdown",
   "id": "2c51e717",
   "metadata": {},
   "source": [
    "### Zadanie\n",
    "Napisz klasę reprezentującą pracownika: name, rate_per_hour\n",
    "\n",
    "    >>> p = Employee(name=\"Rafał\", rate_per_hours=200)\n",
    "    >>> p.pay_salary()\n",
    "    0\n",
    "    >>> p.register_time(5)\n",
    "    >>> p.pay_salary()\n",
    "    1000\n",
    "    >>> p.pay_salary()\n",
    "    0\n",
    "    >>> p.register_time(10)\n",
    "    >>> p.pay_salary()\n",
    "    2400\n",
    "    \n",
    "    "
   ]
  },
  {
   "cell_type": "code",
   "execution_count": 325,
   "id": "03ada723",
   "metadata": {},
   "outputs": [],
   "source": [
    "class Employee:\n",
    "    \n",
    "    def __init__(self, name, rate_per_hour):\n",
    "        self.name = name\n",
    "        self.rate_per_hour = rate_per_hour\n",
    "        self.worked_hours = 0\n",
    "\n",
    "    def pay_salary(self):\n",
    "        if self.worked_hours > 8:\n",
    "            to_pay = 8 * self.rate_per_hour + (self.worked_hours - 8) * self.rate_per_hour * 2\n",
    "        else:\n",
    "            to_pay = self.rate_per_hour * self.worked_hours\n",
    "        self.worked_hours = 0\n",
    "        return to_pay\n",
    "    \n",
    "    def register_time(self, hours):\n",
    "        self.worked_hours = hours\n",
    "        \n",
    "p = Employee(name=\"Rafał\", rate_per_hour=200)\n",
    "assert p.pay_salary() == 0\n",
    "p.register_time(5)\n",
    "assert p.pay_salary() == 1000\n",
    "assert p.pay_salary() == 0\n",
    "p.register_time(10)\n",
    "assert p.pay_salary() == 2400\n",
    "        "
   ]
  },
  {
   "cell_type": "code",
   "execution_count": 327,
   "id": "1f052cc4",
   "metadata": {},
   "outputs": [
    {
     "data": {
      "text/plain": [
       "__main__.Employee"
      ]
     },
     "execution_count": 327,
     "metadata": {},
     "output_type": "execute_result"
    }
   ],
   "source": [
    "type(p)"
   ]
  },
  {
   "cell_type": "code",
   "execution_count": 328,
   "id": "86337b51",
   "metadata": {},
   "outputs": [
    {
     "data": {
      "text/plain": [
       "True"
      ]
     },
     "execution_count": 328,
     "metadata": {},
     "output_type": "execute_result"
    }
   ],
   "source": [
    "isinstance(p, Employee)"
   ]
  },
  {
   "cell_type": "markdown",
   "id": "531c1229",
   "metadata": {},
   "source": [
    "Utwórz klasę PremiumEmployee\n",
    "    \n",
    "    >>> e = PremiumEmployee(\"Jan Kowalski\", 200)\n",
    "    >>> e.register_time(6)\n",
    "    >>> e.give_bonus(200)\n",
    "    >>> e.pay_salary()\n",
    "    1400\n",
    "\n",
    "\n"
   ]
  },
  {
   "cell_type": "code",
   "execution_count": 332,
   "id": "781a7b10",
   "metadata": {},
   "outputs": [],
   "source": [
    "class PremiumEmployee(Employee):\n",
    "    \n",
    "    def pay_salary(self):\n",
    "        to_pay = super().pay_salary()\n",
    "        to_pay += self.bonus\n",
    "        return to_pay\n",
    "\n",
    "\n",
    "    def give_bonus(self, value):\n",
    "        self.bonus = value \n",
    "        \n",
    "e = PremiumEmployee(\"Jan Kowalski\", 200)\n",
    "e.register_time(6)\n",
    "e.give_bonus(200)\n",
    "assert e.pay_salary() == 1400\n"
   ]
  },
  {
   "cell_type": "markdown",
   "id": "4b0a9586",
   "metadata": {},
   "source": [
    "1. pracownik moze miec wiele bonusów\n",
    "2. są dwa typy bonusów:\n",
    "    ValueBonus\n",
    "    PercentBonus\n",
    "3. bonusy odpowiedniego typu sie sumuja\n",
    "4. bonus PercentBonus - działa na stawkę bazową"
   ]
  },
  {
   "cell_type": "code",
   "execution_count": 338,
   "id": "41ed9f51",
   "metadata": {},
   "outputs": [
    {
     "ename": "AssertionError",
     "evalue": "",
     "output_type": "error",
     "traceback": [
      "\u001b[0;31m---------------------------------------------------------------------------\u001b[0m",
      "\u001b[0;31mAssertionError\u001b[0m                            Traceback (most recent call last)",
      "Input \u001b[0;32mIn [338]\u001b[0m, in \u001b[0;36m<cell line: 40>\u001b[0;34m()\u001b[0m\n\u001b[1;32m     38\u001b[0m e\u001b[38;5;241m.\u001b[39mgive_bonus(b1)\n\u001b[1;32m     39\u001b[0m e\u001b[38;5;241m.\u001b[39mgive_bonus(b2)\n\u001b[0;32m---> 40\u001b[0m \u001b[38;5;28;01massert\u001b[39;00m e\u001b[38;5;241m.\u001b[39mpay_salary() \u001b[38;5;241m==\u001b[39m (\u001b[38;5;241m5\u001b[39m \u001b[38;5;241m*\u001b[39m \u001b[38;5;241m100\u001b[39m) \u001b[38;5;241m+\u001b[39m (\u001b[38;5;241m5\u001b[39m \u001b[38;5;241m*\u001b[39m \u001b[38;5;241m100\u001b[39m) \u001b[38;5;241m*\u001b[39m \u001b[38;5;241m0.1\u001b[39m \u001b[38;5;241m+\u001b[39m \u001b[38;5;241m200\u001b[39m\n\u001b[1;32m     43\u001b[0m \u001b[38;5;66;03m# kolejny scenariusz\u001b[39;00m\n\u001b[1;32m     44\u001b[0m b1 \u001b[38;5;241m=\u001b[39m ValueBonus(\u001b[38;5;241m200\u001b[39m)\n",
      "\u001b[0;31mAssertionError\u001b[0m: "
     ]
    }
   ],
   "source": [
    "class PremiumEmployee(Employee):\n",
    "    \n",
    "    def pay_salary(self):\n",
    "        to_pay = super().pay_salary()\n",
    "        to_pay += self.bonus.value\n",
    "        return to_pay\n",
    "\n",
    "\n",
    "    def give_bonus(self, bonus: Bonus):\n",
    "        self.bonus = bonus \n",
    "\n",
    "class Bonus:\n",
    "        \n",
    "    def __init__(self, value):\n",
    "        self.value = value\n",
    "\n",
    "class ValueBonus(Bonus): pass\n",
    "\n",
    "class PercentBonus(Bonus): pass\n",
    "    \n",
    "\n",
    "# scenariusz ValueBonus\n",
    "b1 = ValueBonus(200)\n",
    "assert b1.value == 200\n",
    "\n",
    "e = PremiumEmployee(name=\"Jan Kowalski\", rate_per_hour=100)\n",
    "e.register_time(5)\n",
    "e.give_bonus(b1)\n",
    "\n",
    "assert e.pay_salary() == (5 * 100) + 200\n",
    "    \n",
    "\n",
    "# scenariusz 1\n",
    "b1 = ValueBonus(200)\n",
    "b2 = PercentBonus(10)\n",
    "e = PremiumEmployee(name=\"Jan Kowalski\", rate_per_hour=100)\n",
    "e.register_time(5)\n",
    "e.give_bonus(b1)\n",
    "e.give_bonus(b2)\n",
    "assert e.pay_salary() == (5 * 100) + (5 * 100) * 0.1 + 200\n",
    "\n",
    "\n",
    "# kolejny scenariusz\n",
    "b1 = ValueBonus(200)\n",
    "b2 = PercentBonus(10)\n",
    "b3 = ValueBonus(300)\n",
    "b4 = PercentBonus(20)\n",
    "e = PremiumEmployee(name=\"Jan Kowalski\", rate_per_hour=100)\n",
    "e.register_time(5)\n",
    "e.give_bonus(b1)\n",
    "e.give_bonus(b2)\n",
    "e.give_bonus(b3)\n",
    "e.give_bonus(b4)\n",
    "assert e.pay_salary() == (5 * 100) + (5 * 100) * 0.3 + 200 + 300"
   ]
  },
  {
   "cell_type": "code",
   "execution_count": null,
   "id": "4ebabd51",
   "metadata": {},
   "outputs": [],
   "source": [
    "b1 = ValueBonus(200)\n",
    "b2 = PercentBonus(10)\n",
    "b3 = ValueBonus(200)\n",
    "b4 = PercentBonus(10)\n",
    "e = PremiumEmployee(\"Jan Kowalski\", 100)\n",
    "e.register_time(5)\n",
    "e.give_bonus(b1)\n",
    "e.give_bonus(b2)\n",
    "assert e.pay_salary() == (5 * 100) + (5 * 100) * 0.1 + 200"
   ]
  },
  {
   "cell_type": "markdown",
   "id": "df9d0200",
   "metadata": {},
   "source": [
    "###  MRO\n",
    "\n",
    "method resolution order\n"
   ]
  },
  {
   "cell_type": "code",
   "execution_count": 349,
   "id": "ee1fadb5",
   "metadata": {},
   "outputs": [],
   "source": [
    "class A:\n",
    "\n",
    "    def foo(self): print(\"foo from A\")\n",
    "        \n",
    "class B:\n",
    "\n",
    "    def foo(self): print(\"foo from B\")\n",
    "\n",
    "class C(B):\n",
    "\n",
    "    def foo(self): print(\"foo from C\")\n",
    "        \n",
    "class D(A, C):\n",
    "    def foo(self): print(\"foo from D\")\n",
    "\n",
    "d = D()"
   ]
  },
  {
   "cell_type": "code",
   "execution_count": 344,
   "id": "02c2433e",
   "metadata": {},
   "outputs": [
    {
     "name": "stdout",
     "output_type": "stream",
     "text": [
      "foo from D\n"
     ]
    }
   ],
   "source": [
    "d.foo()"
   ]
  },
  {
   "cell_type": "code",
   "execution_count": 350,
   "id": "07111822",
   "metadata": {},
   "outputs": [
    {
     "data": {
      "text/plain": [
       "[__main__.D, __main__.A, __main__.C, __main__.B, object]"
      ]
     },
     "execution_count": 350,
     "metadata": {},
     "output_type": "execute_result"
    }
   ],
   "source": [
    "D.mro()"
   ]
  },
  {
   "cell_type": "markdown",
   "id": "b88dea08",
   "metadata": {},
   "source": [
    "### metody statyczne i klasowe"
   ]
  },
  {
   "cell_type": "code",
   "execution_count": 372,
   "id": "b0dc5924",
   "metadata": {},
   "outputs": [
    {
     "name": "stdout",
     "output_type": "stream",
     "text": [
      "{}\n",
      "{}\n"
     ]
    },
    {
     "data": {
      "text/plain": [
       "[0.07, 0.1]"
      ]
     },
     "execution_count": 372,
     "metadata": {},
     "output_type": "execute_result"
    }
   ],
   "source": [
    "class Product:\n",
    "    \n",
    "    vat_level = 0.07\n",
    "    \n",
    "    def __init__(self, name, price, **kwargs):\n",
    "        print(kwargs)\n",
    "        self.name = name\n",
    "        self.price = price\n",
    "        \n",
    "    def vat(self):\n",
    "        return self.price * self.vat_level\n",
    "  \n",
    "    @classmethod\n",
    "    def change_vat_level(cls, rate: int):\n",
    "        cls.vat_level = rate / 100\n",
    "    \n",
    "    \n",
    "    @classmethod\n",
    "    def create(cls, data):\n",
    "        return cls(*data)\n",
    "    \n",
    "    @staticmethod\n",
    "    def tax_levels():\n",
    "        return [0.07, 0.10]\n",
    "    \n",
    "\n",
    "p = Product(\"Chleb\", 10)\n",
    "p.vat()\n",
    "p.change_vat_level(10)\n",
    "\n",
    "Product.vat_level\n",
    "\n",
    "\n",
    "p2 = Product.create([\"piwo\", 7])\n",
    "p2.tax_levels()"
   ]
  },
  {
   "cell_type": "code",
   "execution_count": 356,
   "id": "2227444a",
   "metadata": {},
   "outputs": [
    {
     "data": {
      "text/plain": [
       "<__main__.Product at 0x110604580>"
      ]
     },
     "execution_count": 356,
     "metadata": {},
     "output_type": "execute_result"
    }
   ],
   "source": [
    "p.create([\"sok\", 10])"
   ]
  },
  {
   "cell_type": "code",
   "execution_count": 358,
   "id": "771ca4f5",
   "metadata": {},
   "outputs": [
    {
     "data": {
      "text/plain": [
       "[0.07, 0.1]"
      ]
     },
     "execution_count": 358,
     "metadata": {},
     "output_type": "execute_result"
    }
   ],
   "source": [
    "Product.tax_levels()"
   ]
  },
  {
   "cell_type": "code",
   "execution_count": 363,
   "id": "0ceee0ce",
   "metadata": {},
   "outputs": [
    {
     "data": {
      "text/plain": [
       "<__main__.Product at 0x110612290>"
      ]
     },
     "execution_count": 363,
     "metadata": {},
     "output_type": "execute_result"
    }
   ],
   "source": [
    "data = [\"Sok\", 10]\n",
    "\n",
    "Product(*data)  # Product(\"Sok\", 10)"
   ]
  },
  {
   "cell_type": "code",
   "execution_count": 366,
   "id": "cbe84f7d",
   "metadata": {},
   "outputs": [
    {
     "data": {
      "text/plain": [
       "<__main__.Product at 0x10f46e0e0>"
      ]
     },
     "execution_count": 366,
     "metadata": {},
     "output_type": "execute_result"
    }
   ],
   "source": [
    "\n",
    "\n",
    "Product(name=\"Sok\", price=10)  # Product(\"Sok\", 10)"
   ]
  },
  {
   "cell_type": "code",
   "execution_count": 373,
   "id": "f6a3988d",
   "metadata": {},
   "outputs": [
    {
     "name": "stdout",
     "output_type": "stream",
     "text": [
      "{'xxx zzz': 'yyy'}\n"
     ]
    },
    {
     "data": {
      "text/plain": [
       "<__main__.Product at 0x110607190>"
      ]
     },
     "execution_count": 373,
     "metadata": {},
     "output_type": "execute_result"
    }
   ],
   "source": [
    "data = {\"name\": \"Sok\", \"price\": 10, \"xxx zzz\": \"yyy\"}\n",
    "Product(**data)   # name=\"Sok\", price=10, xxx=\"yyy\"  "
   ]
  },
  {
   "cell_type": "markdown",
   "id": "3c7bcf85",
   "metadata": {},
   "source": [
    "## dataclass\n",
    "\n"
   ]
  },
  {
   "cell_type": "code",
   "execution_count": 374,
   "id": "80528e17",
   "metadata": {},
   "outputs": [],
   "source": [
    "from dataclasses import dataclass"
   ]
  },
  {
   "cell_type": "code",
   "execution_count": 377,
   "id": "5c4a89a8",
   "metadata": {},
   "outputs": [],
   "source": [
    "import random\n",
    "import string\n",
    "\n",
    "def generate_id() -> str:\n",
    "    return  \"\".join(random.choices(string.ascii_uppercase, k=12))"
   ]
  },
  {
   "cell_type": "code",
   "execution_count": 378,
   "id": "25818c4a",
   "metadata": {},
   "outputs": [
    {
     "data": {
      "text/plain": [
       "'IDSLQWTKTZIP'"
      ]
     },
     "execution_count": 378,
     "metadata": {},
     "output_type": "execute_result"
    }
   ],
   "source": [
    "generate_id()"
   ]
  },
  {
   "cell_type": "code",
   "execution_count": 396,
   "id": "7f5cab61",
   "metadata": {},
   "outputs": [
    {
     "data": {
      "text/plain": [
       "'John 123 Main St.'"
      ]
     },
     "execution_count": 396,
     "metadata": {},
     "output_type": "execute_result"
    }
   ],
   "source": [
    "class Person:\n",
    "    def __init__(self, name: str, address: str,):\n",
    "        self.name = name\n",
    "        self.address = address\n",
    "        self.active = True\n",
    "        self.email_addresses = []\n",
    "        self._search_string = f\"{self.name} {self.address}\"\n",
    "    \n",
    "    def __repr__(self):\n",
    "        return f\"{self.name} {self.address}\"\n",
    "\n",
    "p = Person(name=\"John\", address=\"123 Main St.\")\n",
    "p._search_string"
   ]
  },
  {
   "cell_type": "code",
   "execution_count": 411,
   "id": "40a00786",
   "metadata": {},
   "outputs": [
    {
     "data": {
      "text/plain": [
       "Person(name='John', address='123 Main St.', active=True, email_addresses=[], id='MKKGPZXCNNGK')"
      ]
     },
     "execution_count": 411,
     "metadata": {},
     "output_type": "execute_result"
    }
   ],
   "source": [
    "from typing import List\n",
    "from dataclasses import dataclass, field\n",
    "\n",
    "@dataclass\n",
    "class Person:\n",
    "    name: str\n",
    "    address: str\n",
    "    active: bool = True\n",
    "    email_addresses: List[str] = field(default_factory=list)\n",
    "    id: str = field(init=False, default_factory=generate_id)\n",
    "    _search_string: str = field(init=False, repr=False)\n",
    "        \n",
    "    def __post_init__(self):\n",
    "        self._search_string = f\"{self.name} {self.address}\"\n",
    "\n",
    "p = Person(name=\"John\", address=\"123 Main St.\")\n",
    "p"
   ]
  },
  {
   "cell_type": "code",
   "execution_count": 412,
   "id": "1d47b154",
   "metadata": {},
   "outputs": [],
   "source": [
    "p=Person(name=\"xxx\", address=\"yyy\")"
   ]
  },
  {
   "cell_type": "code",
   "execution_count": 413,
   "id": "52c8584a",
   "metadata": {},
   "outputs": [],
   "source": [
    "p=Person(name=\"xxx\", address=\"yyy\", email_addresses=[\"rkorzen@wp.pl\"])"
   ]
  },
  {
   "cell_type": "code",
   "execution_count": 414,
   "id": "eb5b02dd",
   "metadata": {},
   "outputs": [
    {
     "data": {
      "text/plain": [
       "'xxx yyy'"
      ]
     },
     "execution_count": 414,
     "metadata": {},
     "output_type": "execute_result"
    }
   ],
   "source": [
    "p.email_addresses\n",
    "p._search_string"
   ]
  },
  {
   "cell_type": "code",
   "execution_count": 415,
   "id": "a02900ce",
   "metadata": {},
   "outputs": [],
   "source": [
    "p=Person(name=\"xxx\", address=\"yyy\")"
   ]
  },
  {
   "cell_type": "code",
   "execution_count": 416,
   "id": "8ef2dc08",
   "metadata": {},
   "outputs": [
    {
     "data": {
      "text/plain": [
       "Person(name='xxx', address='yyy', active=True, email_addresses=[], id='JXVKEMNLKOMQ')"
      ]
     },
     "execution_count": 416,
     "metadata": {},
     "output_type": "execute_result"
    }
   ],
   "source": [
    "p=Person(\"xxx\", \"yyy\")\n",
    "p"
   ]
  },
  {
   "cell_type": "code",
   "execution_count": 421,
   "id": "8c4d4b75",
   "metadata": {},
   "outputs": [
    {
     "data": {
      "text/plain": [
       "Person(name='John', address='123 Main St.', active=True, email_addresses=[], id='ZWKKOLVZGFZN')"
      ]
     },
     "execution_count": 421,
     "metadata": {},
     "output_type": "execute_result"
    }
   ],
   "source": [
    "from typing import List\n",
    "from dataclasses import dataclass, field\n",
    "\n",
    "@dataclass(kw_only=True, slots=False)\n",
    "class Person:\n",
    "    name: str\n",
    "    address: str\n",
    "    active: bool = True\n",
    "    email_addresses: List[str] = field(default_factory=list)\n",
    "    id: str = field(init=False, default_factory=generate_id)\n",
    "    _search_string: str = field(init=False, repr=False)\n",
    "        \n",
    "    def __post_init__(self):\n",
    "        self._search_string = f\"{self.name} {self.address}\"\n",
    "\n",
    "p = Person(name=\"John\", address=\"123 Main St.\")\n",
    "p"
   ]
  },
  {
   "cell_type": "code",
   "execution_count": 422,
   "id": "937ef99b",
   "metadata": {},
   "outputs": [
    {
     "data": {
      "text/plain": [
       "{'name': 'John',\n",
       " 'address': '123 Main St.',\n",
       " 'active': True,\n",
       " 'email_addresses': [],\n",
       " 'id': 'ZWKKOLVZGFZN',\n",
       " '_search_string': 'John 123 Main St.'}"
      ]
     },
     "execution_count": 422,
     "metadata": {},
     "output_type": "execute_result"
    }
   ],
   "source": [
    "vars(p)"
   ]
  },
  {
   "cell_type": "code",
   "execution_count": null,
   "id": "5cfdf45e",
   "metadata": {},
   "outputs": [],
   "source": []
  }
 ],
 "metadata": {
  "kernelspec": {
   "display_name": "Python 3 (ipykernel)",
   "language": "python",
   "name": "python3"
  },
  "language_info": {
   "codemirror_mode": {
    "name": "ipython",
    "version": 3
   },
   "file_extension": ".py",
   "mimetype": "text/x-python",
   "name": "python",
   "nbconvert_exporter": "python",
   "pygments_lexer": "ipython3",
   "version": "3.10.4"
  },
  "toc": {
   "base_numbering": 1,
   "nav_menu": {},
   "number_sections": true,
   "sideBar": true,
   "skip_h1_title": false,
   "title_cell": "Table of Contents",
   "title_sidebar": "Contents",
   "toc_cell": false,
   "toc_position": {},
   "toc_section_display": true,
   "toc_window_display": false
  }
 },
 "nbformat": 4,
 "nbformat_minor": 5
}
