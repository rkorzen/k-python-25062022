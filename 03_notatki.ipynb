{
 "cells": [
  {
   "cell_type": "markdown",
   "id": "8e6fafa6",
   "metadata": {},
   "source": [
    "## Dekoratory\n"
   ]
  },
  {
   "cell_type": "code",
   "execution_count": null,
   "id": "f11921b0",
   "metadata": {},
   "outputs": [],
   "source": [
    "show = True\n",
    "from functools import wraps\n",
    "\n",
    "\n",
    "def decor(func):\n",
    "    @wraps(func)\n",
    "    def wrapper(*args, **kwargs):\n",
    "        print(\"Before func\")\n",
    "        if show:\n",
    "            result = func(*args, **kwargs)\n",
    "        else:\n",
    "            print(\"Funkcja nie jest wykonana\")\n",
    "        print(\"po funkcji\")\n",
    "        return result\n",
    "\n",
    "    # wrapper.__name__ = func.__name__\n",
    "    # wrapper.__doc__ = func.__doc__\n",
    "    # wrapper.__annotations__ = func.__annotations__\n",
    "    return wrapper\n",
    "\n",
    "\n",
    "@decor\n",
    "def foo(x: str):\n",
    "    \"\"\"Dokumentacja funkcji foo\"\"\"\n",
    "    print(\"foo\")\n",
    "    return 10\n",
    "\n",
    "foo = decor(foo)\n",
    "\n",
    "@decor\n",
    "def bar():\n",
    "    print(\"bar\")\n",
    "\n",
    "\n",
    "\n",
    "\n",
    "# print(foo.__name__)\n",
    "# print(foo.__doc__)\n",
    "# print(foo.__annotations__)\n",
    "\n",
    "x = foo(\"ddd\")\n",
    "x\n"
   ]
  },
  {
   "cell_type": "markdown",
   "id": "4c57d31e",
   "metadata": {},
   "source": [
    "### ZADANIE\n",
    "\n",
    "Stwórz dekoratory bold, italic, które udekorują tekst zwracany przez inne funkcje znacznikami html `<b></b>` `<i></i>`\n",
    "\n",
    "\n",
    "    Ala ma kota -> <b>Ala ma kota</b>\n"
   ]
  },
  {
   "cell_type": "code",
   "execution_count": null,
   "id": "799a8632",
   "metadata": {},
   "outputs": [],
   "source": [
    "def bold(func):\n",
    "    \n",
    "    @wraps(func)\n",
    "    def wrapper(*args, **kwargs):\n",
    "        \n",
    "        result = func(*args, **kwargs)\n",
    "        return f\"<b>{result}</b>\"\n",
    "    \n",
    "    return wrapper\n",
    "\n",
    "\n",
    "@bold\n",
    "def paragraph(text):\n",
    "    return  f\"<p>{text}</p>\"\n",
    "\n",
    "assert paragraph(\"AAA\") == \"<b><p>AAA</p></b>\""
   ]
  },
  {
   "cell_type": "markdown",
   "id": "f1fa9170",
   "metadata": {},
   "source": [
    "## funkcje\n"
   ]
  },
  {
   "cell_type": "code",
   "execution_count": null,
   "id": "ad88557e",
   "metadata": {},
   "outputs": [],
   "source": [
    "def foo(a, b, c, d=1, e=3):\n",
    "    print(a, b, c, d, e)\n",
    "\n",
    "foo(1, 2, 3, 4, 5)"
   ]
  },
  {
   "cell_type": "code",
   "execution_count": null,
   "id": "9d49fca2",
   "metadata": {},
   "outputs": [],
   "source": [
    "foo(c=1, b=2, a=3, d=10, e=20)"
   ]
  },
  {
   "cell_type": "code",
   "execution_count": null,
   "id": "5c0f5573",
   "metadata": {},
   "outputs": [],
   "source": [
    "foo(c=1, b=2, 3, d=10, e=20)"
   ]
  },
  {
   "cell_type": "code",
   "execution_count": null,
   "id": "a5978074",
   "metadata": {},
   "outputs": [],
   "source": [
    "foo(1, c=2, b=3, d=10, e=20)"
   ]
  },
  {
   "cell_type": "code",
   "execution_count": null,
   "id": "81926f67",
   "metadata": {},
   "outputs": [],
   "source": [
    "foo(1, b=2, a=3, d=10, e=20)"
   ]
  },
  {
   "cell_type": "code",
   "execution_count": null,
   "id": "1d1c5ec9",
   "metadata": {},
   "outputs": [],
   "source": [
    "def bar(b, a=1): pass"
   ]
  },
  {
   "cell_type": "code",
   "execution_count": null,
   "id": "a5c4d31b",
   "metadata": {},
   "outputs": [],
   "source": [
    "def suma(a, b, *,to_float=False):\n",
    "    result = a + b\n",
    "    if to_float:\n",
    "        result = float(result)\n",
    "        \n",
    "    return result"
   ]
  },
  {
   "cell_type": "code",
   "execution_count": null,
   "id": "aeb663b6",
   "metadata": {},
   "outputs": [],
   "source": [
    "suma(1, 2)"
   ]
  },
  {
   "cell_type": "code",
   "execution_count": null,
   "id": "1e358f82",
   "metadata": {},
   "outputs": [],
   "source": [
    "suma(1, 2, to_float=True)"
   ]
  },
  {
   "cell_type": "code",
   "execution_count": null,
   "id": "cd2fe89c",
   "metadata": {},
   "outputs": [],
   "source": [
    "suma(1, 2, True)"
   ]
  },
  {
   "cell_type": "code",
   "execution_count": null,
   "id": "33a0cafe",
   "metadata": {},
   "outputs": [],
   "source": [
    "suma(1, 2, 10)"
   ]
  },
  {
   "cell_type": "markdown",
   "id": "767d933e",
   "metadata": {},
   "source": [
    "### args  = arguments"
   ]
  },
  {
   "cell_type": "code",
   "execution_count": null,
   "id": "29a423dd",
   "metadata": {},
   "outputs": [],
   "source": [
    "def suma(a, b, *args):\n",
    "    print(f\"a={a} b={b} args={args}\")\n",
    "    return a + b + sum(args)"
   ]
  },
  {
   "cell_type": "code",
   "execution_count": null,
   "id": "e37279fa",
   "metadata": {},
   "outputs": [],
   "source": []
  },
  {
   "cell_type": "code",
   "execution_count": null,
   "id": "bfaefefe",
   "metadata": {},
   "outputs": [],
   "source": [
    "assert suma(1, 2) == 3\n",
    "assert suma(1, 2, 3) == 6\n",
    "assert suma(1, 2, 3, 1) == 7\n",
    "\n",
    "assert suma(1, 2, 3, 1, 1, 1) == 9"
   ]
  },
  {
   "cell_type": "markdown",
   "id": "96f7b8d3",
   "metadata": {},
   "source": [
    "### kwargs = keyword arguments"
   ]
  },
  {
   "cell_type": "code",
   "execution_count": null,
   "id": "311348d4",
   "metadata": {},
   "outputs": [],
   "source": [
    "def suma(a, b, *args, c=0, **kwargs):\n",
    "    print(f\"a={a} b={b} args={args} c={c} kwargs={kwargs}\")\n",
    "    return a + b + sum(args) "
   ]
  },
  {
   "cell_type": "code",
   "execution_count": null,
   "id": "7cf5bc7d",
   "metadata": {},
   "outputs": [],
   "source": [
    "assert suma(1, 2, 3, 1, 1, 1, c=200, x=10, y=222) == 9"
   ]
  },
  {
   "cell_type": "code",
   "execution_count": null,
   "id": "d722b973",
   "metadata": {},
   "outputs": [],
   "source": [
    "assert suma(1, 2, 3, 1, 1, 1, x=10, y=222) == 9"
   ]
  },
  {
   "cell_type": "code",
   "execution_count": null,
   "id": "30cc8f9c",
   "metadata": {},
   "outputs": [],
   "source": [
    "def hello(*args):\n",
    "    print(args)"
   ]
  },
  {
   "cell_type": "code",
   "execution_count": null,
   "id": "49139f43",
   "metadata": {},
   "outputs": [],
   "source": [
    "hello(\"Hello\", \"World\")"
   ]
  },
  {
   "cell_type": "code",
   "execution_count": null,
   "id": "d0df41ce",
   "metadata": {},
   "outputs": [],
   "source": [
    "hello(name=\"Adam\")"
   ]
  },
  {
   "cell_type": "code",
   "execution_count": null,
   "id": "ffece265",
   "metadata": {},
   "outputs": [],
   "source": [
    "def hello(*x, **xx):\n",
    "    print(x, xx)"
   ]
  },
  {
   "cell_type": "code",
   "execution_count": null,
   "id": "53136b9c",
   "metadata": {},
   "outputs": [],
   "source": [
    "hello(name=\"Adam\")"
   ]
  },
  {
   "cell_type": "code",
   "execution_count": null,
   "id": "6959bb10",
   "metadata": {},
   "outputs": [],
   "source": [
    "a, b, *c = 10, 20, 30, 10, 10, 10"
   ]
  },
  {
   "cell_type": "code",
   "execution_count": null,
   "id": "dce2558b",
   "metadata": {},
   "outputs": [],
   "source": [
    "print(c)"
   ]
  },
  {
   "cell_type": "code",
   "execution_count": null,
   "id": "6de4360a",
   "metadata": {},
   "outputs": [],
   "source": [
    "print(*c)"
   ]
  },
  {
   "cell_type": "code",
   "execution_count": null,
   "id": "8e05364c",
   "metadata": {},
   "outputs": [],
   "source": [
    "print(30, 10 , 10, 10)"
   ]
  },
  {
   "cell_type": "code",
   "execution_count": null,
   "id": "b0092dc7",
   "metadata": {},
   "outputs": [],
   "source": [
    "print([30, 10 , 10, 10])"
   ]
  },
  {
   "cell_type": "code",
   "execution_count": null,
   "id": "903a4274",
   "metadata": {},
   "outputs": [],
   "source": [
    "formatting = {'sep':\"-\", 'end':\"!\"}\n"
   ]
  },
  {
   "cell_type": "code",
   "execution_count": null,
   "id": "774b34bd",
   "metadata": {},
   "outputs": [],
   "source": [
    "print(*c, sep=\"-\", end=\"!\")"
   ]
  },
  {
   "cell_type": "code",
   "execution_count": null,
   "id": "511b24fd",
   "metadata": {},
   "outputs": [],
   "source": [
    "print(*c, **formatting)"
   ]
  },
  {
   "cell_type": "code",
   "execution_count": 1,
   "id": "c29cf31f",
   "metadata": {},
   "outputs": [
    {
     "name": "stdout",
     "output_type": "stream",
     "text": [
      "20\n",
      "40\n"
     ]
    },
    {
     "ename": "NameError",
     "evalue": "name 'b' is not defined",
     "output_type": "error",
     "traceback": [
      "\u001b[0;31m---------------------------------------------------------------------------\u001b[0m",
      "\u001b[0;31mNameError\u001b[0m                                 Traceback (most recent call last)",
      "Input \u001b[0;32mIn [1]\u001b[0m, in \u001b[0;36m<cell line: 17>\u001b[0;34m()\u001b[0m\n\u001b[1;32m     14\u001b[0m     \u001b[38;5;28mprint\u001b[39m(b)\n\u001b[1;32m     16\u001b[0m aa(\u001b[38;5;241m*\u001b[39m\u001b[38;5;241m*\u001b[39mmetadata)\n\u001b[0;32m---> 17\u001b[0m \u001b[43mbb\u001b[49m\u001b[43m(\u001b[49m\u001b[38;5;241;43m*\u001b[39;49m\u001b[38;5;241;43m*\u001b[39;49m\u001b[43mmetadata\u001b[49m\u001b[43m)\u001b[49m\n",
      "Input \u001b[0;32mIn [1]\u001b[0m, in \u001b[0;36mbb\u001b[0;34m(**kwargs)\u001b[0m\n\u001b[1;32m     12\u001b[0m \u001b[38;5;28;01mdef\u001b[39;00m \u001b[38;5;21mbb\u001b[39m(\u001b[38;5;241m*\u001b[39m\u001b[38;5;241m*\u001b[39mkwargs):\n\u001b[1;32m     13\u001b[0m     \u001b[38;5;28mprint\u001b[39m(kwargs\u001b[38;5;241m.\u001b[39mget(\u001b[38;5;124m'\u001b[39m\u001b[38;5;124mb\u001b[39m\u001b[38;5;124m'\u001b[39m)\u001b[38;5;241m*\u001b[39m\u001b[38;5;241m2\u001b[39m)\n\u001b[0;32m---> 14\u001b[0m     \u001b[38;5;28mprint\u001b[39m(\u001b[43mb\u001b[49m)\n",
      "\u001b[0;31mNameError\u001b[0m: name 'b' is not defined"
     ]
    }
   ],
   "source": [
    "metadata = {\n",
    "    \"a\": 10, \n",
    "    \"b\": 20, \n",
    "    \"c\": 30\n",
    "}\n",
    "\n",
    "\n",
    "\n",
    "def aa(**kwargs):\n",
    "    print(kwargs.get('a')*2)\n",
    "\n",
    "def bb(x=50, **kwargs):  \n",
    "    print(kwargs.get('b')*2)\n",
    "    print(x)\n",
    "\n",
    "aa(**metadata)\n",
    "bb(**metadata)   # bb(a=10, b=20, c=30)"
   ]
  },
  {
   "cell_type": "code",
   "execution_count": 2,
   "id": "6c281288",
   "metadata": {},
   "outputs": [],
   "source": [
    "def suma(a, b, /, *, return_float=False):\n",
    "    return a + b"
   ]
  },
  {
   "cell_type": "code",
   "execution_count": 4,
   "id": "a0ad4d32",
   "metadata": {},
   "outputs": [
    {
     "ename": "TypeError",
     "evalue": "suma() takes 2 positional arguments but 3 were given",
     "output_type": "error",
     "traceback": [
      "\u001b[0;31m---------------------------------------------------------------------------\u001b[0m",
      "\u001b[0;31mTypeError\u001b[0m                                 Traceback (most recent call last)",
      "Input \u001b[0;32mIn [4]\u001b[0m, in \u001b[0;36m<cell line: 1>\u001b[0;34m()\u001b[0m\n\u001b[0;32m----> 1\u001b[0m \u001b[43msuma\u001b[49m\u001b[43m(\u001b[49m\u001b[38;5;241;43m1\u001b[39;49m\u001b[43m,\u001b[49m\u001b[43m \u001b[49m\u001b[38;5;241;43m2\u001b[39;49m\u001b[43m,\u001b[49m\u001b[43m \u001b[49m\u001b[38;5;241;43m3\u001b[39;49m\u001b[43m)\u001b[49m\n",
      "\u001b[0;31mTypeError\u001b[0m: suma() takes 2 positional arguments but 3 were given"
     ]
    }
   ],
   "source": [
    "suma(1, 2)"
   ]
  },
  {
   "cell_type": "code",
   "execution_count": 9,
   "id": "e3a4f537",
   "metadata": {},
   "outputs": [
    {
     "data": {
      "text/plain": [
       "[10]"
      ]
     },
     "execution_count": 9,
     "metadata": {},
     "output_type": "execute_result"
    }
   ],
   "source": [
    "def add_element(a, elements=[]):\n",
    "    elements.append(a)\n",
    "    return elements\n",
    "\n",
    "add_element(10)"
   ]
  },
  {
   "cell_type": "code",
   "execution_count": 11,
   "id": "d587075d",
   "metadata": {},
   "outputs": [
    {
     "data": {
      "text/plain": [
       "[10, 20]"
      ]
     },
     "execution_count": 11,
     "metadata": {},
     "output_type": "execute_result"
    }
   ],
   "source": [
    "add_element(20)"
   ]
  },
  {
   "cell_type": "code",
   "execution_count": 12,
   "id": "8e7a34fd",
   "metadata": {},
   "outputs": [
    {
     "data": {
      "text/plain": [
       "([10, 20],)"
      ]
     },
     "execution_count": 12,
     "metadata": {},
     "output_type": "execute_result"
    }
   ],
   "source": [
    "add_element.__defaults__"
   ]
  },
  {
   "cell_type": "code",
   "execution_count": 13,
   "id": "78a1ba97",
   "metadata": {},
   "outputs": [
    {
     "data": {
      "text/plain": [
       "[20]"
      ]
     },
     "execution_count": 13,
     "metadata": {},
     "output_type": "execute_result"
    }
   ],
   "source": [
    "def add_element(a, elements=None):\n",
    "    if not elements:\n",
    "        elements = []\n",
    "    elements.append(a)\n",
    "    return elements\n",
    "\n",
    "add_element(10)\n",
    "\n",
    "add_element(20)"
   ]
  },
  {
   "cell_type": "code",
   "execution_count": 16,
   "id": "314c4819",
   "metadata": {},
   "outputs": [],
   "source": [
    "func = lambda x: x[1]\n",
    "suma = lambda x, y: x+y"
   ]
  },
  {
   "cell_type": "code",
   "execution_count": 15,
   "id": "b694e5a1",
   "metadata": {},
   "outputs": [
    {
     "data": {
      "text/plain": [
       "'1'"
      ]
     },
     "execution_count": 15,
     "metadata": {},
     "output_type": "execute_result"
    }
   ],
   "source": [
    "func(\"a1\")"
   ]
  },
  {
   "cell_type": "code",
   "execution_count": 17,
   "id": "fe2ec018",
   "metadata": {},
   "outputs": [
    {
     "data": {
      "text/plain": [
       "3"
      ]
     },
     "execution_count": 17,
     "metadata": {},
     "output_type": "execute_result"
    }
   ],
   "source": [
    "suma(1, 2)"
   ]
  },
  {
   "cell_type": "code",
   "execution_count": 20,
   "id": "7cfef1b5",
   "metadata": {},
   "outputs": [
    {
     "data": {
      "text/plain": [
       "4"
      ]
     },
     "execution_count": 20,
     "metadata": {},
     "output_type": "execute_result"
    }
   ],
   "source": [
    "(lambda x, y: x+y)(1, 3)"
   ]
  },
  {
   "cell_type": "markdown",
   "id": "75dbb88b",
   "metadata": {},
   "source": [
    "### funkcja to też obiekt"
   ]
  },
  {
   "cell_type": "code",
   "execution_count": 21,
   "id": "55185218",
   "metadata": {},
   "outputs": [
    {
     "name": "stdout",
     "output_type": "stream",
     "text": [
      "89\n",
      "1\n",
      "56\n"
     ]
    }
   ],
   "source": [
    "functions = [sum, min, max]\n",
    "collection = [1, 2 , 3, 4, 56, 23]\n",
    "\n",
    "for f in functions:\n",
    "    print(f(collection))"
   ]
  },
  {
   "cell_type": "markdown",
   "id": "c1d318d0",
   "metadata": {},
   "source": [
    "### zad \n",
    "\n",
    "Napisz prosty kalkulator, ktory dziala tak:\n",
    "    \n",
    "    Jaka operacje chcesz wykonac? [1-add, 2-sub ...] 1\n",
    "    Podaj arg a: 10\n",
    "    Podaj arg b: 20\n",
    "    Wynik: 30\n",
    "\n",
    "\n",
    "Rozbij to na kilka różnych funkcji.\n",
    "    "
   ]
  },
  {
   "cell_type": "code",
   "execution_count": null,
   "id": "5f061040",
   "metadata": {},
   "outputs": [],
   "source": [
    "\n",
    "def kalkulator():\n",
    "    operacja = input(\"Podaj operację [1-dodaj, 2-odejmij, 3-mnoz, 4-dziel]: \")\n",
    "    a = int(input(\"Podaj arg 1: \"))\n",
    "    b = int(input(\"Podaj arg 2: \"))\n",
    "    \n",
    "    if operacja == \"1\":\n",
    "        \n"
   ]
  },
  {
   "cell_type": "markdown",
   "id": "547df4aa",
   "metadata": {},
   "source": [
    "## zad\n",
    "\n",
    "Napisz funkcję, która wywoła inną funkcję po zadanym czasie.\n",
    "\n",
    "Np. Wywołanie\n",
    "\n",
    "    delay(lambda x: x ** 0.5, 100, 16)\n",
    "\n",
    "Powinno po 100 ms policzyć pierwiastek z 16\n",
    "\n",
    "Inny przykład\n",
    "\n",
    "    def func(a, b, c):\n",
    "        return a * b ** c\n",
    "\n",
    "    delay(func, 250, 10, 20, 2)\n",
    "\n",
    "powinno zwrócić po 250 ms wynik 4000\n",
    "\n",
    "    delay(print, 2000, \"Ala ma kota\", \"Asa\", end=\"-\")\n",
    "\n",
    "Zwróci po 2 sekundach:\n",
    "\n",
    "    Ala ma kota Asa-\n",
    "\n",
    "Postaraj się w miare możliwości napisać testy. "
   ]
  },
  {
   "cell_type": "code",
   "execution_count": 26,
   "id": "376ca016",
   "metadata": {},
   "outputs": [
    {
     "data": {
      "text/plain": [
       "4000"
      ]
     },
     "execution_count": 26,
     "metadata": {},
     "output_type": "execute_result"
    }
   ],
   "source": [
    "from time import sleep\n",
    "\n",
    "def delay(func, ms, *args, **kwargs):\n",
    "    sleep(ms/1000)\n",
    "    return func(*args, **kwargs)\n",
    "\n",
    "\n",
    "def func(a, b, c):\n",
    "    return a * b ** c\n",
    "\n",
    "delay(func, 250, 10, 20, 2)"
   ]
  },
  {
   "cell_type": "code",
   "execution_count": 28,
   "id": "42570df3",
   "metadata": {},
   "outputs": [
    {
     "name": "stdout",
     "output_type": "stream",
     "text": [
      "Ala ma kota;Asa-"
     ]
    }
   ],
   "source": [
    "delay(print, 2000, \"Ala ma kota\", \"Asa\", sep=\";\", end=\"-\")\n"
   ]
  },
  {
   "cell_type": "markdown",
   "id": "3427e9a7",
   "metadata": {},
   "source": [
    "### zad\n",
    "\n",
    "\n",
    "### total_length\n",
    "\n",
    "a) Napisz funkcję o nazwie `total_length`, która przyjmuje pewną liczbę obiektów, które posiadają długość(listy, zestawy, ciągi itp.) i zwraca sumę długości obiektów.\n",
    "\n",
    "Np:\n",
    "\n",
    "    >>> total_length([4, 5], (6, 7))\n",
    "    4\n",
    "    >>> total_length('hello', {'red': 50, 'purple': 100})\n",
    "    7\n",
    "\n",
    "b) Zmodyfikuj funkcję tak, by przyjmowała iterowalne obiekty, które nie posiadają długości - np wyrażenie generatorowe\n",
    "\n",
    "    >>> numbers = [4, 6, 8, 9]\n",
    "    >>> total_length(enumerate(numbers), (n**2 for n in numbers))\n",
    "    8\n",
    "    >>> total_length(n for n in numbers if n % 2 == 0)\n",
    "    3\n",
    "\n",
    "c) Zadbaj o to by funkcja działała wydajnie dla obiektów, które maja dużo elementów\n",
    "\n",
    "    total_length(range(1000), range(1000000000))"
   ]
  },
  {
   "cell_type": "code",
   "execution_count": 29,
   "id": "e9560c40",
   "metadata": {},
   "outputs": [
    {
     "data": {
      "text/plain": [
       "3"
      ]
     },
     "execution_count": 29,
     "metadata": {},
     "output_type": "execute_result"
    }
   ],
   "source": [
    "len(\"aaa\")"
   ]
  },
  {
   "cell_type": "code",
   "execution_count": 36,
   "id": "c6bc10ec",
   "metadata": {},
   "outputs": [],
   "source": [
    "numbers = [4, 6, 8, 9]\n",
    "xxx= (n**2 for n in numbers)"
   ]
  },
  {
   "cell_type": "code",
   "execution_count": 38,
   "id": "b9b7b3d7",
   "metadata": {},
   "outputs": [
    {
     "name": "stdout",
     "output_type": "stream",
     "text": [
      "16\n",
      "36\n",
      "64\n",
      "81\n"
     ]
    }
   ],
   "source": [
    "for i in xxx: print(i)"
   ]
  },
  {
   "cell_type": "code",
   "execution_count": 40,
   "id": "fa561c44",
   "metadata": {},
   "outputs": [
    {
     "name": "stdout",
     "output_type": "stream",
     "text": [
      "4\n",
      "6\n",
      "8\n",
      "9\n"
     ]
    }
   ],
   "source": [
    "for i in numbers: print(i)"
   ]
  },
  {
   "cell_type": "code",
   "execution_count": 43,
   "id": "7f4d8ccf",
   "metadata": {},
   "outputs": [],
   "source": [
    "if str(type(xxx)) == 'generator' : print(\"aaaa\")"
   ]
  },
  {
   "cell_type": "code",
   "execution_count": 45,
   "id": "0cf21b94",
   "metadata": {},
   "outputs": [
    {
     "data": {
      "text/plain": [
       "generator"
      ]
     },
     "execution_count": 45,
     "metadata": {},
     "output_type": "execute_result"
    }
   ],
   "source": [
    "type(xxx)"
   ]
  },
  {
   "cell_type": "code",
   "execution_count": 46,
   "id": "2c938794",
   "metadata": {},
   "outputs": [
    {
     "name": "stdout",
     "output_type": "stream",
     "text": [
      "aaaa\n"
     ]
    }
   ],
   "source": [
    "if 'generator' in str(type(xxx)): print(\"aaaa\")"
   ]
  },
  {
   "cell_type": "code",
   "execution_count": 49,
   "id": "ac1402fd",
   "metadata": {},
   "outputs": [
    {
     "data": {
      "text/plain": [
       "False"
      ]
     },
     "execution_count": 49,
     "metadata": {},
     "output_type": "execute_result"
    }
   ],
   "source": [
    "hasattr(numbers, '__next__')"
   ]
  },
  {
   "cell_type": "code",
   "execution_count": 50,
   "id": "ff274189",
   "metadata": {},
   "outputs": [
    {
     "data": {
      "text/plain": [
       "True"
      ]
     },
     "execution_count": 50,
     "metadata": {},
     "output_type": "execute_result"
    }
   ],
   "source": [
    "hasattr(numbers, '__len__')"
   ]
  },
  {
   "cell_type": "markdown",
   "id": "8cdc3d43",
   "metadata": {},
   "source": [
    "#### Rozwiązanie a)"
   ]
  },
  {
   "cell_type": "code",
   "execution_count": 53,
   "id": "8704cb32",
   "metadata": {},
   "outputs": [],
   "source": [
    "def total_length(*args):\n",
    "    return sum(len(x) for x in args)\n",
    "\n",
    "\n",
    "def total_length_v2(*args):\n",
    "    length = 0\n",
    "    for el in args:\n",
    "        length += len(el)\n",
    "    return length\n",
    "\n",
    "\n",
    "assert total_length([4, 5], [6, 7]) == 4\n",
    "assert total_length('hello', {'red':50, 'purple': 100}) == 7\n",
    "\n",
    "\n",
    "assert total_length_v2([4, 5], [6, 7]) == 4\n",
    "assert total_length_v2('hello', {'red':50, 'purple': 100}) == 7"
   ]
  },
  {
   "cell_type": "code",
   "execution_count": 60,
   "id": "a3e3ab0a",
   "metadata": {},
   "outputs": [
    {
     "name": "stdout",
     "output_type": "stream",
     "text": [
      "63 ms ± 407 µs per loop (mean ± std. dev. of 7 runs, 10 loops each)\n"
     ]
    }
   ],
   "source": [
    "%timeit total_length(list(range(1000000)), list(range(1000000)))"
   ]
  },
  {
   "cell_type": "code",
   "execution_count": 61,
   "id": "bc3a189d",
   "metadata": {},
   "outputs": [
    {
     "name": "stdout",
     "output_type": "stream",
     "text": [
      "62 ms ± 248 µs per loop (mean ± std. dev. of 7 runs, 10 loops each)\n"
     ]
    }
   ],
   "source": [
    "%timeit total_length_v2(list(range(1000000)), list(range(1000000)))"
   ]
  },
  {
   "cell_type": "code",
   "execution_count": 65,
   "id": "00f8f1d2",
   "metadata": {},
   "outputs": [],
   "source": [
    "assert total_length(range(11), range(12)) == 23"
   ]
  },
  {
   "cell_type": "code",
   "execution_count": 67,
   "id": "545470e0",
   "metadata": {},
   "outputs": [
    {
     "ename": "TypeError",
     "evalue": "object of type 'generator' has no len()",
     "output_type": "error",
     "traceback": [
      "\u001b[0;31m---------------------------------------------------------------------------\u001b[0m",
      "\u001b[0;31mTypeError\u001b[0m                                 Traceback (most recent call last)",
      "Input \u001b[0;32mIn [67]\u001b[0m, in \u001b[0;36m<cell line: 1>\u001b[0;34m()\u001b[0m\n\u001b[0;32m----> 1\u001b[0m \u001b[43mtotal_length\u001b[49m\u001b[43m(\u001b[49m\u001b[43m(\u001b[49m\u001b[43mx\u001b[49m\u001b[43m \u001b[49m\u001b[38;5;28;43;01mfor\u001b[39;49;00m\u001b[43m \u001b[49m\u001b[43mx\u001b[49m\u001b[43m \u001b[49m\u001b[38;5;129;43;01min\u001b[39;49;00m\u001b[43m \u001b[49m\u001b[38;5;28;43mrange\u001b[39;49m\u001b[43m(\u001b[49m\u001b[38;5;241;43m10\u001b[39;49m\u001b[43m)\u001b[49m\u001b[43m)\u001b[49m\u001b[43m)\u001b[49m\n",
      "Input \u001b[0;32mIn [53]\u001b[0m, in \u001b[0;36mtotal_length\u001b[0;34m(*args)\u001b[0m\n\u001b[1;32m      1\u001b[0m \u001b[38;5;28;01mdef\u001b[39;00m \u001b[38;5;21mtotal_length\u001b[39m(\u001b[38;5;241m*\u001b[39margs):\n\u001b[0;32m----> 2\u001b[0m     \u001b[38;5;28;01mreturn\u001b[39;00m \u001b[38;5;28;43msum\u001b[39;49m\u001b[43m(\u001b[49m\u001b[38;5;28;43mlen\u001b[39;49m\u001b[43m(\u001b[49m\u001b[43mx\u001b[49m\u001b[43m)\u001b[49m\u001b[43m \u001b[49m\u001b[38;5;28;43;01mfor\u001b[39;49;00m\u001b[43m \u001b[49m\u001b[43mx\u001b[49m\u001b[43m \u001b[49m\u001b[38;5;129;43;01min\u001b[39;49;00m\u001b[43m \u001b[49m\u001b[43margs\u001b[49m\u001b[43m)\u001b[49m\n",
      "Input \u001b[0;32mIn [53]\u001b[0m, in \u001b[0;36m<genexpr>\u001b[0;34m(.0)\u001b[0m\n\u001b[1;32m      1\u001b[0m \u001b[38;5;28;01mdef\u001b[39;00m \u001b[38;5;21mtotal_length\u001b[39m(\u001b[38;5;241m*\u001b[39margs):\n\u001b[0;32m----> 2\u001b[0m     \u001b[38;5;28;01mreturn\u001b[39;00m \u001b[38;5;28msum\u001b[39m(\u001b[38;5;28;43mlen\u001b[39;49m\u001b[43m(\u001b[49m\u001b[43mx\u001b[49m\u001b[43m)\u001b[49m \u001b[38;5;28;01mfor\u001b[39;00m x \u001b[38;5;129;01min\u001b[39;00m args)\n",
      "\u001b[0;31mTypeError\u001b[0m: object of type 'generator' has no len()"
     ]
    }
   ],
   "source": [
    "total_length((x for x in range(10)))"
   ]
  },
  {
   "cell_type": "code",
   "execution_count": 70,
   "id": "39ba6ebb",
   "metadata": {},
   "outputs": [],
   "source": [
    "def total_length(*iterables):\n",
    "    length = 0\n",
    "    for iterable in iterables:\n",
    "        for _ in iterable:\n",
    "            length += 1\n",
    "    return length\n"
   ]
  },
  {
   "cell_type": "code",
   "execution_count": 71,
   "id": "b220dc54",
   "metadata": {},
   "outputs": [
    {
     "data": {
      "text/plain": [
       "10"
      ]
     },
     "execution_count": 71,
     "metadata": {},
     "output_type": "execute_result"
    }
   ],
   "source": [
    "total_length((x for x in range(10)))"
   ]
  },
  {
   "cell_type": "code",
   "execution_count": 72,
   "id": "002f3be8",
   "metadata": {},
   "outputs": [
    {
     "name": "stdout",
     "output_type": "stream",
     "text": [
      "142 ms ± 742 µs per loop (mean ± std. dev. of 7 runs, 10 loops each)\n"
     ]
    }
   ],
   "source": [
    "%timeit total_length(list(range(1000000)), list(range(1000000)))"
   ]
  },
  {
   "cell_type": "code",
   "execution_count": 75,
   "id": "86eac084",
   "metadata": {},
   "outputs": [],
   "source": [
    "def total_length(*iterables):\n",
    "   return sum(\n",
    "       1 \n",
    "       for iterable in iterables\n",
    "       for _ in iterable\n",
    "   )"
   ]
  },
  {
   "cell_type": "code",
   "execution_count": 76,
   "id": "84310f94",
   "metadata": {},
   "outputs": [
    {
     "data": {
      "text/plain": [
       "10"
      ]
     },
     "execution_count": 76,
     "metadata": {},
     "output_type": "execute_result"
    }
   ],
   "source": [
    "total_length((x for x in range(10)))"
   ]
  },
  {
   "cell_type": "code",
   "execution_count": 77,
   "id": "5c95fe0c",
   "metadata": {},
   "outputs": [
    {
     "name": "stdout",
     "output_type": "stream",
     "text": [
      "135 ms ± 592 µs per loop (mean ± std. dev. of 7 runs, 10 loops each)\n"
     ]
    }
   ],
   "source": [
    "%timeit total_length(list(range(1000000)), list(range(1000000)))"
   ]
  },
  {
   "cell_type": "code",
   "execution_count": 78,
   "id": "3ea4425b",
   "metadata": {},
   "outputs": [],
   "source": [
    "def total_length(*iterables):\n",
    "    length = 0\n",
    "    for iterable in iterables:\n",
    "        if hasattr(iterable, '__len__'):\n",
    "            length += len(iterable)\n",
    "        else:\n",
    "            length += sum(1 for _ in iterable)\n",
    "    return length"
   ]
  },
  {
   "cell_type": "code",
   "execution_count": 79,
   "id": "4a7d4314",
   "metadata": {},
   "outputs": [
    {
     "data": {
      "text/plain": [
       "10"
      ]
     },
     "execution_count": 79,
     "metadata": {},
     "output_type": "execute_result"
    }
   ],
   "source": [
    "total_length())"
   ]
  },
  {
   "cell_type": "code",
   "execution_count": 81,
   "id": "028ca15b",
   "metadata": {},
   "outputs": [
    {
     "name": "stdout",
     "output_type": "stream",
     "text": [
      "72.9 ms ± 717 µs per loop (mean ± std. dev. of 7 runs, 10 loops each)\n"
     ]
    }
   ],
   "source": [
    "%timeit total_length((x for x in range(100000)), list(range(1000000)), list(range(1000000)), [1, 2, 3])"
   ]
  },
  {
   "cell_type": "code",
   "execution_count": 83,
   "id": "362f9487",
   "metadata": {},
   "outputs": [],
   "source": [
    "gen = (x for x in range(10))"
   ]
  },
  {
   "cell_type": "code",
   "execution_count": 84,
   "id": "d50c2fdc",
   "metadata": {},
   "outputs": [
    {
     "data": {
      "text/plain": [
       "generator"
      ]
     },
     "execution_count": 84,
     "metadata": {},
     "output_type": "execute_result"
    }
   ],
   "source": [
    "type(gen)"
   ]
  },
  {
   "cell_type": "code",
   "execution_count": 85,
   "id": "1b3ecc1a",
   "metadata": {},
   "outputs": [
    {
     "data": {
      "text/plain": [
       "False"
      ]
     },
     "execution_count": 85,
     "metadata": {},
     "output_type": "execute_result"
    }
   ],
   "source": [
    "hasattr(gen, \"__len__\")"
   ]
  },
  {
   "cell_type": "code",
   "execution_count": 86,
   "id": "b965426e",
   "metadata": {},
   "outputs": [
    {
     "data": {
      "text/plain": [
       "True"
      ]
     },
     "execution_count": 86,
     "metadata": {},
     "output_type": "execute_result"
    }
   ],
   "source": [
    "hasattr([1, 2], \"__len__\")"
   ]
  },
  {
   "cell_type": "code",
   "execution_count": 87,
   "id": "83a2fe0d",
   "metadata": {},
   "outputs": [
    {
     "data": {
      "text/plain": [
       "2"
      ]
     },
     "execution_count": 87,
     "metadata": {},
     "output_type": "execute_result"
    }
   ],
   "source": [
    "len([1,2])"
   ]
  },
  {
   "cell_type": "code",
   "execution_count": 88,
   "id": "2d085bd8",
   "metadata": {},
   "outputs": [
    {
     "data": {
      "text/plain": [
       "2"
      ]
     },
     "execution_count": 88,
     "metadata": {},
     "output_type": "execute_result"
    }
   ],
   "source": [
    "[1, 2].__len__()"
   ]
  },
  {
   "cell_type": "code",
   "execution_count": 89,
   "id": "7dd2bd12",
   "metadata": {},
   "outputs": [
    {
     "ename": "TypeError",
     "evalue": "object of type 'generator' has no len()",
     "output_type": "error",
     "traceback": [
      "\u001b[0;31m---------------------------------------------------------------------------\u001b[0m",
      "\u001b[0;31mTypeError\u001b[0m                                 Traceback (most recent call last)",
      "Input \u001b[0;32mIn [89]\u001b[0m, in \u001b[0;36m<cell line: 1>\u001b[0;34m()\u001b[0m\n\u001b[0;32m----> 1\u001b[0m \u001b[38;5;28;43mlen\u001b[39;49m\u001b[43m(\u001b[49m\u001b[43mgen\u001b[49m\u001b[43m)\u001b[49m\n",
      "\u001b[0;31mTypeError\u001b[0m: object of type 'generator' has no len()"
     ]
    }
   ],
   "source": [
    "len(gen)"
   ]
  },
  {
   "cell_type": "code",
   "execution_count": 91,
   "id": "93394d77",
   "metadata": {},
   "outputs": [
    {
     "name": "stdout",
     "output_type": "stream",
     "text": [
      "72.1 ms ± 355 µs per loop (mean ± std. dev. of 7 runs, 10 loops each)\n"
     ]
    }
   ],
   "source": [
    "%%timeit \n",
    "\n",
    "total_length((x for x in range(100000)), list(range(1000000)), list(range(1000000)), [1, 2, 3])"
   ]
  },
  {
   "cell_type": "code",
   "execution_count": 92,
   "id": "c843f133",
   "metadata": {},
   "outputs": [
    {
     "data": {
      "application/json": {
       "cell": {
        "!": "OSMagics",
        "HTML": "Other",
        "SVG": "Other",
        "bash": "Other",
        "capture": "ExecutionMagics",
        "debug": "ExecutionMagics",
        "file": "Other",
        "html": "DisplayMagics",
        "javascript": "DisplayMagics",
        "js": "DisplayMagics",
        "latex": "DisplayMagics",
        "markdown": "DisplayMagics",
        "perl": "Other",
        "prun": "ExecutionMagics",
        "pypy": "Other",
        "python": "Other",
        "python2": "Other",
        "python3": "Other",
        "ruby": "Other",
        "script": "ScriptMagics",
        "sh": "Other",
        "svg": "DisplayMagics",
        "sx": "OSMagics",
        "system": "OSMagics",
        "time": "ExecutionMagics",
        "timeit": "ExecutionMagics",
        "writefile": "OSMagics"
       },
       "line": {
        "alias": "OSMagics",
        "alias_magic": "BasicMagics",
        "autoawait": "AsyncMagics",
        "autocall": "AutoMagics",
        "automagic": "AutoMagics",
        "autosave": "KernelMagics",
        "bookmark": "OSMagics",
        "cat": "Other",
        "cd": "OSMagics",
        "clear": "KernelMagics",
        "colors": "BasicMagics",
        "conda": "PackagingMagics",
        "config": "ConfigMagics",
        "connect_info": "KernelMagics",
        "cp": "Other",
        "debug": "ExecutionMagics",
        "dhist": "OSMagics",
        "dirs": "OSMagics",
        "doctest_mode": "BasicMagics",
        "ed": "Other",
        "edit": "KernelMagics",
        "env": "OSMagics",
        "gui": "BasicMagics",
        "hist": "Other",
        "history": "HistoryMagics",
        "killbgscripts": "ScriptMagics",
        "ldir": "Other",
        "less": "KernelMagics",
        "lf": "Other",
        "lk": "Other",
        "ll": "Other",
        "load": "CodeMagics",
        "load_ext": "ExtensionMagics",
        "loadpy": "CodeMagics",
        "logoff": "LoggingMagics",
        "logon": "LoggingMagics",
        "logstart": "LoggingMagics",
        "logstate": "LoggingMagics",
        "logstop": "LoggingMagics",
        "ls": "Other",
        "lsmagic": "BasicMagics",
        "lx": "Other",
        "macro": "ExecutionMagics",
        "magic": "BasicMagics",
        "man": "KernelMagics",
        "matplotlib": "PylabMagics",
        "mkdir": "Other",
        "more": "KernelMagics",
        "mv": "Other",
        "notebook": "BasicMagics",
        "page": "BasicMagics",
        "pastebin": "CodeMagics",
        "pdb": "ExecutionMagics",
        "pdef": "NamespaceMagics",
        "pdoc": "NamespaceMagics",
        "pfile": "NamespaceMagics",
        "pinfo": "NamespaceMagics",
        "pinfo2": "NamespaceMagics",
        "pip": "PackagingMagics",
        "popd": "OSMagics",
        "pprint": "BasicMagics",
        "precision": "BasicMagics",
        "prun": "ExecutionMagics",
        "psearch": "NamespaceMagics",
        "psource": "NamespaceMagics",
        "pushd": "OSMagics",
        "pwd": "OSMagics",
        "pycat": "OSMagics",
        "pylab": "PylabMagics",
        "qtconsole": "KernelMagics",
        "quickref": "BasicMagics",
        "recall": "HistoryMagics",
        "rehashx": "OSMagics",
        "reload_ext": "ExtensionMagics",
        "rep": "Other",
        "rerun": "HistoryMagics",
        "reset": "NamespaceMagics",
        "reset_selective": "NamespaceMagics",
        "rm": "Other",
        "rmdir": "Other",
        "run": "ExecutionMagics",
        "save": "CodeMagics",
        "sc": "OSMagics",
        "set_env": "OSMagics",
        "store": "StoreMagics",
        "sx": "OSMagics",
        "system": "OSMagics",
        "tb": "ExecutionMagics",
        "time": "ExecutionMagics",
        "timeit": "ExecutionMagics",
        "unalias": "OSMagics",
        "unload_ext": "ExtensionMagics",
        "who": "NamespaceMagics",
        "who_ls": "NamespaceMagics",
        "whos": "NamespaceMagics",
        "xdel": "NamespaceMagics",
        "xmode": "BasicMagics"
       }
      },
      "text/plain": [
       "Available line magics:\n",
       "%alias  %alias_magic  %autoawait  %autocall  %automagic  %autosave  %bookmark  %cat  %cd  %clear  %colors  %conda  %config  %connect_info  %cp  %debug  %dhist  %dirs  %doctest_mode  %ed  %edit  %env  %gui  %hist  %history  %killbgscripts  %ldir  %less  %lf  %lk  %ll  %load  %load_ext  %loadpy  %logoff  %logon  %logstart  %logstate  %logstop  %ls  %lsmagic  %lx  %macro  %magic  %man  %matplotlib  %mkdir  %more  %mv  %notebook  %page  %pastebin  %pdb  %pdef  %pdoc  %pfile  %pinfo  %pinfo2  %pip  %popd  %pprint  %precision  %prun  %psearch  %psource  %pushd  %pwd  %pycat  %pylab  %qtconsole  %quickref  %recall  %rehashx  %reload_ext  %rep  %rerun  %reset  %reset_selective  %rm  %rmdir  %run  %save  %sc  %set_env  %store  %sx  %system  %tb  %time  %timeit  %unalias  %unload_ext  %who  %who_ls  %whos  %xdel  %xmode\n",
       "\n",
       "Available cell magics:\n",
       "%%!  %%HTML  %%SVG  %%bash  %%capture  %%debug  %%file  %%html  %%javascript  %%js  %%latex  %%markdown  %%perl  %%prun  %%pypy  %%python  %%python2  %%python3  %%ruby  %%script  %%sh  %%svg  %%sx  %%system  %%time  %%timeit  %%writefile\n",
       "\n",
       "Automagic is ON, % prefix IS NOT needed for line magics."
      ]
     },
     "execution_count": 92,
     "metadata": {},
     "output_type": "execute_result"
    }
   ],
   "source": [
    "%lsmagic"
   ]
  },
  {
   "cell_type": "code",
   "execution_count": 93,
   "id": "d8559172",
   "metadata": {},
   "outputs": [
    {
     "name": "stdout",
     "output_type": "stream",
     "text": [
      "Writing xxx.txt\n"
     ]
    }
   ],
   "source": [
    "%%writefile xxx.txt\n",
    "\n",
    "dsds\n",
    "\n",
    "sds\n",
    "def\n",
    "sdsd"
   ]
  },
  {
   "cell_type": "markdown",
   "id": "5fcafab6",
   "metadata": {},
   "source": [
    "|\n",
    "\n",
    "### funkcje jako argumenty\n",
    "\n",
    "Napisz funkcję `cut`, która przyjmie jako argument listę oraz dwie funkcje określające kiedy zacząć wybieranie i kiedy kończyć.\n",
    "\n",
    "np.:\n",
    "\n",
    "    cut([1, 2, 3, 4, 5, 6, 7, 8], start=lambda x: x > 3, stop=lambda x: x==7)\n",
    "    [4, 5, 6, 7]\n",
    "    \n",
    "    \n",
    "    cut([1, 2, 3, 4, 5, 6, 7, 8], start=lambda x: x > 3, stop=lambda x: x<7)\n",
    "    [4]\n",
    "    \n",
    "    cut([1, 2, 3, 4, 8, 8, 8, 8, 1], start=lambda x: x > 3, stop=lambda x: x<4)\n",
    "    [4, 8, 8, 8, 8, 6]\n",
    "        \n",
    "    cut([\"x\", \"y\", \"z\", \"zz\"], start=lambda x: x == \"y\", stop=lambda x: x==\"zz\")\n",
    "    [ \"y\", \"z\", \"zz\"]"
   ]
  },
  {
   "cell_type": "code",
   "execution_count": 98,
   "id": "91e64c66",
   "metadata": {},
   "outputs": [],
   "source": [
    "from typing import Callable, List, Union\n",
    "\n",
    "def cut(data: List[Union[int, str]], start: Callable, stop: Callable) -> List[Union[int, str]]:\n",
    "    result = []\n",
    "    \n",
    "    can_add = False\n",
    "    \n",
    "    for el in data:\n",
    "        if not can_add and start(el):\n",
    "            can_add = True\n",
    "            \n",
    "        if can_add:\n",
    "            result.append(el)\n",
    "            if stop(el): break\n",
    "    \n",
    "    return result\n",
    "\n",
    "\n",
    "assert cut([1, 2, 3, 4, 5, 6, 7, 8], start=lambda x: x > 3, stop=lambda x: x==7) == [4, 5, 6, 7]\n",
    "\n",
    "assert cut([1, 2, 3, 4, 5, 6, 7, 8], start=lambda x: x > 3, stop=lambda x: x<7) == [4]\n",
    "\n",
    "assert cut([1, 2, 3, 4, 8, 8, 8, 8, 6], start=lambda x: x > 3, stop=lambda x: x<4) == [4, 8, 8, 8, 8, 6]\n",
    "\n",
    "assert cut([\"x\", \"y\", \"z\", \"zz\"], start=lambda x: x == \"y\", stop=lambda x: x==\"zz\") ==[ \"y\", \"z\", \"zz\"]                \n",
    "                \n",
    "            "
   ]
  },
  {
   "cell_type": "markdown",
   "id": "7a6045e0",
   "metadata": {},
   "source": [
    "# Klasy"
   ]
  },
  {
   "cell_type": "code",
   "execution_count": 100,
   "id": "53d778b2",
   "metadata": {},
   "outputs": [
    {
     "data": {
      "text/plain": [
       "<__main__.Vehicle at 0x10f9661d0>"
      ]
     },
     "execution_count": 100,
     "metadata": {},
     "output_type": "execute_result"
    }
   ],
   "source": [
    "class Vehicle: pass\n",
    "\n",
    "v = Vehicle()\n",
    "\n",
    "v"
   ]
  },
  {
   "cell_type": "code",
   "execution_count": 101,
   "id": "e50a6e74",
   "metadata": {},
   "outputs": [
    {
     "data": {
      "text/plain": [
       "__main__.Vehicle"
      ]
     },
     "execution_count": 101,
     "metadata": {},
     "output_type": "execute_result"
    }
   ],
   "source": [
    "type(v)"
   ]
  },
  {
   "cell_type": "code",
   "execution_count": 102,
   "id": "a02593d5",
   "metadata": {},
   "outputs": [
    {
     "data": {
      "text/plain": [
       "['__class__',\n",
       " '__delattr__',\n",
       " '__dict__',\n",
       " '__dir__',\n",
       " '__doc__',\n",
       " '__eq__',\n",
       " '__format__',\n",
       " '__ge__',\n",
       " '__getattribute__',\n",
       " '__gt__',\n",
       " '__hash__',\n",
       " '__init__',\n",
       " '__init_subclass__',\n",
       " '__le__',\n",
       " '__lt__',\n",
       " '__module__',\n",
       " '__ne__',\n",
       " '__new__',\n",
       " '__reduce__',\n",
       " '__reduce_ex__',\n",
       " '__repr__',\n",
       " '__setattr__',\n",
       " '__sizeof__',\n",
       " '__str__',\n",
       " '__subclasshook__',\n",
       " '__weakref__']"
      ]
     },
     "execution_count": 102,
     "metadata": {},
     "output_type": "execute_result"
    }
   ],
   "source": [
    "dir(v)"
   ]
  },
  {
   "cell_type": "code",
   "execution_count": 103,
   "id": "a3d608af",
   "metadata": {},
   "outputs": [],
   "source": [
    "v.name = \"Mercedes\""
   ]
  },
  {
   "cell_type": "code",
   "execution_count": 106,
   "id": "4ceab894",
   "metadata": {},
   "outputs": [],
   "source": [
    "Vehicle.description = \"Pojazdy wszelakie\""
   ]
  },
  {
   "cell_type": "code",
   "execution_count": 107,
   "id": "d1c9d332",
   "metadata": {},
   "outputs": [
    {
     "data": {
      "text/plain": [
       "'Pojazdy wszelakie'"
      ]
     },
     "execution_count": 107,
     "metadata": {},
     "output_type": "execute_result"
    }
   ],
   "source": [
    "v.description"
   ]
  },
  {
   "cell_type": "code",
   "execution_count": 108,
   "id": "ddc6d6dd",
   "metadata": {},
   "outputs": [],
   "source": [
    "v2  = \"Ford\""
   ]
  },
  {
   "cell_type": "code",
   "execution_count": 109,
   "id": "f0c6723c",
   "metadata": {},
   "outputs": [],
   "source": [
    "v2 = Vehicle()"
   ]
  },
  {
   "cell_type": "code",
   "execution_count": 110,
   "id": "79ba06a0",
   "metadata": {},
   "outputs": [
    {
     "data": {
      "text/plain": [
       "'Pojazdy wszelakie'"
      ]
     },
     "execution_count": 110,
     "metadata": {},
     "output_type": "execute_result"
    }
   ],
   "source": [
    "v2.description\n"
   ]
  },
  {
   "cell_type": "code",
   "execution_count": 172,
   "id": "9a214234",
   "metadata": {},
   "outputs": [],
   "source": [
    "class Vehicle:\n",
    "    description: str = \"Pojazdy wszelakie\"\n",
    "    count = 0\n",
    "    def __init__(self, name: str):\n",
    "        # Vehicle.count += 1\n",
    "        self.__class__.count += 1\n",
    "        self.name = name\n",
    "        \n",
    "    def __del__(self):\n",
    "        self.__class__.count -= 1\n",
    "        \n",
    "        \n",
    "    def __repr__(self):\n",
    "        return f\"<Vehicle: {self.name}>\"\n",
    "        "
   ]
  },
  {
   "cell_type": "code",
   "execution_count": 173,
   "id": "821317f2",
   "metadata": {},
   "outputs": [],
   "source": [
    "v = Vehicle(\"Ford\")"
   ]
  },
  {
   "cell_type": "code",
   "execution_count": 176,
   "id": "516e32e7",
   "metadata": {},
   "outputs": [
    {
     "data": {
      "text/plain": [
       "'<Vehicle: Ford>'"
      ]
     },
     "execution_count": 176,
     "metadata": {},
     "output_type": "execute_result"
    }
   ],
   "source": [
    "repr(v)"
   ]
  },
  {
   "cell_type": "code",
   "execution_count": 167,
   "id": "3ae1b707",
   "metadata": {},
   "outputs": [
    {
     "data": {
      "text/plain": [
       "'[Ford]'"
      ]
     },
     "execution_count": 167,
     "metadata": {},
     "output_type": "execute_result"
    }
   ],
   "source": [
    "str([v])"
   ]
  },
  {
   "cell_type": "code",
   "execution_count": 152,
   "id": "0f280f0d",
   "metadata": {},
   "outputs": [
    {
     "data": {
      "text/plain": [
       "'Ford'"
      ]
     },
     "execution_count": 152,
     "metadata": {},
     "output_type": "execute_result"
    }
   ],
   "source": [
    "v.description\n",
    "v.name"
   ]
  },
  {
   "cell_type": "code",
   "execution_count": 153,
   "id": "b22e9ac1",
   "metadata": {},
   "outputs": [
    {
     "data": {
      "text/plain": [
       "1"
      ]
     },
     "execution_count": 153,
     "metadata": {},
     "output_type": "execute_result"
    }
   ],
   "source": [
    "v.count"
   ]
  },
  {
   "cell_type": "code",
   "execution_count": 154,
   "id": "4f4dfc67",
   "metadata": {},
   "outputs": [
    {
     "data": {
      "text/plain": [
       "__main__.Vehicle"
      ]
     },
     "execution_count": 154,
     "metadata": {},
     "output_type": "execute_result"
    }
   ],
   "source": [
    "v.__class__"
   ]
  },
  {
   "cell_type": "code",
   "execution_count": 155,
   "id": "d85818e6",
   "metadata": {},
   "outputs": [],
   "source": [
    "assert Vehicle.count == 1"
   ]
  },
  {
   "cell_type": "code",
   "execution_count": 156,
   "id": "749d0639",
   "metadata": {},
   "outputs": [],
   "source": [
    "v2 = Vehicle(\"Mercedes\")\n",
    "assert Vehicle.count == 2"
   ]
  },
  {
   "cell_type": "code",
   "execution_count": 157,
   "id": "99ebb2cf",
   "metadata": {},
   "outputs": [],
   "source": [
    "del v"
   ]
  },
  {
   "cell_type": "code",
   "execution_count": 158,
   "id": "c3285238",
   "metadata": {},
   "outputs": [
    {
     "data": {
      "text/plain": [
       "1"
      ]
     },
     "execution_count": 158,
     "metadata": {},
     "output_type": "execute_result"
    }
   ],
   "source": [
    "Vehicle.count"
   ]
  },
  {
   "cell_type": "markdown",
   "id": "70305441",
   "metadata": {},
   "source": [
    "### metody\n",
    "\n"
   ]
  },
  {
   "cell_type": "code",
   "execution_count": 220,
   "id": "204f5cf1",
   "metadata": {},
   "outputs": [],
   "source": [
    "class Vehicle:\n",
    "    description: str = \"Pojazdy wszelakie\"\n",
    "    count = 0\n",
    "    def __init__(self, name: str):\n",
    "        # Vehicle.count += 1\n",
    "        self.__class__.count += 1\n",
    "        self.name = name\n",
    "        # self.name_len = len(name)\n",
    "        self._energy = 100\n",
    "        \n",
    "    def __del__(self):\n",
    "        self.__class__.count -= 1\n",
    "        \n",
    "        \n",
    "    def __repr__(self):\n",
    "        return f\"<Vehicle: {self.name}>\"\n",
    "    \n",
    "    def drive(self):\n",
    "        print(f\"{self} is driving\")\n",
    "    \n",
    "    @property\n",
    "    def name_len(self):\n",
    "        return len(self.name)\n",
    "    \n",
    "    @property\n",
    "    def energy(self):\n",
    "        return self._energy\n",
    "    \n",
    "    \n",
    "    @energy.setter\n",
    "    def energy(self, value):\n",
    "        if 0 <= value <= 100:\n",
    "            self._energy = value\n",
    "        else:\n",
    "            raise ValueError(\"Energia powinna byc w zakresie 0-100\")\n",
    "    \n",
    "    def charge(self):\n",
    "        self._energy = 100"
   ]
  },
  {
   "cell_type": "code",
   "execution_count": 221,
   "id": "43cbf576",
   "metadata": {},
   "outputs": [],
   "source": [
    "v = Vehicle(\"Ford\")"
   ]
  },
  {
   "cell_type": "code",
   "execution_count": 201,
   "id": "eb0ec792",
   "metadata": {},
   "outputs": [
    {
     "name": "stdout",
     "output_type": "stream",
     "text": [
      "<Vehicle: Ford> is driving\n"
     ]
    }
   ],
   "source": [
    "v.drive()"
   ]
  },
  {
   "cell_type": "code",
   "execution_count": 202,
   "id": "3faa7d09",
   "metadata": {},
   "outputs": [
    {
     "name": "stdout",
     "output_type": "stream",
     "text": [
      "<Vehicle: Ford> is driving\n"
     ]
    }
   ],
   "source": [
    "Vehicle.drive(v)"
   ]
  },
  {
   "cell_type": "code",
   "execution_count": 204,
   "id": "484c478e",
   "metadata": {},
   "outputs": [
    {
     "data": {
      "text/plain": [
       "4"
      ]
     },
     "execution_count": 204,
     "metadata": {},
     "output_type": "execute_result"
    }
   ],
   "source": [
    "v.name_len"
   ]
  },
  {
   "cell_type": "code",
   "execution_count": 205,
   "id": "9cde338b",
   "metadata": {},
   "outputs": [],
   "source": [
    "v.name = \"Ford Mustang\""
   ]
  },
  {
   "cell_type": "code",
   "execution_count": 206,
   "id": "278f4640",
   "metadata": {},
   "outputs": [
    {
     "data": {
      "text/plain": [
       "<Vehicle: Ford Mustang>"
      ]
     },
     "execution_count": 206,
     "metadata": {},
     "output_type": "execute_result"
    }
   ],
   "source": [
    "v"
   ]
  },
  {
   "cell_type": "code",
   "execution_count": 207,
   "id": "d666d041",
   "metadata": {},
   "outputs": [
    {
     "data": {
      "text/plain": [
       "12"
      ]
     },
     "execution_count": 207,
     "metadata": {},
     "output_type": "execute_result"
    }
   ],
   "source": [
    "v.name_len"
   ]
  },
  {
   "cell_type": "code",
   "execution_count": 222,
   "id": "22bc700f",
   "metadata": {},
   "outputs": [
    {
     "data": {
      "text/plain": [
       "100"
      ]
     },
     "execution_count": 222,
     "metadata": {},
     "output_type": "execute_result"
    }
   ],
   "source": [
    "v.energy"
   ]
  },
  {
   "cell_type": "code",
   "execution_count": 223,
   "id": "02949409",
   "metadata": {},
   "outputs": [],
   "source": [
    "v.energy = 3"
   ]
  },
  {
   "cell_type": "code",
   "execution_count": 224,
   "id": "be84ed57",
   "metadata": {},
   "outputs": [
    {
     "data": {
      "text/plain": [
       "3"
      ]
     },
     "execution_count": 224,
     "metadata": {},
     "output_type": "execute_result"
    }
   ],
   "source": [
    "v.energy"
   ]
  },
  {
   "cell_type": "code",
   "execution_count": 225,
   "id": "a08d93aa",
   "metadata": {},
   "outputs": [
    {
     "ename": "ValueError",
     "evalue": "Energia powinna byc w zakresie 0-100",
     "output_type": "error",
     "traceback": [
      "\u001b[0;31m---------------------------------------------------------------------------\u001b[0m",
      "\u001b[0;31mValueError\u001b[0m                                Traceback (most recent call last)",
      "Input \u001b[0;32mIn [225]\u001b[0m, in \u001b[0;36m<cell line: 1>\u001b[0;34m()\u001b[0m\n\u001b[0;32m----> 1\u001b[0m v\u001b[38;5;241m.\u001b[39menergy \u001b[38;5;241m=\u001b[39m \u001b[38;5;241m101\u001b[39m\n",
      "Input \u001b[0;32mIn [220]\u001b[0m, in \u001b[0;36mVehicle.energy\u001b[0;34m(self, value)\u001b[0m\n\u001b[1;32m     33\u001b[0m     \u001b[38;5;28mself\u001b[39m\u001b[38;5;241m.\u001b[39m_energy \u001b[38;5;241m=\u001b[39m value\n\u001b[1;32m     34\u001b[0m \u001b[38;5;28;01melse\u001b[39;00m:\n\u001b[0;32m---> 35\u001b[0m     \u001b[38;5;28;01mraise\u001b[39;00m \u001b[38;5;167;01mValueError\u001b[39;00m(\u001b[38;5;124m\"\u001b[39m\u001b[38;5;124mEnergia powinna byc w zakresie 0-100\u001b[39m\u001b[38;5;124m\"\u001b[39m)\n",
      "\u001b[0;31mValueError\u001b[0m: Energia powinna byc w zakresie 0-100"
     ]
    }
   ],
   "source": [
    "v.energy = 101"
   ]
  },
  {
   "cell_type": "markdown",
   "id": "8ad212ef",
   "metadata": {},
   "source": [
    "### Przeciążanie operatorów"
   ]
  },
  {
   "cell_type": "code",
   "execution_count": 275,
   "id": "667a0e79",
   "metadata": {},
   "outputs": [],
   "source": [
    "class MyInt:\n",
    "    \n",
    "    def __init__(self, value=None):\n",
    "        self.value = 0\n",
    "        if value:\n",
    "            self.value = value\n",
    "\n",
    "    def __repr__(self): return f\"{self.value}\"\n",
    "\n",
    "    \n",
    "    def __add__(self, other):\n",
    "        if isinstance(other, MyInt):\n",
    "            return self.__class__(self.value + other.value)\n",
    "        elif isinstance(other, int):\n",
    "            return self.__class__(self.value + other)\n",
    "        else:\n",
    "            return NotImplemented\n",
    "        \n",
    "    def __eq__(self, other):\n",
    "        if isinstance(other, MyInt):\n",
    "            return self.value == other.value\n",
    "        elif isinstance(other, int):\n",
    "            self.value == other\n",
    "        else:\n",
    "            return NotImplemented\n",
    "        \n",
    "    # *  __mul__, __rmul__\n",
    "    # /  __truediv__\n",
    "    # // __div__\n",
    "    # ... https://www.geeksforgeeks.org/operator-overloading-in-python/\n",
    "\n",
    "    \n",
    "    def __radd__(self, other):\n",
    "        return self.__add__(other)\n",
    "    \n",
    "    \n",
    "a = MyInt(10)\n",
    "b = MyInt(20)\n",
    "c = MyInt(10)"
   ]
  },
  {
   "cell_type": "code",
   "execution_count": 276,
   "id": "2d1e4f2c",
   "metadata": {},
   "outputs": [
    {
     "data": {
      "text/plain": [
       "10"
      ]
     },
     "execution_count": 276,
     "metadata": {},
     "output_type": "execute_result"
    }
   ],
   "source": [
    "a"
   ]
  },
  {
   "cell_type": "code",
   "execution_count": 254,
   "id": "bdb2b29f",
   "metadata": {},
   "outputs": [
    {
     "data": {
      "text/plain": [
       "30"
      ]
     },
     "execution_count": 254,
     "metadata": {},
     "output_type": "execute_result"
    }
   ],
   "source": [
    "10 + 20"
   ]
  },
  {
   "cell_type": "code",
   "execution_count": 266,
   "id": "fcec27c9",
   "metadata": {},
   "outputs": [
    {
     "data": {
      "text/plain": [
       "11"
      ]
     },
     "execution_count": 266,
     "metadata": {},
     "output_type": "execute_result"
    }
   ],
   "source": [
    "a + 1   # a.__add__(1)"
   ]
  },
  {
   "cell_type": "code",
   "execution_count": 262,
   "id": "748ee338",
   "metadata": {},
   "outputs": [
    {
     "data": {
      "text/plain": [
       "11"
      ]
     },
     "execution_count": 262,
     "metadata": {},
     "output_type": "execute_result"
    }
   ],
   "source": [
    "1 + a   # 1.__add__(a) -> if fail... ->  a.__radd__(1)"
   ]
  },
  {
   "cell_type": "code",
   "execution_count": 277,
   "id": "363c3dd0",
   "metadata": {},
   "outputs": [
    {
     "data": {
      "text/plain": [
       "True"
      ]
     },
     "execution_count": 277,
     "metadata": {},
     "output_type": "execute_result"
    }
   ],
   "source": [
    "a == c"
   ]
  },
  {
   "cell_type": "code",
   "execution_count": 278,
   "id": "e28ed5d3",
   "metadata": {},
   "outputs": [
    {
     "data": {
      "text/plain": [
       "4565726976"
      ]
     },
     "execution_count": 278,
     "metadata": {},
     "output_type": "execute_result"
    }
   ],
   "source": [
    "id(a)"
   ]
  },
  {
   "cell_type": "code",
   "execution_count": 279,
   "id": "692cd383",
   "metadata": {},
   "outputs": [
    {
     "data": {
      "text/plain": [
       "4565716992"
      ]
     },
     "execution_count": 279,
     "metadata": {},
     "output_type": "execute_result"
    }
   ],
   "source": [
    "id(c)"
   ]
  },
  {
   "cell_type": "markdown",
   "id": "14bbe37c",
   "metadata": {},
   "source": [
    "### Zadanie\n",
    "\n",
    "1. Stwórz klasę reprezentującą okręg (Circle)\n",
    "\n",
    "Okrąg powinien mieć promień (`radius`), średnicę (`diameter`) i pole powierzchni (`area`) oraz przyjemną reprezentację napisową\n",
    "\n",
    "Np:\n",
    "\n",
    "```\n",
    "    >>> c = Circle(5)\n",
    "    >>> c\n",
    "    Circle(5)\n",
    "    >>> c.radius\n",
    "    5\n",
    "    >>> c.diameter\n",
    "    10\n",
    "    >>> c.area\n",
    "    78.53981633974483\n",
    "```\n",
    "\n",
    "2. Promień domyślnie powinien przyjemować wartość 1:\n",
    "\n",
    "```\n",
    "    >>> c = Circle()\n",
    "    >>> c.radius\n",
    "    1\n",
    "    >>> c.diameter\n",
    "    2\n",
    "```\n",
    "\n",
    "3. Kiedy promień się zmienia zmieniają się też średnica i pole powierzchni, np:\n",
    "\n",
    "```\n",
    "    >>> c = Circle(2)\n",
    "    >>> c.radius = 1\n",
    "    >>> c.diameter\n",
    "    2\n",
    "    >>> c.area\n",
    "    3.141592653589793\n",
    "    >>> c\n",
    "    Circle(1)\n",
    "```\n",
    "\n",
    "\n",
    "4. Można ustawić średnicę i wpływa to na promień i pole\n",
    "```\n",
    "    >>> c = Circle(1)\n",
    "    >>> c.diameter = 4\n",
    "    >>> c.radius\n",
    "    2.0\n",
    "```    \n",
    "5. Można ustawić pole powierzhni.\n",
    "\n",
    "```\n",
    "    >>> c = Circle(1)\n",
    "    >>> c.area = math.pi * 5 ** 2\n",
    "    >>> c.radius\n",
    "    5.0\n",
    "```\n",
    "6. Promień nie może być liczbą mniejszą od zera:\n",
    "```\n",
    "    >>> c = Circle(5)\n",
    "    >>> c.radius = 3\n",
    "    >>> c.radius = -2\n",
    "    Traceback (most recent call last):\n",
    "      File \"<stdin>\", line 1, in <module>\n",
    "      File \"circle.py\", line 27, in radius\n",
    "        raise ValueError(\"Radius cannot be negative\")\n",
    "    ValueError: R\n",
    "```"
   ]
  },
  {
   "cell_type": "code",
   "execution_count": 283,
   "id": "9635d668",
   "metadata": {},
   "outputs": [
    {
     "ename": "AttributeError",
     "evalue": "'Circle' object has no attribute '__radius'",
     "output_type": "error",
     "traceback": [
      "\u001b[0;31m---------------------------------------------------------------------------\u001b[0m",
      "\u001b[0;31mAttributeError\u001b[0m                            Traceback (most recent call last)",
      "Input \u001b[0;32mIn [283]\u001b[0m, in \u001b[0;36m<cell line: 21>\u001b[0;34m()\u001b[0m\n\u001b[1;32m     19\u001b[0m c\u001b[38;5;241m.\u001b[39mradius \u001b[38;5;241m=\u001b[39m \u001b[38;5;241m2\u001b[39m\n\u001b[1;32m     20\u001b[0m \u001b[38;5;66;03m# c.__radius = 5\u001b[39;00m\n\u001b[0;32m---> 21\u001b[0m \u001b[43mc\u001b[49m\u001b[38;5;241;43m.\u001b[39;49m\u001b[43m__radius\u001b[49m\n",
      "\u001b[0;31mAttributeError\u001b[0m: 'Circle' object has no attribute '__radius'"
     ]
    }
   ],
   "source": [
    "class Circle:\n",
    "    \n",
    "    def __init__(self, radius):\n",
    "        self.radius = radius\n",
    "        \n",
    "    \n",
    "    def set_radius(self, value):\n",
    "        self.__radius = value\n",
    "    \n",
    "    @property\n",
    "    def radius(self):\n",
    "        return self.__radius\n",
    "    \n",
    "    @radius.setter\n",
    "    def radius(self, value):\n",
    "        if value < 0: raise ValueError(\"Promien ujemny?\")\n",
    "        self.__radius = value    \n",
    "    \n",
    "    @property\n",
    "    def diameter(self):\n",
    "        return self.radius * 2\n",
    "    \n",
    "    @diameter.setter\n",
    "    def diameter(self, value):\n",
    "        self.radius = value / 2\n",
    "    \n",
    "        \n",
    "    \n",
    "    \n",
    "c = Circle(-1)\n",
    "c.radius = 2\n",
    "# c.__radius = 5\n",
    "c.__radius"
   ]
  },
  {
   "cell_type": "code",
   "execution_count": 284,
   "id": "012abe00",
   "metadata": {},
   "outputs": [
    {
     "data": {
      "text/plain": [
       "2"
      ]
     },
     "execution_count": 284,
     "metadata": {},
     "output_type": "execute_result"
    }
   ],
   "source": [
    "c._Circle__radius"
   ]
  },
  {
   "cell_type": "code",
   "execution_count": 285,
   "id": "6b1dfb3d",
   "metadata": {},
   "outputs": [],
   "source": [
    "c.__radius = 10"
   ]
  },
  {
   "cell_type": "code",
   "execution_count": 286,
   "id": "cd3e65ad",
   "metadata": {},
   "outputs": [
    {
     "data": {
      "text/plain": [
       "10"
      ]
     },
     "execution_count": 286,
     "metadata": {},
     "output_type": "execute_result"
    }
   ],
   "source": [
    "c.__radius"
   ]
  },
  {
   "cell_type": "code",
   "execution_count": 287,
   "id": "e67ae446",
   "metadata": {},
   "outputs": [
    {
     "data": {
      "text/plain": [
       "2"
      ]
     },
     "execution_count": 287,
     "metadata": {},
     "output_type": "execute_result"
    }
   ],
   "source": [
    "c.radius"
   ]
  },
  {
   "cell_type": "code",
   "execution_count": 289,
   "id": "746bfd59",
   "metadata": {},
   "outputs": [
    {
     "data": {
      "text/plain": [
       "{'_Circle__radius': 2, '__radius': 10}"
      ]
     },
     "execution_count": 289,
     "metadata": {},
     "output_type": "execute_result"
    }
   ],
   "source": [
    "vars(c)"
   ]
  },
  {
   "cell_type": "code",
   "execution_count": 290,
   "id": "5b9dc16e",
   "metadata": {},
   "outputs": [],
   "source": [
    "c._Circle__radius = 5"
   ]
  },
  {
   "cell_type": "code",
   "execution_count": 291,
   "id": "7035771b",
   "metadata": {},
   "outputs": [
    {
     "data": {
      "text/plain": [
       "5"
      ]
     },
     "execution_count": 291,
     "metadata": {},
     "output_type": "execute_result"
    }
   ],
   "source": [
    "c.radius"
   ]
  },
  {
   "cell_type": "code",
   "execution_count": 292,
   "id": "caf8858b",
   "metadata": {},
   "outputs": [],
   "source": [
    "c.xxxx = 10"
   ]
  },
  {
   "cell_type": "code",
   "execution_count": 293,
   "id": "0ce0b8ee",
   "metadata": {},
   "outputs": [
    {
     "data": {
      "text/plain": [
       "{'_Circle__radius': 5, '__radius': 10, 'xxxx': 10}"
      ]
     },
     "execution_count": 293,
     "metadata": {},
     "output_type": "execute_result"
    }
   ],
   "source": [
    "vars(c)"
   ]
  },
  {
   "cell_type": "code",
   "execution_count": 295,
   "id": "071190ac",
   "metadata": {},
   "outputs": [
    {
     "data": {
      "text/plain": [
       "{'_Circle__radius': 5, '__radius': 10, 'xxxx': 10}"
      ]
     },
     "execution_count": 295,
     "metadata": {},
     "output_type": "execute_result"
    }
   ],
   "source": [
    "c.__dict__\n"
   ]
  },
  {
   "cell_type": "markdown",
   "id": "0dbc5c5d",
   "metadata": {},
   "source": [
    "### Slots"
   ]
  },
  {
   "cell_type": "code",
   "execution_count": 296,
   "id": "b367d214",
   "metadata": {},
   "outputs": [],
   "source": [
    "class NormalClass:\n",
    "    classattr = \"foo\"\n",
    "    def __init__(self):\n",
    "        self.x = 1\n",
    "        self.y = 2\n",
    "\n",
    "n = NormalClass()"
   ]
  },
  {
   "cell_type": "code",
   "execution_count": 297,
   "id": "d3ebfca4",
   "metadata": {},
   "outputs": [
    {
     "data": {
      "text/plain": [
       "{'x': 1, 'y': 2}"
      ]
     },
     "execution_count": 297,
     "metadata": {},
     "output_type": "execute_result"
    }
   ],
   "source": [
    "vars(n)"
   ]
  },
  {
   "cell_type": "code",
   "execution_count": 298,
   "id": "42bed8dd",
   "metadata": {},
   "outputs": [],
   "source": [
    "n.z = 10"
   ]
  },
  {
   "cell_type": "code",
   "execution_count": 299,
   "id": "e3d40bef",
   "metadata": {},
   "outputs": [
    {
     "data": {
      "text/plain": [
       "{'x': 1, 'y': 2, 'z': 10}"
      ]
     },
     "execution_count": 299,
     "metadata": {},
     "output_type": "execute_result"
    }
   ],
   "source": [
    "vars(n)"
   ]
  },
  {
   "cell_type": "code",
   "execution_count": 302,
   "id": "d13f529b",
   "metadata": {},
   "outputs": [],
   "source": [
    "class SlottedClass:\n",
    "    __slots__ = (\"x\", \"y\")\n",
    "    classattr = \"foo\"\n",
    "    def __init__(self):\n",
    "        self.x = 1\n",
    "        self.y = 2\n",
    "\n",
    "s = SlottedClass()"
   ]
  },
  {
   "cell_type": "code",
   "execution_count": 303,
   "id": "166ffbfb",
   "metadata": {},
   "outputs": [
    {
     "ename": "TypeError",
     "evalue": "vars() argument must have __dict__ attribute",
     "output_type": "error",
     "traceback": [
      "\u001b[0;31m---------------------------------------------------------------------------\u001b[0m",
      "\u001b[0;31mTypeError\u001b[0m                                 Traceback (most recent call last)",
      "Input \u001b[0;32mIn [303]\u001b[0m, in \u001b[0;36m<cell line: 1>\u001b[0;34m()\u001b[0m\n\u001b[0;32m----> 1\u001b[0m \u001b[38;5;28;43mvars\u001b[39;49m\u001b[43m(\u001b[49m\u001b[43ms\u001b[49m\u001b[43m)\u001b[49m\n",
      "\u001b[0;31mTypeError\u001b[0m: vars() argument must have __dict__ attribute"
     ]
    }
   ],
   "source": [
    "vars(s)"
   ]
  },
  {
   "cell_type": "code",
   "execution_count": 304,
   "id": "1c0257eb",
   "metadata": {},
   "outputs": [
    {
     "data": {
      "text/plain": [
       "1"
      ]
     },
     "execution_count": 304,
     "metadata": {},
     "output_type": "execute_result"
    }
   ],
   "source": [
    "s.x"
   ]
  },
  {
   "cell_type": "code",
   "execution_count": 305,
   "id": "a091df24",
   "metadata": {},
   "outputs": [
    {
     "data": {
      "text/plain": [
       "2"
      ]
     },
     "execution_count": 305,
     "metadata": {},
     "output_type": "execute_result"
    }
   ],
   "source": [
    "s.y"
   ]
  },
  {
   "cell_type": "code",
   "execution_count": 306,
   "id": "e24ad2cb",
   "metadata": {},
   "outputs": [
    {
     "ename": "AttributeError",
     "evalue": "'SlottedClass' object has no attribute 'xxx'",
     "output_type": "error",
     "traceback": [
      "\u001b[0;31m---------------------------------------------------------------------------\u001b[0m",
      "\u001b[0;31mAttributeError\u001b[0m                            Traceback (most recent call last)",
      "Input \u001b[0;32mIn [306]\u001b[0m, in \u001b[0;36m<cell line: 1>\u001b[0;34m()\u001b[0m\n\u001b[0;32m----> 1\u001b[0m s\u001b[38;5;241m.\u001b[39mxxx \u001b[38;5;241m=\u001b[39m \u001b[38;5;241m10\u001b[39m\n",
      "\u001b[0;31mAttributeError\u001b[0m: 'SlottedClass' object has no attribute 'xxx'"
     ]
    }
   ],
   "source": [
    "s.xxx = 10"
   ]
  },
  {
   "cell_type": "code",
   "execution_count": 307,
   "id": "903128a2",
   "metadata": {},
   "outputs": [],
   "source": [
    "class XXX(SlottedClass):\n",
    "    pass\n",
    "\n",
    "x = XXX()"
   ]
  },
  {
   "cell_type": "code",
   "execution_count": 308,
   "id": "ef3423a2",
   "metadata": {},
   "outputs": [
    {
     "data": {
      "text/plain": [
       "{}"
      ]
     },
     "execution_count": 308,
     "metadata": {},
     "output_type": "execute_result"
    }
   ],
   "source": [
    "vars(x)"
   ]
  },
  {
   "cell_type": "code",
   "execution_count": 309,
   "id": "88494334",
   "metadata": {},
   "outputs": [
    {
     "data": {
      "text/plain": [
       "1"
      ]
     },
     "execution_count": 309,
     "metadata": {},
     "output_type": "execute_result"
    }
   ],
   "source": [
    "x.x"
   ]
  },
  {
   "cell_type": "code",
   "execution_count": 310,
   "id": "60143b71",
   "metadata": {},
   "outputs": [
    {
     "data": {
      "text/plain": [
       "2"
      ]
     },
     "execution_count": 310,
     "metadata": {},
     "output_type": "execute_result"
    }
   ],
   "source": [
    "x.y"
   ]
  },
  {
   "cell_type": "code",
   "execution_count": 311,
   "id": "4c2f8a20",
   "metadata": {},
   "outputs": [],
   "source": [
    "x.z = 10"
   ]
  },
  {
   "cell_type": "markdown",
   "id": "d314634b",
   "metadata": {},
   "source": [
    "### Dziedziczenie"
   ]
  },
  {
   "cell_type": "code",
   "execution_count": 312,
   "id": "94d04b3d",
   "metadata": {},
   "outputs": [
    {
     "name": "stdout",
     "output_type": "stream",
     "text": [
      "Hello i'm Jack London\n"
     ]
    }
   ],
   "source": [
    "class Person:\n",
    "    \n",
    "    def __init__(self, name, surname):\n",
    "        self.name = name\n",
    "        self.surname = surname\n",
    "        \n",
    "    def __repr__(self):\n",
    "        return f\"{self.name} {self.surname}\"\n",
    "    \n",
    "    \n",
    "    def hello(self):\n",
    "        print(f\"Hello i'm {self}\")\n",
    "        \n",
    "p = Person(\"Jack\", \"London\")\n",
    "p.hello()"
   ]
  },
  {
   "cell_type": "code",
   "execution_count": 317,
   "id": "04284d11",
   "metadata": {},
   "outputs": [
    {
     "name": "stdout",
     "output_type": "stream",
     "text": [
      "Hello i'm Jack London\n",
      "I'am worker...\n"
     ]
    }
   ],
   "source": [
    "class Employee(Person):\n",
    "    \n",
    "    def __init__(self, name, surname, position):\n",
    "        super().__init__(name, surname)\n",
    "        self.position = position\n",
    "    \n",
    "    def hello(self):\n",
    "        super().hello()\n",
    "        print(\"I'am worker...\")\n",
    "    \n",
    "\n",
    "e = Employee(\"Jack\", \"London\", \"director\")\n",
    "e.hello()"
   ]
  },
  {
   "cell_type": "markdown",
   "id": "cd92f8ae",
   "metadata": {},
   "source": [
    "### Zadanie\n",
    "Napisz klasę reprezentującą pracownika: name, rate_per_hour\n",
    "\n",
    "    >>> p = Employee(name=\"Rafał\", rate_per_hours=200)\n",
    "    >>> p.pay_salary()\n",
    "    0\n",
    "    >>> p.register_time(5)\n",
    "    >>> p.pay_salary()\n",
    "    1000\n",
    "    >>> p.pay_salary()\n",
    "    0\n",
    "    >>> p.register_time(10)\n",
    "    >>> p.pay_salary()\n",
    "    2400\n",
    "    \n",
    "    "
   ]
  },
  {
   "cell_type": "code",
   "execution_count": null,
   "id": "e6331e39",
   "metadata": {},
   "outputs": [],
   "source": []
  }
 ],
 "metadata": {
  "kernelspec": {
   "display_name": "Python 3 (ipykernel)",
   "language": "python",
   "name": "python3"
  },
  "language_info": {
   "codemirror_mode": {
    "name": "ipython",
    "version": 3
   },
   "file_extension": ".py",
   "mimetype": "text/x-python",
   "name": "python",
   "nbconvert_exporter": "python",
   "pygments_lexer": "ipython3",
   "version": "3.10.4"
  },
  "toc": {
   "base_numbering": 1,
   "nav_menu": {},
   "number_sections": true,
   "sideBar": true,
   "skip_h1_title": false,
   "title_cell": "Table of Contents",
   "title_sidebar": "Contents",
   "toc_cell": false,
   "toc_position": {},
   "toc_section_display": true,
   "toc_window_display": false
  }
 },
 "nbformat": 4,
 "nbformat_minor": 5
}
