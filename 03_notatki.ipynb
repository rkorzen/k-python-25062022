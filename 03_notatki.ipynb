{
 "cells": [
  {
   "cell_type": "markdown",
   "id": "f8b020ae",
   "metadata": {},
   "source": [
    "## Dekoratory\n"
   ]
  },
  {
   "cell_type": "code",
   "execution_count": null,
   "id": "a8fd3c61",
   "metadata": {},
   "outputs": [],
   "source": [
    "show = True\n",
    "from functools import wraps\n",
    "\n",
    "\n",
    "def decor(func):\n",
    "    @wraps(func)\n",
    "    def wrapper(*args, **kwargs):\n",
    "        print(\"Before func\")\n",
    "        if show:\n",
    "            result = func(*args, **kwargs)\n",
    "        else:\n",
    "            print(\"Funkcja nie jest wykonana\")\n",
    "        print(\"po funkcji\")\n",
    "        return result\n",
    "\n",
    "    # wrapper.__name__ = func.__name__\n",
    "    # wrapper.__doc__ = func.__doc__\n",
    "    # wrapper.__annotations__ = func.__annotations__\n",
    "    return wrapper\n",
    "\n",
    "\n",
    "@decor\n",
    "def foo(x: str):\n",
    "    \"\"\"Dokumentacja funkcji foo\"\"\"\n",
    "    print(\"foo\")\n",
    "    return 10\n",
    "\n",
    "foo = decor(foo)\n",
    "\n",
    "@decor\n",
    "def bar():\n",
    "    print(\"bar\")\n",
    "\n",
    "\n",
    "\n",
    "\n",
    "# print(foo.__name__)\n",
    "# print(foo.__doc__)\n",
    "# print(foo.__annotations__)\n",
    "\n",
    "x = foo(\"ddd\")\n",
    "x\n"
   ]
  },
  {
   "cell_type": "markdown",
   "id": "93321e88",
   "metadata": {},
   "source": [
    "### ZADANIE\n",
    "\n",
    "Stwórz dekoratory bold, italic, które udekorują tekst zwracany przez inne funkcje znacznikami html `<b></b>` `<i></i>`\n",
    "\n",
    "\n",
    "    Ala ma kota -> <b>Ala ma kota</b>\n"
   ]
  },
  {
   "cell_type": "code",
   "execution_count": null,
   "id": "abc87390",
   "metadata": {},
   "outputs": [],
   "source": [
    "def bold(func):\n",
    "    \n",
    "    @wraps(func)\n",
    "    def wrapper(*args, **kwargs):\n",
    "        \n",
    "        result = func(*args, **kwargs)\n",
    "        return f\"<b>{result}</b>\"\n",
    "    \n",
    "    return wrapper\n",
    "\n",
    "\n",
    "@bold\n",
    "def paragraph(text):\n",
    "    return  f\"<p>{text}</p>\"\n",
    "\n",
    "assert paragraph(\"AAA\") == \"<b><p>AAA</p></b>\""
   ]
  },
  {
   "cell_type": "markdown",
   "id": "66fe5408",
   "metadata": {},
   "source": [
    "## funkcje\n"
   ]
  },
  {
   "cell_type": "code",
   "execution_count": null,
   "id": "7a20f62e",
   "metadata": {},
   "outputs": [],
   "source": [
    "def foo(a, b, c, d=1, e=3):\n",
    "    print(a, b, c, d, e)\n",
    "\n",
    "foo(1, 2, 3, 4, 5)"
   ]
  },
  {
   "cell_type": "code",
   "execution_count": null,
   "id": "a056c05a",
   "metadata": {},
   "outputs": [],
   "source": [
    "foo(c=1, b=2, a=3, d=10, e=20)"
   ]
  },
  {
   "cell_type": "code",
   "execution_count": null,
   "id": "c7241c37",
   "metadata": {},
   "outputs": [],
   "source": [
    "foo(c=1, b=2, 3, d=10, e=20)"
   ]
  },
  {
   "cell_type": "code",
   "execution_count": null,
   "id": "bb787d24",
   "metadata": {},
   "outputs": [],
   "source": [
    "foo(1, c=2, b=3, d=10, e=20)"
   ]
  },
  {
   "cell_type": "code",
   "execution_count": null,
   "id": "83eabbe0",
   "metadata": {},
   "outputs": [],
   "source": [
    "foo(1, b=2, a=3, d=10, e=20)"
   ]
  },
  {
   "cell_type": "code",
   "execution_count": null,
   "id": "b34dcede",
   "metadata": {},
   "outputs": [],
   "source": [
    "def bar(b, a=1): pass"
   ]
  },
  {
   "cell_type": "code",
   "execution_count": null,
   "id": "4b93aa55",
   "metadata": {},
   "outputs": [],
   "source": [
    "def suma(a, b, *,to_float=False):\n",
    "    result = a + b\n",
    "    if to_float:\n",
    "        result = float(result)\n",
    "        \n",
    "    return result"
   ]
  },
  {
   "cell_type": "code",
   "execution_count": null,
   "id": "9938d3cd",
   "metadata": {},
   "outputs": [],
   "source": [
    "suma(1, 2)"
   ]
  },
  {
   "cell_type": "code",
   "execution_count": null,
   "id": "5184623f",
   "metadata": {},
   "outputs": [],
   "source": [
    "suma(1, 2, to_float=True)"
   ]
  },
  {
   "cell_type": "code",
   "execution_count": null,
   "id": "c0fa5c96",
   "metadata": {},
   "outputs": [],
   "source": [
    "suma(1, 2, True)"
   ]
  },
  {
   "cell_type": "code",
   "execution_count": null,
   "id": "e03a0a0b",
   "metadata": {},
   "outputs": [],
   "source": [
    "suma(1, 2, 10)"
   ]
  },
  {
   "cell_type": "markdown",
   "id": "ff2f0ff1",
   "metadata": {},
   "source": [
    "### args  = arguments"
   ]
  },
  {
   "cell_type": "code",
   "execution_count": null,
   "id": "13ea1ec9",
   "metadata": {},
   "outputs": [],
   "source": [
    "def suma(a, b, *args):\n",
    "    print(f\"a={a} b={b} args={args}\")\n",
    "    return a + b + sum(args)"
   ]
  },
  {
   "cell_type": "code",
   "execution_count": null,
   "id": "c50f5e76",
   "metadata": {},
   "outputs": [],
   "source": []
  },
  {
   "cell_type": "code",
   "execution_count": null,
   "id": "c40ba960",
   "metadata": {},
   "outputs": [],
   "source": [
    "assert suma(1, 2) == 3\n",
    "assert suma(1, 2, 3) == 6\n",
    "assert suma(1, 2, 3, 1) == 7\n",
    "\n",
    "assert suma(1, 2, 3, 1, 1, 1) == 9"
   ]
  },
  {
   "cell_type": "markdown",
   "id": "58592d21",
   "metadata": {},
   "source": [
    "### kwargs = keyword arguments"
   ]
  },
  {
   "cell_type": "code",
   "execution_count": null,
   "id": "832f4a74",
   "metadata": {},
   "outputs": [],
   "source": [
    "def suma(a, b, *args, c=0, **kwargs):\n",
    "    print(f\"a={a} b={b} args={args} c={c} kwargs={kwargs}\")\n",
    "    return a + b + sum(args) "
   ]
  },
  {
   "cell_type": "code",
   "execution_count": null,
   "id": "a733768d",
   "metadata": {},
   "outputs": [],
   "source": [
    "assert suma(1, 2, 3, 1, 1, 1, c=200, x=10, y=222) == 9"
   ]
  },
  {
   "cell_type": "code",
   "execution_count": null,
   "id": "ad731d96",
   "metadata": {},
   "outputs": [],
   "source": [
    "assert suma(1, 2, 3, 1, 1, 1, x=10, y=222) == 9"
   ]
  },
  {
   "cell_type": "code",
   "execution_count": null,
   "id": "cb34996e",
   "metadata": {},
   "outputs": [],
   "source": [
    "def hello(*args):\n",
    "    print(args)"
   ]
  },
  {
   "cell_type": "code",
   "execution_count": null,
   "id": "a12974e8",
   "metadata": {},
   "outputs": [],
   "source": [
    "hello(\"Hello\", \"World\")"
   ]
  },
  {
   "cell_type": "code",
   "execution_count": null,
   "id": "a842c9ef",
   "metadata": {},
   "outputs": [],
   "source": [
    "hello(name=\"Adam\")"
   ]
  },
  {
   "cell_type": "code",
   "execution_count": null,
   "id": "f4eb2456",
   "metadata": {},
   "outputs": [],
   "source": [
    "def hello(*x, **xx):\n",
    "    print(x, xx)"
   ]
  },
  {
   "cell_type": "code",
   "execution_count": null,
   "id": "aff37aab",
   "metadata": {},
   "outputs": [],
   "source": [
    "hello(name=\"Adam\")"
   ]
  },
  {
   "cell_type": "code",
   "execution_count": null,
   "id": "1eb19f10",
   "metadata": {},
   "outputs": [],
   "source": [
    "a, b, *c = 10, 20, 30, 10, 10, 10"
   ]
  },
  {
   "cell_type": "code",
   "execution_count": null,
   "id": "07c99695",
   "metadata": {},
   "outputs": [],
   "source": [
    "print(c)"
   ]
  },
  {
   "cell_type": "code",
   "execution_count": null,
   "id": "5a642552",
   "metadata": {},
   "outputs": [],
   "source": [
    "print(*c)"
   ]
  },
  {
   "cell_type": "code",
   "execution_count": null,
   "id": "e6ff3e74",
   "metadata": {},
   "outputs": [],
   "source": [
    "print(30, 10 , 10, 10)"
   ]
  },
  {
   "cell_type": "code",
   "execution_count": null,
   "id": "6198ead1",
   "metadata": {},
   "outputs": [],
   "source": [
    "print([30, 10 , 10, 10])"
   ]
  },
  {
   "cell_type": "code",
   "execution_count": null,
   "id": "42632185",
   "metadata": {},
   "outputs": [],
   "source": [
    "formatting = {'sep':\"-\", 'end':\"!\"}\n"
   ]
  },
  {
   "cell_type": "code",
   "execution_count": null,
   "id": "00f57b37",
   "metadata": {},
   "outputs": [],
   "source": [
    "print(*c, sep=\"-\", end=\"!\")"
   ]
  },
  {
   "cell_type": "code",
   "execution_count": null,
   "id": "ec3f3b88",
   "metadata": {},
   "outputs": [],
   "source": [
    "print(*c, **formatting)"
   ]
  },
  {
   "cell_type": "code",
   "execution_count": 1,
   "id": "deb26c53",
   "metadata": {},
   "outputs": [
    {
     "name": "stdout",
     "output_type": "stream",
     "text": [
      "20\n",
      "40\n"
     ]
    },
    {
     "ename": "NameError",
     "evalue": "name 'b' is not defined",
     "output_type": "error",
     "traceback": [
      "\u001b[0;31m---------------------------------------------------------------------------\u001b[0m",
      "\u001b[0;31mNameError\u001b[0m                                 Traceback (most recent call last)",
      "Input \u001b[0;32mIn [1]\u001b[0m, in \u001b[0;36m<cell line: 17>\u001b[0;34m()\u001b[0m\n\u001b[1;32m     14\u001b[0m     \u001b[38;5;28mprint\u001b[39m(b)\n\u001b[1;32m     16\u001b[0m aa(\u001b[38;5;241m*\u001b[39m\u001b[38;5;241m*\u001b[39mmetadata)\n\u001b[0;32m---> 17\u001b[0m \u001b[43mbb\u001b[49m\u001b[43m(\u001b[49m\u001b[38;5;241;43m*\u001b[39;49m\u001b[38;5;241;43m*\u001b[39;49m\u001b[43mmetadata\u001b[49m\u001b[43m)\u001b[49m\n",
      "Input \u001b[0;32mIn [1]\u001b[0m, in \u001b[0;36mbb\u001b[0;34m(**kwargs)\u001b[0m\n\u001b[1;32m     12\u001b[0m \u001b[38;5;28;01mdef\u001b[39;00m \u001b[38;5;21mbb\u001b[39m(\u001b[38;5;241m*\u001b[39m\u001b[38;5;241m*\u001b[39mkwargs):\n\u001b[1;32m     13\u001b[0m     \u001b[38;5;28mprint\u001b[39m(kwargs\u001b[38;5;241m.\u001b[39mget(\u001b[38;5;124m'\u001b[39m\u001b[38;5;124mb\u001b[39m\u001b[38;5;124m'\u001b[39m)\u001b[38;5;241m*\u001b[39m\u001b[38;5;241m2\u001b[39m)\n\u001b[0;32m---> 14\u001b[0m     \u001b[38;5;28mprint\u001b[39m(\u001b[43mb\u001b[49m)\n",
      "\u001b[0;31mNameError\u001b[0m: name 'b' is not defined"
     ]
    }
   ],
   "source": [
    "metadata = {\n",
    "    \"a\": 10, \n",
    "    \"b\": 20, \n",
    "    \"c\": 30\n",
    "}\n",
    "\n",
    "\n",
    "\n",
    "def aa(**kwargs):\n",
    "    print(kwargs.get('a')*2)\n",
    "\n",
    "def bb(x=50, **kwargs):  \n",
    "    print(kwargs.get('b')*2)\n",
    "    print(x)\n",
    "\n",
    "aa(**metadata)\n",
    "bb(**metadata)   # bb(a=10, b=20, c=30)"
   ]
  },
  {
   "cell_type": "code",
   "execution_count": 2,
   "id": "a072eb98",
   "metadata": {},
   "outputs": [],
   "source": [
    "def suma(a, b, /, *, return_float=False):\n",
    "    return a + b"
   ]
  },
  {
   "cell_type": "code",
   "execution_count": 4,
   "id": "ff8e00a1",
   "metadata": {},
   "outputs": [
    {
     "ename": "TypeError",
     "evalue": "suma() takes 2 positional arguments but 3 were given",
     "output_type": "error",
     "traceback": [
      "\u001b[0;31m---------------------------------------------------------------------------\u001b[0m",
      "\u001b[0;31mTypeError\u001b[0m                                 Traceback (most recent call last)",
      "Input \u001b[0;32mIn [4]\u001b[0m, in \u001b[0;36m<cell line: 1>\u001b[0;34m()\u001b[0m\n\u001b[0;32m----> 1\u001b[0m \u001b[43msuma\u001b[49m\u001b[43m(\u001b[49m\u001b[38;5;241;43m1\u001b[39;49m\u001b[43m,\u001b[49m\u001b[43m \u001b[49m\u001b[38;5;241;43m2\u001b[39;49m\u001b[43m,\u001b[49m\u001b[43m \u001b[49m\u001b[38;5;241;43m3\u001b[39;49m\u001b[43m)\u001b[49m\n",
      "\u001b[0;31mTypeError\u001b[0m: suma() takes 2 positional arguments but 3 were given"
     ]
    }
   ],
   "source": [
    "suma(1, 2)"
   ]
  },
  {
   "cell_type": "code",
   "execution_count": 9,
   "id": "903a92a6",
   "metadata": {},
   "outputs": [
    {
     "data": {
      "text/plain": [
       "[10]"
      ]
     },
     "execution_count": 9,
     "metadata": {},
     "output_type": "execute_result"
    }
   ],
   "source": [
    "def add_element(a, elements=[]):\n",
    "    elements.append(a)\n",
    "    return elements\n",
    "\n",
    "add_element(10)"
   ]
  },
  {
   "cell_type": "code",
   "execution_count": 11,
   "id": "f8b2195c",
   "metadata": {},
   "outputs": [
    {
     "data": {
      "text/plain": [
       "[10, 20]"
      ]
     },
     "execution_count": 11,
     "metadata": {},
     "output_type": "execute_result"
    }
   ],
   "source": [
    "add_element(20)"
   ]
  },
  {
   "cell_type": "code",
   "execution_count": 12,
   "id": "cdcba427",
   "metadata": {},
   "outputs": [
    {
     "data": {
      "text/plain": [
       "([10, 20],)"
      ]
     },
     "execution_count": 12,
     "metadata": {},
     "output_type": "execute_result"
    }
   ],
   "source": [
    "add_element.__defaults__"
   ]
  },
  {
   "cell_type": "code",
   "execution_count": 13,
   "id": "db661b55",
   "metadata": {},
   "outputs": [
    {
     "data": {
      "text/plain": [
       "[20]"
      ]
     },
     "execution_count": 13,
     "metadata": {},
     "output_type": "execute_result"
    }
   ],
   "source": [
    "def add_element(a, elements=None):\n",
    "    if not elements:\n",
    "        elements = []\n",
    "    elements.append(a)\n",
    "    return elements\n",
    "\n",
    "add_element(10)\n",
    "\n",
    "add_element(20)"
   ]
  },
  {
   "cell_type": "code",
   "execution_count": 16,
   "id": "81b1ece3",
   "metadata": {},
   "outputs": [],
   "source": [
    "func = lambda x: x[1]\n",
    "suma = lambda x, y: x+y"
   ]
  },
  {
   "cell_type": "code",
   "execution_count": 15,
   "id": "81454c95",
   "metadata": {},
   "outputs": [
    {
     "data": {
      "text/plain": [
       "'1'"
      ]
     },
     "execution_count": 15,
     "metadata": {},
     "output_type": "execute_result"
    }
   ],
   "source": [
    "func(\"a1\")"
   ]
  },
  {
   "cell_type": "code",
   "execution_count": 17,
   "id": "06041711",
   "metadata": {},
   "outputs": [
    {
     "data": {
      "text/plain": [
       "3"
      ]
     },
     "execution_count": 17,
     "metadata": {},
     "output_type": "execute_result"
    }
   ],
   "source": [
    "suma(1, 2)"
   ]
  },
  {
   "cell_type": "code",
   "execution_count": 20,
   "id": "a547dbfc",
   "metadata": {},
   "outputs": [
    {
     "data": {
      "text/plain": [
       "4"
      ]
     },
     "execution_count": 20,
     "metadata": {},
     "output_type": "execute_result"
    }
   ],
   "source": [
    "(lambda x, y: x+y)(1, 3)"
   ]
  },
  {
   "cell_type": "markdown",
   "id": "20e18c79",
   "metadata": {},
   "source": [
    "### funkcja to też obiekt"
   ]
  },
  {
   "cell_type": "code",
   "execution_count": 21,
   "id": "8546a9ac",
   "metadata": {},
   "outputs": [
    {
     "name": "stdout",
     "output_type": "stream",
     "text": [
      "89\n",
      "1\n",
      "56\n"
     ]
    }
   ],
   "source": [
    "functions = [sum, min, max]\n",
    "collection = [1, 2 , 3, 4, 56, 23]\n",
    "\n",
    "for f in functions:\n",
    "    print(f(collection))"
   ]
  },
  {
   "cell_type": "markdown",
   "id": "0f48eb66",
   "metadata": {},
   "source": [
    "### zad \n",
    "\n",
    "Napisz prosty kalkulator, ktory dziala tak:\n",
    "    \n",
    "    Jaka operacje chcesz wykonac? [1-add, 2-sub ...] 1\n",
    "    Podaj arg a: 10\n",
    "    Podaj arg b: 20\n",
    "    Wynik: 30\n",
    "\n",
    "\n",
    "Rozbij to na kilka różnych funkcji.\n",
    "    "
   ]
  },
  {
   "cell_type": "code",
   "execution_count": null,
   "id": "063e0406",
   "metadata": {},
   "outputs": [],
   "source": [
    "\n",
    "def kalkulator():\n",
    "    operacja = input(\"Podaj operację [1-dodaj, 2-odejmij, 3-mnoz, 4-dziel]: \")\n",
    "    a = int(input(\"Podaj arg 1: \"))\n",
    "    b = int(input(\"Podaj arg 2: \"))\n",
    "    \n",
    "    if operacja == \"1\":\n",
    "        \n"
   ]
  },
  {
   "cell_type": "markdown",
   "id": "433f3742",
   "metadata": {},
   "source": [
    "## zad\n",
    "\n",
    "Napisz funkcję, która wywoła inną funkcję po zadanym czasie.\n",
    "\n",
    "Np. Wywołanie\n",
    "\n",
    "    delay(lambda x: x ** 0.5, 100, 16)\n",
    "\n",
    "Powinno po 100 ms policzyć pierwiastek z 16\n",
    "\n",
    "Inny przykład\n",
    "\n",
    "    def func(a, b, c):\n",
    "        return a * b ** c\n",
    "\n",
    "    delay(func, 250, 10, 20, 2)\n",
    "\n",
    "powinno zwrócić po 250 ms wynik 4000\n",
    "\n",
    "    delay(print, 2000, \"Ala ma kota\", \"Asa\", end=\"-\")\n",
    "\n",
    "Zwróci po 2 sekundach:\n",
    "\n",
    "    Ala ma kota Asa-\n",
    "\n",
    "Postaraj się w miare możliwości napisać testy. "
   ]
  },
  {
   "cell_type": "code",
   "execution_count": 26,
   "id": "bf029841",
   "metadata": {},
   "outputs": [
    {
     "data": {
      "text/plain": [
       "4000"
      ]
     },
     "execution_count": 26,
     "metadata": {},
     "output_type": "execute_result"
    }
   ],
   "source": [
    "from time import sleep\n",
    "\n",
    "def delay(func, ms, *args, **kwargs):\n",
    "    sleep(ms/1000)\n",
    "    return func(*args, **kwargs)\n",
    "\n",
    "\n",
    "def func(a, b, c):\n",
    "    return a * b ** c\n",
    "\n",
    "delay(func, 250, 10, 20, 2)"
   ]
  },
  {
   "cell_type": "code",
   "execution_count": 28,
   "id": "bd392673",
   "metadata": {},
   "outputs": [
    {
     "name": "stdout",
     "output_type": "stream",
     "text": [
      "Ala ma kota;Asa-"
     ]
    }
   ],
   "source": [
    "delay(print, 2000, \"Ala ma kota\", \"Asa\", sep=\";\", end=\"-\")\n"
   ]
  },
  {
   "cell_type": "markdown",
   "id": "217118b3",
   "metadata": {},
   "source": [
    "### zad\n",
    "\n",
    "\n",
    "### total_length\n",
    "\n",
    "a) Napisz funkcję o nazwie `total_length`, która przyjmuje pewną liczbę obiektów, które posiadają długość(listy, zestawy, ciągi itp.) i zwraca sumę długości obiektów.\n",
    "\n",
    "Np:\n",
    "\n",
    "    >>> total_length([4, 5], (6, 7))\n",
    "    4\n",
    "    >>> total_length('hello', {'red': 50, 'purple': 100})\n",
    "    7\n",
    "\n",
    "b) Zmodyfikuj funkcję tak, by przyjmowała iterowalne obiekty, które nie posiadają długości - np wyrażenie generatorowe\n",
    "\n",
    "    >>> numbers = [4, 6, 8, 9]\n",
    "    >>> total_length(enumerate(numbers), (n**2 for n in numbers))\n",
    "    8\n",
    "    >>> total_length(n for n in numbers if n % 2 == 0)\n",
    "    3\n",
    "\n",
    "c) Zadbaj o to by funkcja działała wydajnie dla obiektów, które maja dużo elementów\n",
    "\n",
    "    total_length(range(1000), range(1000000000))"
   ]
  },
  {
   "cell_type": "code",
   "execution_count": 29,
   "id": "187a67f9",
   "metadata": {},
   "outputs": [
    {
     "data": {
      "text/plain": [
       "3"
      ]
     },
     "execution_count": 29,
     "metadata": {},
     "output_type": "execute_result"
    }
   ],
   "source": [
    "len(\"aaa\")"
   ]
  },
  {
   "cell_type": "code",
   "execution_count": 31,
   "id": "f24f92a5",
   "metadata": {},
   "outputs": [
    {
     "ename": "TypeError",
     "evalue": "object of type 'generator' has no len()",
     "output_type": "error",
     "traceback": [
      "\u001b[0;31m---------------------------------------------------------------------------\u001b[0m",
      "\u001b[0;31mTypeError\u001b[0m                                 Traceback (most recent call last)",
      "Input \u001b[0;32mIn [31]\u001b[0m, in \u001b[0;36m<cell line: 2>\u001b[0;34m()\u001b[0m\n\u001b[1;32m      1\u001b[0m numbers \u001b[38;5;241m=\u001b[39m [\u001b[38;5;241m4\u001b[39m, \u001b[38;5;241m6\u001b[39m, \u001b[38;5;241m8\u001b[39m, \u001b[38;5;241m9\u001b[39m]\n\u001b[0;32m----> 2\u001b[0m \u001b[38;5;28;43mlen\u001b[39;49m\u001b[43m(\u001b[49m\u001b[43m(\u001b[49m\u001b[43mn\u001b[49m\u001b[38;5;241;43m*\u001b[39;49m\u001b[38;5;241;43m*\u001b[39;49m\u001b[38;5;241;43m2\u001b[39;49m\u001b[43m \u001b[49m\u001b[38;5;28;43;01mfor\u001b[39;49;00m\u001b[43m \u001b[49m\u001b[43mn\u001b[49m\u001b[43m \u001b[49m\u001b[38;5;129;43;01min\u001b[39;49;00m\u001b[43m \u001b[49m\u001b[43mnumbers\u001b[49m\u001b[43m)\u001b[49m\u001b[43m)\u001b[49m\n",
      "\u001b[0;31mTypeError\u001b[0m: object of type 'generator' has no len()"
     ]
    }
   ],
   "source": [
    "numbers = [4, 6, 8, 9]\n",
    "len((n**2 for n in numbers))"
   ]
  },
  {
   "cell_type": "code",
   "execution_count": 33,
   "id": "804f17d9",
   "metadata": {},
   "outputs": [
    {
     "data": {
      "text/plain": [
       "2"
      ]
     },
     "execution_count": 33,
     "metadata": {},
     "output_type": "execute_result"
    }
   ],
   "source": [
    "\"__\".__len__()"
   ]
  },
  {
   "cell_type": "code",
   "execution_count": 34,
   "id": "910efe03",
   "metadata": {},
   "outputs": [],
   "source": [
    "gen = (x for x in range(10))"
   ]
  },
  {
   "cell_type": "code",
   "execution_count": 35,
   "id": "bf17f59c",
   "metadata": {},
   "outputs": [
    {
     "data": {
      "text/plain": [
       "['__class__',\n",
       " '__del__',\n",
       " '__delattr__',\n",
       " '__dir__',\n",
       " '__doc__',\n",
       " '__eq__',\n",
       " '__format__',\n",
       " '__ge__',\n",
       " '__getattribute__',\n",
       " '__gt__',\n",
       " '__hash__',\n",
       " '__init__',\n",
       " '__init_subclass__',\n",
       " '__iter__',\n",
       " '__le__',\n",
       " '__lt__',\n",
       " '__name__',\n",
       " '__ne__',\n",
       " '__new__',\n",
       " '__next__',\n",
       " '__qualname__',\n",
       " '__reduce__',\n",
       " '__reduce_ex__',\n",
       " '__repr__',\n",
       " '__setattr__',\n",
       " '__sizeof__',\n",
       " '__str__',\n",
       " '__subclasshook__',\n",
       " 'close',\n",
       " 'gi_code',\n",
       " 'gi_frame',\n",
       " 'gi_running',\n",
       " 'gi_yieldfrom',\n",
       " 'send',\n",
       " 'throw']"
      ]
     },
     "execution_count": 35,
     "metadata": {},
     "output_type": "execute_result"
    }
   ],
   "source": [
    "dir(gen)"
   ]
  },
  {
   "cell_type": "code",
   "execution_count": null,
   "id": "f6fc4dc2",
   "metadata": {},
   "outputs": [],
   "source": []
  }
 ],
 "metadata": {
  "kernelspec": {
   "display_name": "Python 3 (ipykernel)",
   "language": "python",
   "name": "python3"
  },
  "language_info": {
   "codemirror_mode": {
    "name": "ipython",
    "version": 3
   },
   "file_extension": ".py",
   "mimetype": "text/x-python",
   "name": "python",
   "nbconvert_exporter": "python",
   "pygments_lexer": "ipython3",
   "version": "3.10.4"
  },
  "toc": {
   "base_numbering": 1,
   "nav_menu": {},
   "number_sections": true,
   "sideBar": true,
   "skip_h1_title": false,
   "title_cell": "Table of Contents",
   "title_sidebar": "Contents",
   "toc_cell": false,
   "toc_position": {},
   "toc_section_display": true,
   "toc_window_display": false
  }
 },
 "nbformat": 4,
 "nbformat_minor": 5
}
