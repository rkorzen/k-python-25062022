{
 "cells": [
  {
   "cell_type": "markdown",
   "id": "91112ef6",
   "metadata": {},
   "source": [
    "# przypomnienia CD...\n",
    "\n",
    "## wbudowane typy\n",
    "\n",
    "### bytes"
   ]
  },
  {
   "cell_type": "code",
   "execution_count": null,
   "id": "8c17c540",
   "metadata": {},
   "outputs": [],
   "source": [
    "0b1000001"
   ]
  },
  {
   "cell_type": "code",
   "execution_count": null,
   "id": "d1902d74",
   "metadata": {},
   "outputs": [],
   "source": [
    "ord(\"A\")"
   ]
  },
  {
   "cell_type": "code",
   "execution_count": null,
   "id": "691bc089",
   "metadata": {},
   "outputs": [],
   "source": [
    "ord?"
   ]
  },
  {
   "cell_type": "code",
   "execution_count": null,
   "id": "61ed4b2a",
   "metadata": {},
   "outputs": [],
   "source": [
    "\"ala\".encode()"
   ]
  },
  {
   "cell_type": "code",
   "execution_count": null,
   "id": "7e59cee3",
   "metadata": {},
   "outputs": [],
   "source": [
    "\"ała\".encode()"
   ]
  },
  {
   "cell_type": "code",
   "execution_count": null,
   "id": "ce3956ff",
   "metadata": {},
   "outputs": [],
   "source": [
    "0xc5"
   ]
  },
  {
   "cell_type": "code",
   "execution_count": null,
   "id": "1b3f180e",
   "metadata": {},
   "outputs": [],
   "source": [
    "chr(197)"
   ]
  },
  {
   "cell_type": "code",
   "execution_count": null,
   "id": "6297d7ff",
   "metadata": {},
   "outputs": [],
   "source": [
    "0x82"
   ]
  },
  {
   "cell_type": "code",
   "execution_count": null,
   "id": "c76960ce",
   "metadata": {},
   "outputs": [],
   "source": [
    "chr(130)"
   ]
  },
  {
   "cell_type": "code",
   "execution_count": null,
   "id": "9e1ae21b",
   "metadata": {},
   "outputs": [],
   "source": [
    "b'a\\xc5\\x82a'.decode(encoding='utf8')"
   ]
  },
  {
   "cell_type": "code",
   "execution_count": null,
   "id": "50e7dcd8",
   "metadata": {},
   "outputs": [],
   "source": [
    "b'za\\xbf\\xf3\\xb3\\xe6 g\\xea\\xb6l\\xb1 ja\\xbc\\xf1'.decode(\"iso-8859-2\")"
   ]
  },
  {
   "cell_type": "code",
   "execution_count": null,
   "id": "5d3dda26",
   "metadata": {},
   "outputs": [],
   "source": [
    "x = b'za\\xbf\\xf3\\xb3\\xe6 g\\xea\\xb6l\\xb1 ja\\xbc\\xf1'\n"
   ]
  },
  {
   "cell_type": "code",
   "execution_count": null,
   "id": "8e052267",
   "metadata": {},
   "outputs": [],
   "source": [
    "x[1] = 122"
   ]
  },
  {
   "cell_type": "code",
   "execution_count": null,
   "id": "26fae42a",
   "metadata": {},
   "outputs": [],
   "source": [
    "chr(122)"
   ]
  },
  {
   "cell_type": "markdown",
   "id": "03e87c51",
   "metadata": {},
   "source": [
    "## wbudowane kolekcje"
   ]
  },
  {
   "cell_type": "markdown",
   "id": "9d3927d0",
   "metadata": {},
   "source": [
    "### krotka (tuple)\n",
    "\n",
    "niemutowalna"
   ]
  },
  {
   "cell_type": "code",
   "execution_count": null,
   "id": "e65e2566",
   "metadata": {},
   "outputs": [],
   "source": [
    "tuple(\"123\") + (3, 4 ,5 ) + ([1, 2, 3], {1:2})"
   ]
  },
  {
   "cell_type": "markdown",
   "id": "7d64d5f4",
   "metadata": {},
   "source": [
    "### list\n",
    "\n"
   ]
  },
  {
   "cell_type": "code",
   "execution_count": null,
   "id": "b7cf30d0",
   "metadata": {},
   "outputs": [],
   "source": [
    "x = list() + [1,2 ,3 ] + [\"a\"]\n",
    "x"
   ]
  },
  {
   "cell_type": "code",
   "execution_count": null,
   "id": "d44a619f",
   "metadata": {},
   "outputs": [],
   "source": [
    "x[0] = 10\n",
    "x"
   ]
  },
  {
   "cell_type": "markdown",
   "id": "b4bae088",
   "metadata": {},
   "source": [
    "### słownik (dict)"
   ]
  },
  {
   "cell_type": "code",
   "execution_count": null,
   "id": "10216f21",
   "metadata": {},
   "outputs": [],
   "source": [
    "dict(), {}"
   ]
  },
  {
   "cell_type": "code",
   "execution_count": null,
   "id": "93d2f4d5",
   "metadata": {},
   "outputs": [],
   "source": [
    "d = dict()\n",
    "d[1] = 'a'\n",
    "d[False] = \"fałsz\"\n",
    "d"
   ]
  },
  {
   "cell_type": "code",
   "execution_count": null,
   "id": "6ffc048c",
   "metadata": {},
   "outputs": [],
   "source": [
    "d[[1, 2]] = 2"
   ]
  },
  {
   "cell_type": "markdown",
   "id": "5d7beb8f",
   "metadata": {},
   "source": [
    "### zbiór (set)\n",
    "\n",
    "zestaw unikalnych hashowalnych elementów- mutowalny"
   ]
  },
  {
   "cell_type": "code",
   "execution_count": null,
   "id": "e6ce209d",
   "metadata": {},
   "outputs": [],
   "source": [
    "{1, 2, 3}"
   ]
  },
  {
   "cell_type": "code",
   "execution_count": null,
   "id": "3e608f2d",
   "metadata": {},
   "outputs": [],
   "source": [
    "{1, 2, 3, {3, 4}}"
   ]
  },
  {
   "cell_type": "markdown",
   "id": "3212ca88",
   "metadata": {},
   "source": [
    "### frozenset"
   ]
  },
  {
   "cell_type": "code",
   "execution_count": null,
   "id": "e3b4b852",
   "metadata": {},
   "outputs": [],
   "source": [
    "x = frozenset([1, 2, 3])"
   ]
  },
  {
   "cell_type": "code",
   "execution_count": null,
   "id": "9324e2ef",
   "metadata": {},
   "outputs": [],
   "source": [
    "x"
   ]
  },
  {
   "cell_type": "code",
   "execution_count": null,
   "id": "20086de3",
   "metadata": {},
   "outputs": [],
   "source": [
    "hash(x)"
   ]
  },
  {
   "cell_type": "code",
   "execution_count": null,
   "id": "e1443e67",
   "metadata": {},
   "outputs": [],
   "source": [
    "{x}"
   ]
  },
  {
   "cell_type": "code",
   "execution_count": null,
   "id": "a02702f3",
   "metadata": {},
   "outputs": [],
   "source": [
    "y = {2,3 ,4}"
   ]
  },
  {
   "cell_type": "code",
   "execution_count": null,
   "id": "5d4fcce6",
   "metadata": {},
   "outputs": [],
   "source": [
    "x, y"
   ]
  },
  {
   "cell_type": "code",
   "execution_count": null,
   "id": "5cc86ad2",
   "metadata": {},
   "outputs": [],
   "source": [
    "x | y"
   ]
  },
  {
   "cell_type": "code",
   "execution_count": null,
   "id": "1ee9b026",
   "metadata": {},
   "outputs": [],
   "source": [
    "x - y"
   ]
  },
  {
   "cell_type": "code",
   "execution_count": null,
   "id": "6fec470c",
   "metadata": {},
   "outputs": [],
   "source": [
    "x & y"
   ]
  },
  {
   "cell_type": "code",
   "execution_count": null,
   "id": "fba8582a",
   "metadata": {},
   "outputs": [],
   "source": [
    "x ^ y"
   ]
  },
  {
   "cell_type": "code",
   "execution_count": null,
   "id": "e1b56738",
   "metadata": {},
   "outputs": [],
   "source": [
    "hash([1, 2])"
   ]
  },
  {
   "cell_type": "code",
   "execution_count": null,
   "id": "e7b5cc9c",
   "metadata": {},
   "outputs": [],
   "source": [
    "hash((1, 2))"
   ]
  },
  {
   "cell_type": "code",
   "execution_count": null,
   "id": "cd0a5b81",
   "metadata": {},
   "outputs": [],
   "source": [
    "x = (1, 2)"
   ]
  },
  {
   "cell_type": "code",
   "execution_count": null,
   "id": "515f2b5d",
   "metadata": {},
   "outputs": [],
   "source": [
    "y = (1, 2)"
   ]
  },
  {
   "cell_type": "code",
   "execution_count": null,
   "id": "4692ebc0",
   "metadata": {},
   "outputs": [],
   "source": [
    "z = (2, 1)"
   ]
  },
  {
   "cell_type": "code",
   "execution_count": null,
   "id": "8e729c02",
   "metadata": {},
   "outputs": [],
   "source": [
    "x == y"
   ]
  },
  {
   "cell_type": "code",
   "execution_count": null,
   "id": "8acb9f37",
   "metadata": {},
   "outputs": [],
   "source": [
    "x == z"
   ]
  },
  {
   "cell_type": "code",
   "execution_count": null,
   "id": "88ce5af2",
   "metadata": {},
   "outputs": [],
   "source": [
    "x is y"
   ]
  },
  {
   "cell_type": "code",
   "execution_count": null,
   "id": "17991945",
   "metadata": {},
   "outputs": [],
   "source": [
    "hash(x) == hash(y)"
   ]
  },
  {
   "cell_type": "markdown",
   "id": "89f803f4",
   "metadata": {},
   "source": [
    "## Adnotacje (annotations)"
   ]
  },
  {
   "cell_type": "code",
   "execution_count": null,
   "id": "3324ae86",
   "metadata": {},
   "outputs": [],
   "source": [
    "a: str = \"cos\""
   ]
  },
  {
   "cell_type": "code",
   "execution_count": null,
   "id": "471b6757",
   "metadata": {},
   "outputs": [],
   "source": [
    "__annotations__"
   ]
  },
  {
   "cell_type": "code",
   "execution_count": null,
   "id": "9fc12841",
   "metadata": {},
   "outputs": [],
   "source": [
    "def suma(a: int, b: int) -> int:\n",
    "    return a + b"
   ]
  },
  {
   "cell_type": "code",
   "execution_count": null,
   "id": "cc13afc8",
   "metadata": {},
   "outputs": [],
   "source": [
    "__annotations__"
   ]
  },
  {
   "cell_type": "code",
   "execution_count": null,
   "id": "092ca5ac",
   "metadata": {},
   "outputs": [],
   "source": [
    "suma.__annotations__"
   ]
  },
  {
   "cell_type": "code",
   "execution_count": null,
   "id": "2263e187",
   "metadata": {},
   "outputs": [],
   "source": [
    "def suma(a: int, b: int) -> int:\n",
    "    return a + b"
   ]
  },
  {
   "cell_type": "code",
   "execution_count": null,
   "id": "1dd5249d",
   "metadata": {},
   "outputs": [],
   "source": [
    "suma.__annotations__"
   ]
  },
  {
   "cell_type": "code",
   "execution_count": null,
   "id": "987b1ccd",
   "metadata": {},
   "outputs": [],
   "source": [
    "def suma(a: \"jaakis opis\", b: int) -> int:\n",
    "    return a + b"
   ]
  },
  {
   "cell_type": "code",
   "execution_count": null,
   "id": "6efa21d9",
   "metadata": {},
   "outputs": [],
   "source": [
    "suma.__annotations__['a']"
   ]
  },
  {
   "cell_type": "code",
   "execution_count": null,
   "id": "98a7f94b",
   "metadata": {},
   "outputs": [],
   "source": [
    "from typing import Optional, List, Dict\n",
    "\n",
    "def foo(a: int, b: str, c: Optional[List[str]] = None) -> Dict[int, str]:\n",
    "    pass\n"
   ]
  },
  {
   "cell_type": "code",
   "execution_count": null,
   "id": "bf63d81e",
   "metadata": {},
   "outputs": [],
   "source": [
    "foo.__annotations__"
   ]
  },
  {
   "cell_type": "markdown",
   "id": "2a75c9e6",
   "metadata": {},
   "source": [
    "## Różne operatory stosowane w Pythonie\n",
    "\n",
    "* Operatory mogą być dwuargumentowe - gdy z lewej i prawej strony operatora znajdują się obiekty\n",
    "* Operatory mogą być jednoargumentowe - operator poprzedza obiekt\n",
    "\n",
    "* operatory arytmetyczne\n",
    "\n",
    "| operator | nazwa               | przykład | wynik |\n",
    "| -------- | ------------------- | -------- | ----- |\n",
    "| +        | dodawanie           |          |\n",
    "| -        | odejmowanie         |          |\n",
    "| /        | dzielenie           |          |\n",
    "| //       | dzielenie całkowite |          |\n",
    "| *        | mnożenie            |          |\n",
    "| **       | potęgowanie         |          |\n",
    "| %        | dzielenie modulo    |          |\n",
    "| @        | mnożenie macierzy   |          |\n",
    "\n",
    "\n",
    "\n",
    "* operatory algebry zbiorów\n",
    "\n",
    "Działają na obiektach typu `set`\n",
    "\n",
    "| operator | przykład             | wynik     |\n",
    "| -------- | -------------------- | --------- |\n",
    "| &        | {1, 2} & {2, 3}      | {2}       |\n",
    "| &#124;   | {1, 2} &#124; {2, 3} | {1, 2, 3} |\n",
    "| ^        | {1, 2} ^ {2, 3}      | {1, 3}    |\n",
    "| -        | {1, 2} - {2, 3}      | {1}       |\n",
    "\n",
    "\n",
    "* operatory przypisania: \n",
    "\n",
    "| operator | przykład    | równoważność   |\n",
    "| :------: | ----------- | -------------- |\n",
    "| =        | x = 5       | x = 5          |\n",
    "| +=       | x += 3      | x = x + 3      |\n",
    "| -=       | x -= 3      | x = x - 3      |\n",
    "| *=       | x *= 3      | x = x * 3      |\n",
    "| /=       | x /= 3      | x = x / 3      |\n",
    "| %=       | x %= 3      | x = x % 3      |\n",
    "| //=      | x //= 3     | x = x // 3     |\n",
    "| **=      | x **= 3     | x = x ** 3     |\n",
    "| &=       | x &= 3      | x = x & 3      |\n",
    "| &#124;=  | x &#124;= 3 | x = x &#124; 3 |\n",
    "| ^=       | x ^= 3      | x = x ^ 3      |\n",
    "| >>=      | x >>= 3     | x = x >> 3     |\n",
    "| <<=      | x <<= 3     | x = x << 3     |\n",
    "\n",
    "\n",
    "\n",
    "\n",
    "* operatory porównania: \n",
    "\n",
    "| operator | nazwa                    | przykład            |\n",
    "| :------: | ------------------------ | ------------------- |\n",
    "| ==       | Equal                    | x == y              |\n",
    "| !=       | Not equal                | x != y              |\n",
    "| >        | Greater than             | x > y               |\n",
    "| <        | Less than                | x < y               |\n",
    "| >=       | Greater than or equal to | x >= y              |\n",
    "| <=       | Less than or equal to    | x <= y              |\n",
    "| :=       | Walrus operator          | if x := 2 < 3: pass |"
   ]
  },
  {
   "cell_type": "code",
   "execution_count": null,
   "id": "dccc5809",
   "metadata": {},
   "outputs": [],
   "source": [
    "if x := 2 < 3: print(\"cos\")\n",
    "x"
   ]
  },
  {
   "cell_type": "code",
   "execution_count": null,
   "id": "d1f145c1",
   "metadata": {},
   "outputs": [],
   "source": [
    "x = 2 < 3\n",
    "\n",
    "if x:\n",
    "    print(\"cos\")"
   ]
  },
  {
   "cell_type": "markdown",
   "id": "985f9ad5",
   "metadata": {},
   "source": [
    "* operatory logiczne\n",
    "\n",
    "| operator | nazwa                                         | przykład              |\n",
    "| :------: | --------------------------------------------- | --------------------- |\n",
    "| and      | Returns True if both statements are true      | x < 5 and  x < 10     |\n",
    "| or       | Returns True if one of the statements is true | x < 5 or x < 4        |\n",
    "| not      | Reverse the result                            | not(x < 5 and x < 10) |\n",
    "\n",
    "* operatory identyczności, tożsamości\n",
    "\n",
    "| operator | nazwa                                                  | przykład   |\n",
    "| :------: | ------------------------------------------------------ | ---------- |\n",
    "| is       | Returns True if both variables are the same object     | x is y     |\n",
    "| is not   | Returns True if both variables are not the same object | x is not y |\n",
    "\n",
    "\n",
    "* operatory zawierania\n",
    "\n",
    "| operator | nazwa                                                                            | przykład   |\n",
    "| :------: | -------------------------------------------------------------------------------- | ---------- |\n",
    "| in       | Returns True if a sequence with the specified value is present in the object     | x in y     |\n",
    "| not in   | Returns True if a sequence with the specified value is not present in the object | x not in y |\n",
    "\n",
    "\n",
    "* operatory bitowe\n",
    "\n",
    "| operator | nazwa                | opis | przykład               | wynik      |\n",
    "| :------: | -------------------- | ---- | :--------------------: | ---------- |\n",
    "| &        | AND                  |      | bin(0b10  & 0b01)      | 0b0        |\n",
    "| &#124;   | OR                   |      | bin(0b10  &#124; 0b01) | 0b11       |\n",
    "| ^        | XOR                  |      | bin(0b10 ^ 0b01)       | 0b11       |\n",
    "|          |                      |      | bin(0b10 ^ 0b10)       | 0b0        |\n",
    "| ~        | NOT                  |      | ~0b1                   | -2         |\n",
    "|          |                      |      | bin(~0b1)              | -0b10      |\n",
    "| <<       | Zero fill left shift |      | bin(0b00111100 << 2)   | 0b11110000 |\n",
    "| >>       | Signed right shift   |      | bin(0b00111100 >> 2)   | 0b1111     |\n",
    "\n",
    "\n",
    "```"
   ]
  },
  {
   "cell_type": "code",
   "execution_count": null,
   "id": "ffca9a4f",
   "metadata": {},
   "outputs": [],
   "source": [
    "0b01 & 0x10"
   ]
  },
  {
   "cell_type": "code",
   "execution_count": null,
   "id": "0ad28a53",
   "metadata": {},
   "outputs": [],
   "source": [
    "'0b{:04b}'.format(0b1100 & 0b1010)"
   ]
  },
  {
   "cell_type": "code",
   "execution_count": null,
   "id": "17c6d82f",
   "metadata": {},
   "outputs": [],
   "source": [
    "'0b{:04b}'.format(0b1100 | 0b1010)"
   ]
  },
  {
   "cell_type": "code",
   "execution_count": null,
   "id": "5582d9f1",
   "metadata": {},
   "outputs": [],
   "source": [
    "'0b{:04b}'.format(0b1100 ^ 0b1010)"
   ]
  },
  {
   "cell_type": "code",
   "execution_count": null,
   "id": "6266cf73",
   "metadata": {},
   "outputs": [],
   "source": [
    "2 << 2"
   ]
  },
  {
   "cell_type": "code",
   "execution_count": null,
   "id": "94b2688b",
   "metadata": {},
   "outputs": [],
   "source": [
    "'0b{:04b}'.format(0b1100 >> 2)"
   ]
  },
  {
   "cell_type": "code",
   "execution_count": null,
   "id": "7e216565",
   "metadata": {},
   "outputs": [],
   "source": [
    "'0b{:04b}'.format(0b0011 << 2)"
   ]
  },
  {
   "cell_type": "markdown",
   "id": "315a2dfc",
   "metadata": {},
   "source": [
    "### Kolejność wykonywania operatorów\n",
    "\n",
    "|                    | Operator                         | Description                                      |\n",
    "| :----------------: | -------------------------------- | ------------------------------------------------ |\n",
    "| lowest precedence  | or                               | Boolean OR                                       |\n",
    "|                    | and                              | Boolean AND                                      |\n",
    "|                    | not                              | Boolean NOT                                      |\n",
    "|                    | ==, !=, <, <=, >, >=, is, is not | comparisons, identity                            |\n",
    "|                    | &#124;                           | bitwise OR                                       |\n",
    "|                    | ^                                | bitwise XOR                                      |\n",
    "|                    | &                                | bitwise AND                                      |\n",
    "|                    | <<, >>                           | bit shifts                                       |\n",
    "|                    | +, -                             | addition, subtraction                            |\n",
    "|                    | *, /, //, %                      | multiplication, division, floor division, modulo |\n",
    "|                    | +x, -x, ~x                       | unary positive, unary negation, bitwise negation |\n",
    "| highest precedence | **                               | exponentiation                                   |\n"
   ]
  },
  {
   "cell_type": "code",
   "execution_count": null,
   "id": "7a436608",
   "metadata": {},
   "outputs": [],
   "source": [
    "3 * (-2) ** 2"
   ]
  },
  {
   "cell_type": "markdown",
   "id": "1abd1cdc",
   "metadata": {},
   "source": [
    "## Dokumentacja\n",
    "\n"
   ]
  },
  {
   "cell_type": "code",
   "execution_count": null,
   "id": "8ad98e94",
   "metadata": {},
   "outputs": [],
   "source": [
    "__doc__"
   ]
  },
  {
   "cell_type": "code",
   "execution_count": null,
   "id": "9d83a76d",
   "metadata": {},
   "outputs": [],
   "source": [
    "suma.__doc__"
   ]
  },
  {
   "cell_type": "code",
   "execution_count": null,
   "id": "e307493c",
   "metadata": {},
   "outputs": [],
   "source": [
    "def suma(a: int, b: int) -> int:\n",
    "    \"\"\"Suma dwóch elementów\"\"\"\n",
    "    return a + b\n",
    "\n",
    "suma.__doc__"
   ]
  },
  {
   "cell_type": "code",
   "execution_count": null,
   "id": "72caf1c4",
   "metadata": {},
   "outputs": [],
   "source": [
    "help(suma)"
   ]
  },
  {
   "cell_type": "markdown",
   "id": "916f3275",
   "metadata": {},
   "source": [
    "## Moduły i paczki\n",
    "\n",
    "Moduły i paczki to sposób pythona na modularyzację projektów. Czyli podzielenia ich na powiązane ze sobą komponenty.\n",
    "\n",
    "Ułatwiają one tzw programowanie modularne. Zalety tego podejścia to między innymi:\n",
    "    \n",
    "* prostota (simplicity): zamiast skupiać się na całym problemie, moduł zazwyczaj skupia się na jednej stosunkowo niewielkiej części problemu. Jeśli pracujesz nad pojedynczym modułem, będziesz mieć mniejszą problematyczną domenę, na której możesz się oprzeć. Dzięki temu programowanie jest łatwiejsze i mniej podatne na błędy.\n",
    "\n",
    "* łatwość utrzymania (maintainability): moduły są zazwyczaj projektowane w taki sposób, aby wymuszały logiczne granice między różnymi domenami problemów. Jeśli moduły są napisane w sposób minimalizujący współzależności, zmniejsza się prawdopodobieństwo, że modyfikacje jednego modułu będą miały wpływ na inne części programu. (Możesz nawet dokonywać zmian w module bez znajomości aplikacji poza tym modułem). Dzięki temu zespół wielu programistów może pracować wspólnie nad dużą aplikacją.\n",
    "\n",
    "* ponowne wykorzystanie (reusability): Funkcjonalność zdefiniowana w jednym module może być łatwo ponownie wykorzystana (poprzez odpowiednio zdefiniowany interfejs) przez inne części aplikacji. Eliminuje to konieczność duplikowania kodu.\n",
    "\n",
    "* zakres (scoping): moduły zazwyczaj definiują oddzielną przestrzeń nazw, co pomaga uniknąć kolizji między identyfikatorami w różnych obszarach programu. (Jedną z zasad Zen Pythona jest to, że przestrzenie nazw to świetny pomysł — zróbmy ich więcej!)\n",
    "    \n",
    "    \n",
    "### Module\n",
    "\n",
    "- moduł może być napisany w Pythonie i najczęściej to po prostu pythonowy plik\n",
    "- moduł moze być napisany w C\n",
    "- moduły wbudowane - takie jak itertools np. są wewnętrznie zawarte w interpreterze"
   ]
  },
  {
   "cell_type": "code",
   "execution_count": null,
   "id": "927cf9a4",
   "metadata": {},
   "outputs": [],
   "source": [
    "# %load modules_examples/mod.py\n",
    "s: str  = \"Yes we can\"\n",
    "a: list = [100, 200, 300]\n",
    "\n",
    "def foo(arg):\n",
    "    print(f\"arg: {arg}\")\n",
    "\n",
    "class Foo(): pass\n",
    "\n",
    "def print(*args, **kwargs):\n",
    "    __builtins__.get('print')(\"You are hacked\")\n",
    "\n",
    "# print(\"x\")\n",
    "\n",
    "#\n",
    "# print(dir(__builtins__))\n",
    "# print(__builtins__.get('print'))"
   ]
  },
  {
   "cell_type": "code",
   "execution_count": null,
   "id": "d90f2426",
   "metadata": {},
   "outputs": [],
   "source": [
    "# %load modules_examples/import_example.py\n",
    "import mod\n",
    "\n",
    "mod.foo(\"1\")\n",
    "\n",
    "\n",
    "from mod import foo as f1\n",
    "from mod1 import foo as f2\n",
    "\n",
    "f1(\"10\")\n",
    "f2(\"10\")\n",
    "\n"
   ]
  },
  {
   "cell_type": "code",
   "execution_count": null,
   "id": "51bc502f",
   "metadata": {},
   "outputs": [],
   "source": [
    "# %load modules_examples/mod1.py\n",
    "def foo(arg):\n",
    "    print(\"Foo z mod1\")"
   ]
  },
  {
   "cell_type": "code",
   "execution_count": null,
   "id": "bcf6c4e2",
   "metadata": {},
   "outputs": [],
   "source": [
    "import palindrome"
   ]
  },
  {
   "cell_type": "code",
   "execution_count": null,
   "id": "51136fd0",
   "metadata": {},
   "outputs": [],
   "source": [
    "palindrome.xxx(10)"
   ]
  },
  {
   "cell_type": "code",
   "execution_count": null,
   "id": "76e1184f",
   "metadata": {},
   "outputs": [],
   "source": [
    "import importlib\n",
    "importlib.reload(palindrome)\n"
   ]
  },
  {
   "cell_type": "code",
   "execution_count": null,
   "id": "2e77f79a",
   "metadata": {},
   "outputs": [],
   "source": [
    "palindrome.xxx(10)"
   ]
  },
  {
   "cell_type": "code",
   "execution_count": null,
   "id": "8692acee",
   "metadata": {},
   "outputs": [],
   "source": [
    "import random\n",
    "\n",
    "dir(random)"
   ]
  },
  {
   "cell_type": "code",
   "execution_count": null,
   "id": "4a9dcb98",
   "metadata": {},
   "outputs": [],
   "source": [
    "# import string\n",
    "\n",
    "string = __import__(\"string\")\n",
    "\n",
    "# import string as s\n",
    "\n",
    "s = __import__(\"string\")\n",
    "\n",
    "# method = calculate_method(args)\n",
    "# m = __import__(method)\n",
    "\n",
    "ascii_letter_lower = getattr(s, 'ascii_letters')\n",
    "ascii_letter_lower"
   ]
  },
  {
   "cell_type": "code",
   "execution_count": null,
   "id": "6d0c183c",
   "metadata": {},
   "outputs": [],
   "source": [
    "s.ascii_letters"
   ]
  },
  {
   "cell_type": "code",
   "execution_count": null,
   "id": "d5fc91b6",
   "metadata": {},
   "outputs": [],
   "source": [
    "__builtins__.print"
   ]
  },
  {
   "cell_type": "code",
   "execution_count": null,
   "id": "666e80aa",
   "metadata": {},
   "outputs": [],
   "source": []
  },
  {
   "cell_type": "markdown",
   "id": "b55644cb",
   "metadata": {},
   "source": [
    "Przerwa do 10:57"
   ]
  },
  {
   "cell_type": "markdown",
   "id": "1c445113",
   "metadata": {},
   "source": [
    "### Package\n",
    "\n",
    "Paczka to folder zawierajacy moduly:\n",
    "\n",
    "    pkg\n",
    "        mod1.py\n",
    "        mod2.py\n",
    "        "
   ]
  },
  {
   "cell_type": "code",
   "execution_count": null,
   "id": "9574fa65",
   "metadata": {},
   "outputs": [],
   "source": [
    "!mkdir pkg"
   ]
  },
  {
   "cell_type": "code",
   "execution_count": null,
   "id": "3a5a6da7",
   "metadata": {},
   "outputs": [],
   "source": [
    "%%writefile pkg/mod1.py\n",
    "\n",
    "def foo2(): print('[mod1] foo()')\n",
    "    \n",
    "class Foo:\n",
    "    pass"
   ]
  },
  {
   "cell_type": "code",
   "execution_count": null,
   "id": "b9801c5b",
   "metadata": {},
   "outputs": [],
   "source": [
    "%%writefile pkg/mod2.py\n",
    "\n",
    "def foo2(): print('[mod2] foo()')\n",
    "    \n",
    "class Foo:\n",
    "    pass"
   ]
  },
  {
   "cell_type": "code",
   "execution_count": null,
   "id": "b362b978",
   "metadata": {},
   "outputs": [],
   "source": [
    "from pkg import mod1"
   ]
  },
  {
   "cell_type": "code",
   "execution_count": null,
   "id": "96002f28",
   "metadata": {},
   "outputs": [],
   "source": [
    "mod1.foo2()"
   ]
  },
  {
   "cell_type": "code",
   "execution_count": null,
   "id": "16aa27bf",
   "metadata": {},
   "outputs": [],
   "source": [
    "!mkdir pkg2"
   ]
  },
  {
   "cell_type": "code",
   "execution_count": null,
   "id": "bc084ef2",
   "metadata": {},
   "outputs": [],
   "source": [
    "%%writefile pkg2/__init__.py\n",
    "\n",
    "print(\"Initiate pkg2\")\n",
    "import pkg2.mod1"
   ]
  },
  {
   "cell_type": "code",
   "execution_count": 2,
   "id": "8d60da90",
   "metadata": {},
   "outputs": [
    {
     "name": "stdout",
     "output_type": "stream",
     "text": [
      "Overwriting pkg2/mod1.py\n"
     ]
    }
   ],
   "source": [
    "%%writefile pkg2/mod1.py\n",
    "\n",
    "def foo2(): print('[pkg2][mod1] foo()')\n",
    "    \n",
    "class Foo:\n",
    "    pass"
   ]
  },
  {
   "cell_type": "code",
   "execution_count": 3,
   "id": "de8106dc",
   "metadata": {},
   "outputs": [
    {
     "name": "stdout",
     "output_type": "stream",
     "text": [
      "Initiate pkg2\n"
     ]
    }
   ],
   "source": [
    "import pkg2"
   ]
  },
  {
   "cell_type": "code",
   "execution_count": null,
   "id": "81c029aa",
   "metadata": {},
   "outputs": [],
   "source": [
    "import pkg"
   ]
  },
  {
   "cell_type": "code",
   "execution_count": null,
   "id": "221aee0c",
   "metadata": {},
   "outputs": [],
   "source": [
    "pkg.mod1"
   ]
  },
  {
   "cell_type": "code",
   "execution_count": 4,
   "id": "00890a6b",
   "metadata": {},
   "outputs": [
    {
     "data": {
      "text/plain": [
       "['__builtins__',\n",
       " '__cached__',\n",
       " '__doc__',\n",
       " '__file__',\n",
       " '__loader__',\n",
       " '__name__',\n",
       " '__package__',\n",
       " '__path__',\n",
       " '__spec__',\n",
       " 'mod1',\n",
       " 'pkg2']"
      ]
     },
     "execution_count": 4,
     "metadata": {},
     "output_type": "execute_result"
    }
   ],
   "source": [
    "dir(pkg2)"
   ]
  },
  {
   "cell_type": "code",
   "execution_count": 9,
   "id": "d23ae723",
   "metadata": {},
   "outputs": [
    {
     "data": {
      "text/plain": [
       "<module 'pkg2.mod1' from '/Users/rkorzen/PycharmProjects/szkolenia/k-python-25-06-2022/pkg2/mod1.py'>"
      ]
     },
     "execution_count": 9,
     "metadata": {},
     "output_type": "execute_result"
    }
   ],
   "source": [
    "pkg2.mod1"
   ]
  },
  {
   "cell_type": "markdown",
   "id": "6f0867c2",
   "metadata": {},
   "source": [
    "https://realpython.com/python-modules-packages"
   ]
  },
  {
   "cell_type": "markdown",
   "id": "49ae1391",
   "metadata": {},
   "source": [
    "# Przestrzenie nazw w Python"
   ]
  },
  {
   "cell_type": "code",
   "execution_count": 10,
   "id": "7a715dc0",
   "metadata": {},
   "outputs": [
    {
     "name": "stdout",
     "output_type": "stream",
     "text": [
      "Writing namespaces_examples.py\n"
     ]
    }
   ],
   "source": [
    "%%writefile namespaces_examples.py\n",
    "\n",
    "a = 1\n",
    "\n",
    "\n",
    "def foo():\n",
    "    \n",
    "    print(a)"
   ]
  },
  {
   "cell_type": "markdown",
   "id": "eac68ea1",
   "metadata": {},
   "source": [
    "## pojęcia: globalna, lokalna, domykająca (nielokalna)\n",
    "\n",
    "## przydatne funkcje:\n",
    "\n"
   ]
  },
  {
   "cell_type": "code",
   "execution_count": 12,
   "id": "06dd6b1e",
   "metadata": {},
   "outputs": [
    {
     "data": {
      "text/plain": [
       "{'__name__': '__main__',\n",
       " '__doc__': 'Automatically created module for IPython interactive environment',\n",
       " '__package__': None,\n",
       " '__loader__': None,\n",
       " '__spec__': None,\n",
       " '__builtin__': <module 'builtins' (built-in)>,\n",
       " '__builtins__': <module 'builtins' (built-in)>,\n",
       " '_ih': ['',\n",
       "  'import pkg2',\n",
       "  'get_ipython().run_cell_magic(\\'writefile\\', \\'pkg2/mod1.py\\', \"\\\\ndef foo2(): print(\\'[pkg2][mod1] foo()\\')\\\\n    \\\\nclass Foo:\\\\n    pass\\\\n\")',\n",
       "  'import pkg2',\n",
       "  'dir(pkg2)',\n",
       "  'pkg2.mod1',\n",
       "  'pkg2.mod1',\n",
       "  'pkg2.mod1',\n",
       "  'pkg2.mod1',\n",
       "  'pkg2.mod1',\n",
       "  \"get_ipython().run_cell_magic('writefile', 'namespaces_examples.py', '\\\\na = 1\\\\n\\\\n\\\\ndef foo():\\\\n    \\\\n    print(a)\\\\n')\",\n",
       "  'locals()',\n",
       "  'locals()\\nglobals()'],\n",
       " '_oh': {4: ['__builtins__',\n",
       "   '__cached__',\n",
       "   '__doc__',\n",
       "   '__file__',\n",
       "   '__loader__',\n",
       "   '__name__',\n",
       "   '__package__',\n",
       "   '__path__',\n",
       "   '__spec__',\n",
       "   'mod1',\n",
       "   'pkg2'],\n",
       "  5: <module 'pkg2.mod1' from '/Users/rkorzen/PycharmProjects/szkolenia/k-python-25-06-2022/pkg2/mod1.py'>,\n",
       "  6: <module 'pkg2.mod1' from '/Users/rkorzen/PycharmProjects/szkolenia/k-python-25-06-2022/pkg2/mod1.py'>,\n",
       "  7: <module 'pkg2.mod1' from '/Users/rkorzen/PycharmProjects/szkolenia/k-python-25-06-2022/pkg2/mod1.py'>,\n",
       "  8: <module 'pkg2.mod1' from '/Users/rkorzen/PycharmProjects/szkolenia/k-python-25-06-2022/pkg2/mod1.py'>,\n",
       "  9: <module 'pkg2.mod1' from '/Users/rkorzen/PycharmProjects/szkolenia/k-python-25-06-2022/pkg2/mod1.py'>,\n",
       "  11: {...}},\n",
       " '_dh': [PosixPath('/Users/rkorzen/PycharmProjects/szkolenia/k-python-25-06-2022')],\n",
       " 'In': ['',\n",
       "  'import pkg2',\n",
       "  'get_ipython().run_cell_magic(\\'writefile\\', \\'pkg2/mod1.py\\', \"\\\\ndef foo2(): print(\\'[pkg2][mod1] foo()\\')\\\\n    \\\\nclass Foo:\\\\n    pass\\\\n\")',\n",
       "  'import pkg2',\n",
       "  'dir(pkg2)',\n",
       "  'pkg2.mod1',\n",
       "  'pkg2.mod1',\n",
       "  'pkg2.mod1',\n",
       "  'pkg2.mod1',\n",
       "  'pkg2.mod1',\n",
       "  \"get_ipython().run_cell_magic('writefile', 'namespaces_examples.py', '\\\\na = 1\\\\n\\\\n\\\\ndef foo():\\\\n    \\\\n    print(a)\\\\n')\",\n",
       "  'locals()',\n",
       "  'locals()\\nglobals()'],\n",
       " 'Out': {4: ['__builtins__',\n",
       "   '__cached__',\n",
       "   '__doc__',\n",
       "   '__file__',\n",
       "   '__loader__',\n",
       "   '__name__',\n",
       "   '__package__',\n",
       "   '__path__',\n",
       "   '__spec__',\n",
       "   'mod1',\n",
       "   'pkg2'],\n",
       "  5: <module 'pkg2.mod1' from '/Users/rkorzen/PycharmProjects/szkolenia/k-python-25-06-2022/pkg2/mod1.py'>,\n",
       "  6: <module 'pkg2.mod1' from '/Users/rkorzen/PycharmProjects/szkolenia/k-python-25-06-2022/pkg2/mod1.py'>,\n",
       "  7: <module 'pkg2.mod1' from '/Users/rkorzen/PycharmProjects/szkolenia/k-python-25-06-2022/pkg2/mod1.py'>,\n",
       "  8: <module 'pkg2.mod1' from '/Users/rkorzen/PycharmProjects/szkolenia/k-python-25-06-2022/pkg2/mod1.py'>,\n",
       "  9: <module 'pkg2.mod1' from '/Users/rkorzen/PycharmProjects/szkolenia/k-python-25-06-2022/pkg2/mod1.py'>,\n",
       "  11: {...}},\n",
       " 'get_ipython': <bound method InteractiveShell.get_ipython of <ipykernel.zmqshell.ZMQInteractiveShell object at 0x1054964a0>>,\n",
       " 'exit': <IPython.core.autocall.ZMQExitAutocall at 0x1059342e0>,\n",
       " 'quit': <IPython.core.autocall.ZMQExitAutocall at 0x1059342e0>,\n",
       " '_': {...},\n",
       " '__': <module 'pkg2.mod1' from '/Users/rkorzen/PycharmProjects/szkolenia/k-python-25-06-2022/pkg2/mod1.py'>,\n",
       " '___': <module 'pkg2.mod1' from '/Users/rkorzen/PycharmProjects/szkolenia/k-python-25-06-2022/pkg2/mod1.py'>,\n",
       " 'json': <module 'json' from '/usr/local/Cellar/python@3.10/3.10.4/Frameworks/Python.framework/Versions/3.10/lib/python3.10/json/__init__.py'>,\n",
       " 'yapf_reformat': <function __main__.yapf_reformat(cell_text)>,\n",
       " 'autopep8': <module 'autopep8' from '/usr/local/lib/python3.10/site-packages/autopep8.py'>,\n",
       " '_i': 'locals()',\n",
       " '_ii': '%%writefile namespaces_examples.py\\n\\na = 1\\n\\n\\ndef foo():\\n    \\n    print(a)',\n",
       " '_iii': 'pkg2.mod1',\n",
       " '_i1': 'import pkg2',\n",
       " '_i2': \"%%writefile pkg2/mod1.py\\n\\ndef foo2(): print('[pkg2][mod1] foo()')\\n    \\nclass Foo:\\n    pass\",\n",
       " '_i3': 'import pkg2',\n",
       " 'pkg2': <module 'pkg2' from '/Users/rkorzen/PycharmProjects/szkolenia/k-python-25-06-2022/pkg2/__init__.py'>,\n",
       " '_i4': 'dir(pkg2)',\n",
       " '_4': ['__builtins__',\n",
       "  '__cached__',\n",
       "  '__doc__',\n",
       "  '__file__',\n",
       "  '__loader__',\n",
       "  '__name__',\n",
       "  '__package__',\n",
       "  '__path__',\n",
       "  '__spec__',\n",
       "  'mod1',\n",
       "  'pkg2'],\n",
       " '_i5': 'pkg2.mod1',\n",
       " '_5': <module 'pkg2.mod1' from '/Users/rkorzen/PycharmProjects/szkolenia/k-python-25-06-2022/pkg2/mod1.py'>,\n",
       " '_i6': 'pkg2.mod1',\n",
       " '_6': <module 'pkg2.mod1' from '/Users/rkorzen/PycharmProjects/szkolenia/k-python-25-06-2022/pkg2/mod1.py'>,\n",
       " '_i7': 'pkg2.mod1',\n",
       " '_7': <module 'pkg2.mod1' from '/Users/rkorzen/PycharmProjects/szkolenia/k-python-25-06-2022/pkg2/mod1.py'>,\n",
       " '_i8': 'pkg2.mod1',\n",
       " '_8': <module 'pkg2.mod1' from '/Users/rkorzen/PycharmProjects/szkolenia/k-python-25-06-2022/pkg2/mod1.py'>,\n",
       " '_i9': 'pkg2.mod1',\n",
       " '_9': <module 'pkg2.mod1' from '/Users/rkorzen/PycharmProjects/szkolenia/k-python-25-06-2022/pkg2/mod1.py'>,\n",
       " '_i10': '%%writefile namespaces_examples.py\\n\\na = 1\\n\\n\\ndef foo():\\n    \\n    print(a)',\n",
       " '_i11': 'locals()',\n",
       " '_11': {...},\n",
       " '_i12': 'locals()\\nglobals()'}"
      ]
     },
     "execution_count": 12,
     "metadata": {},
     "output_type": "execute_result"
    }
   ],
   "source": [
    "locals()\n",
    "globals()"
   ]
  },
  {
   "cell_type": "markdown",
   "id": "408bb18d",
   "metadata": {},
   "source": [
    "## przestrzen wbudowana `__builtins__`"
   ]
  },
  {
   "cell_type": "code",
   "execution_count": 13,
   "id": "98b2a2eb",
   "metadata": {},
   "outputs": [
    {
     "data": {
      "text/plain": [
       "['ArithmeticError',\n",
       " 'AssertionError',\n",
       " 'AttributeError',\n",
       " 'BaseException',\n",
       " 'BlockingIOError',\n",
       " 'BrokenPipeError',\n",
       " 'BufferError',\n",
       " 'BytesWarning',\n",
       " 'ChildProcessError',\n",
       " 'ConnectionAbortedError',\n",
       " 'ConnectionError',\n",
       " 'ConnectionRefusedError',\n",
       " 'ConnectionResetError',\n",
       " 'DeprecationWarning',\n",
       " 'EOFError',\n",
       " 'Ellipsis',\n",
       " 'EncodingWarning',\n",
       " 'EnvironmentError',\n",
       " 'Exception',\n",
       " 'False',\n",
       " 'FileExistsError',\n",
       " 'FileNotFoundError',\n",
       " 'FloatingPointError',\n",
       " 'FutureWarning',\n",
       " 'GeneratorExit',\n",
       " 'IOError',\n",
       " 'ImportError',\n",
       " 'ImportWarning',\n",
       " 'IndentationError',\n",
       " 'IndexError',\n",
       " 'InterruptedError',\n",
       " 'IsADirectoryError',\n",
       " 'KeyError',\n",
       " 'KeyboardInterrupt',\n",
       " 'LookupError',\n",
       " 'MemoryError',\n",
       " 'ModuleNotFoundError',\n",
       " 'NameError',\n",
       " 'None',\n",
       " 'NotADirectoryError',\n",
       " 'NotImplemented',\n",
       " 'NotImplementedError',\n",
       " 'OSError',\n",
       " 'OverflowError',\n",
       " 'PendingDeprecationWarning',\n",
       " 'PermissionError',\n",
       " 'ProcessLookupError',\n",
       " 'RecursionError',\n",
       " 'ReferenceError',\n",
       " 'ResourceWarning',\n",
       " 'RuntimeError',\n",
       " 'RuntimeWarning',\n",
       " 'StopAsyncIteration',\n",
       " 'StopIteration',\n",
       " 'SyntaxError',\n",
       " 'SyntaxWarning',\n",
       " 'SystemError',\n",
       " 'SystemExit',\n",
       " 'TabError',\n",
       " 'TimeoutError',\n",
       " 'True',\n",
       " 'TypeError',\n",
       " 'UnboundLocalError',\n",
       " 'UnicodeDecodeError',\n",
       " 'UnicodeEncodeError',\n",
       " 'UnicodeError',\n",
       " 'UnicodeTranslateError',\n",
       " 'UnicodeWarning',\n",
       " 'UserWarning',\n",
       " 'ValueError',\n",
       " 'Warning',\n",
       " 'ZeroDivisionError',\n",
       " '__IPYTHON__',\n",
       " '__build_class__',\n",
       " '__debug__',\n",
       " '__doc__',\n",
       " '__import__',\n",
       " '__loader__',\n",
       " '__name__',\n",
       " '__package__',\n",
       " '__spec__',\n",
       " 'abs',\n",
       " 'aiter',\n",
       " 'all',\n",
       " 'anext',\n",
       " 'any',\n",
       " 'ascii',\n",
       " 'bin',\n",
       " 'bool',\n",
       " 'breakpoint',\n",
       " 'bytearray',\n",
       " 'bytes',\n",
       " 'callable',\n",
       " 'chr',\n",
       " 'classmethod',\n",
       " 'compile',\n",
       " 'complex',\n",
       " 'copyright',\n",
       " 'credits',\n",
       " 'delattr',\n",
       " 'dict',\n",
       " 'dir',\n",
       " 'display',\n",
       " 'divmod',\n",
       " 'enumerate',\n",
       " 'eval',\n",
       " 'exec',\n",
       " 'execfile',\n",
       " 'filter',\n",
       " 'float',\n",
       " 'format',\n",
       " 'frozenset',\n",
       " 'get_ipython',\n",
       " 'getattr',\n",
       " 'globals',\n",
       " 'hasattr',\n",
       " 'hash',\n",
       " 'help',\n",
       " 'hex',\n",
       " 'id',\n",
       " 'input',\n",
       " 'int',\n",
       " 'isinstance',\n",
       " 'issubclass',\n",
       " 'iter',\n",
       " 'len',\n",
       " 'license',\n",
       " 'list',\n",
       " 'locals',\n",
       " 'map',\n",
       " 'max',\n",
       " 'memoryview',\n",
       " 'min',\n",
       " 'next',\n",
       " 'object',\n",
       " 'oct',\n",
       " 'open',\n",
       " 'ord',\n",
       " 'pow',\n",
       " 'print',\n",
       " 'property',\n",
       " 'range',\n",
       " 'repr',\n",
       " 'reversed',\n",
       " 'round',\n",
       " 'runfile',\n",
       " 'set',\n",
       " 'setattr',\n",
       " 'slice',\n",
       " 'sorted',\n",
       " 'staticmethod',\n",
       " 'str',\n",
       " 'sum',\n",
       " 'super',\n",
       " 'tuple',\n",
       " 'type',\n",
       " 'vars',\n",
       " 'zip']"
      ]
     },
     "execution_count": 13,
     "metadata": {},
     "output_type": "execute_result"
    }
   ],
   "source": [
    "dir(__builtins__)"
   ]
  },
  {
   "cell_type": "code",
   "execution_count": null,
   "id": "d16469cb",
   "metadata": {},
   "outputs": [],
   "source": [
    "# import builtins\n",
    "# x = builtins.print"
   ]
  },
  {
   "cell_type": "markdown",
   "id": "063c31fd",
   "metadata": {},
   "source": [
    "### wyjatki:\n",
    "\n",
    "ponad 60 wyjatkow"
   ]
  },
  {
   "cell_type": "markdown",
   "id": "f4a4fff0",
   "metadata": {},
   "source": [
    "### Funky globals\n",
    "\n",
    "`__name__` `__debug__`"
   ]
  },
  {
   "cell_type": "code",
   "execution_count": 16,
   "id": "03c0d7b0",
   "metadata": {},
   "outputs": [
    {
     "name": "stdout",
     "output_type": "stream",
     "text": [
      "None\n"
     ]
    }
   ],
   "source": [
    "print(__spec__)"
   ]
  },
  {
   "cell_type": "code",
   "execution_count": 17,
   "id": "182072ac",
   "metadata": {},
   "outputs": [
    {
     "data": {
      "text/plain": [
       "True"
      ]
     },
     "execution_count": 17,
     "metadata": {},
     "output_type": "execute_result"
    }
   ],
   "source": [
    "__debug__"
   ]
  },
  {
   "cell_type": "markdown",
   "id": "034ea392",
   "metadata": {},
   "source": [
    "### Constans - stałe\n",
    "\n",
    "`False, True, None, Ellipsis, ..., NotImplemented`"
   ]
  },
  {
   "cell_type": "markdown",
   "id": "82c76f31",
   "metadata": {},
   "source": [
    "### Funkcje\n",
    "\n",
    "#### compile, exec, eval"
   ]
  },
  {
   "cell_type": "code",
   "execution_count": 19,
   "id": "b806abb2",
   "metadata": {},
   "outputs": [
    {
     "name": "stdout",
     "output_type": "stream",
     "text": [
      "[11, 2, 3]\n"
     ]
    }
   ],
   "source": [
    "code = '''\n",
    "x = [11, 2, 3]\n",
    "print(x)\n",
    "'''\n",
    "\n",
    "exec(code)"
   ]
  },
  {
   "cell_type": "code",
   "execution_count": 20,
   "id": "5549e8b5",
   "metadata": {},
   "outputs": [
    {
     "data": {
      "text/plain": [
       "2"
      ]
     },
     "execution_count": 20,
     "metadata": {},
     "output_type": "execute_result"
    }
   ],
   "source": [
    "eval(\"1+1\")"
   ]
  },
  {
   "cell_type": "code",
   "execution_count": 25,
   "id": "57e5e5b8",
   "metadata": {},
   "outputs": [],
   "source": [
    "x = compile(code, \"f.txt\", mode='exec')"
   ]
  },
  {
   "cell_type": "code",
   "execution_count": 28,
   "id": "5244b90c",
   "metadata": {},
   "outputs": [
    {
     "data": {
      "text/plain": [
       "['__class__',\n",
       " '__delattr__',\n",
       " '__dir__',\n",
       " '__doc__',\n",
       " '__eq__',\n",
       " '__format__',\n",
       " '__ge__',\n",
       " '__getattribute__',\n",
       " '__gt__',\n",
       " '__hash__',\n",
       " '__init__',\n",
       " '__init_subclass__',\n",
       " '__le__',\n",
       " '__lt__',\n",
       " '__ne__',\n",
       " '__new__',\n",
       " '__reduce__',\n",
       " '__reduce_ex__',\n",
       " '__repr__',\n",
       " '__setattr__',\n",
       " '__sizeof__',\n",
       " '__str__',\n",
       " '__subclasshook__',\n",
       " 'co_argcount',\n",
       " 'co_cellvars',\n",
       " 'co_code',\n",
       " 'co_consts',\n",
       " 'co_filename',\n",
       " 'co_firstlineno',\n",
       " 'co_flags',\n",
       " 'co_freevars',\n",
       " 'co_kwonlyargcount',\n",
       " 'co_lines',\n",
       " 'co_linetable',\n",
       " 'co_lnotab',\n",
       " 'co_name',\n",
       " 'co_names',\n",
       " 'co_nlocals',\n",
       " 'co_posonlyargcount',\n",
       " 'co_stacksize',\n",
       " 'co_varnames',\n",
       " 'replace']"
      ]
     },
     "execution_count": 28,
     "metadata": {},
     "output_type": "execute_result"
    }
   ],
   "source": [
    "dir(x)"
   ]
  },
  {
   "cell_type": "markdown",
   "id": "cb72759d",
   "metadata": {},
   "source": [
    "#### print, input"
   ]
  },
  {
   "cell_type": "markdown",
   "id": "4861ee4a",
   "metadata": {},
   "source": [
    "#### str, bytes, int, bool, float and complex - primitives"
   ]
  },
  {
   "cell_type": "markdown",
   "id": "b7e8289a",
   "metadata": {},
   "source": [
    "#### object"
   ]
  },
  {
   "cell_type": "code",
   "execution_count": 31,
   "id": "a38e734a",
   "metadata": {},
   "outputs": [
    {
     "data": {
      "text/plain": [
       "['__class__',\n",
       " '__delattr__',\n",
       " '__dir__',\n",
       " '__doc__',\n",
       " '__eq__',\n",
       " '__format__',\n",
       " '__ge__',\n",
       " '__getattribute__',\n",
       " '__gt__',\n",
       " '__hash__',\n",
       " '__init__',\n",
       " '__init_subclass__',\n",
       " '__le__',\n",
       " '__lt__',\n",
       " '__ne__',\n",
       " '__new__',\n",
       " '__reduce__',\n",
       " '__reduce_ex__',\n",
       " '__repr__',\n",
       " '__setattr__',\n",
       " '__sizeof__',\n",
       " '__str__',\n",
       " '__subclasshook__']"
      ]
     },
     "execution_count": 31,
     "metadata": {},
     "output_type": "execute_result"
    }
   ],
   "source": [
    "dir(object)"
   ]
  },
  {
   "cell_type": "code",
   "execution_count": 33,
   "id": "c26b15ec",
   "metadata": {},
   "outputs": [
    {
     "data": {
      "text/plain": [
       "False"
      ]
     },
     "execution_count": 33,
     "metadata": {},
     "output_type": "execute_result"
    }
   ],
   "source": [
    "object() == object()"
   ]
  },
  {
   "cell_type": "markdown",
   "id": "4f222cbf",
   "metadata": {},
   "source": [
    "#### type"
   ]
  },
  {
   "cell_type": "code",
   "execution_count": 34,
   "id": "f745c460",
   "metadata": {},
   "outputs": [
    {
     "data": {
      "text/plain": [
       "int"
      ]
     },
     "execution_count": 34,
     "metadata": {},
     "output_type": "execute_result"
    }
   ],
   "source": [
    "type(1)"
   ]
  },
  {
   "cell_type": "code",
   "execution_count": 35,
   "id": "1f7c2d22",
   "metadata": {},
   "outputs": [],
   "source": [
    "type?"
   ]
  },
  {
   "cell_type": "code",
   "execution_count": 37,
   "id": "dee5324c",
   "metadata": {},
   "outputs": [],
   "source": [
    "Vector = type(\"Vector\", (object, ), {})"
   ]
  },
  {
   "cell_type": "code",
   "execution_count": 38,
   "id": "41228474",
   "metadata": {},
   "outputs": [],
   "source": [
    "v = Vector()"
   ]
  },
  {
   "cell_type": "code",
   "execution_count": 39,
   "id": "251d7e0f",
   "metadata": {},
   "outputs": [
    {
     "data": {
      "text/plain": [
       "__main__.Vector"
      ]
     },
     "execution_count": 39,
     "metadata": {},
     "output_type": "execute_result"
    }
   ],
   "source": [
    "type(v)"
   ]
  },
  {
   "cell_type": "code",
   "execution_count": 40,
   "id": "795797be",
   "metadata": {},
   "outputs": [
    {
     "data": {
      "text/plain": [
       "type"
      ]
     },
     "execution_count": 40,
     "metadata": {},
     "output_type": "execute_result"
    }
   ],
   "source": [
    "type(Vector)"
   ]
  },
  {
   "cell_type": "markdown",
   "id": "e5b6d52a",
   "metadata": {},
   "source": [
    "#### hash, id"
   ]
  },
  {
   "cell_type": "markdown",
   "id": "f558f60b",
   "metadata": {},
   "source": [
    "#### dir, vars"
   ]
  },
  {
   "cell_type": "code",
   "execution_count": 44,
   "id": "4cb862f9",
   "metadata": {},
   "outputs": [],
   "source": [
    "class C:\n",
    "    const = 42\n",
    "    def __init__(self, x, y):\n",
    "        self.x = x\n",
    "        self.y = y\n",
    "    def mymethod(self): ..."
   ]
  },
  {
   "cell_type": "code",
   "execution_count": 45,
   "id": "2a9adc97",
   "metadata": {},
   "outputs": [],
   "source": [
    "c = C(1, 2)\n",
    "\n"
   ]
  },
  {
   "cell_type": "code",
   "execution_count": 46,
   "id": "303dc50f",
   "metadata": {},
   "outputs": [
    {
     "data": {
      "text/plain": [
       "{'x': 1, 'y': 2}"
      ]
     },
     "execution_count": 46,
     "metadata": {},
     "output_type": "execute_result"
    }
   ],
   "source": [
    "vars(c)"
   ]
  },
  {
   "cell_type": "code",
   "execution_count": 47,
   "id": "7532660c",
   "metadata": {},
   "outputs": [
    {
     "data": {
      "text/plain": [
       "mappingproxy({'__module__': '__main__',\n",
       "              'const': 42,\n",
       "              '__init__': <function __main__.C.__init__(self, x, y)>,\n",
       "              'mymethod': <function __main__.C.mymethod(self)>,\n",
       "              '__dict__': <attribute '__dict__' of 'C' objects>,\n",
       "              '__weakref__': <attribute '__weakref__' of 'C' objects>,\n",
       "              '__doc__': None})"
      ]
     },
     "execution_count": 47,
     "metadata": {},
     "output_type": "execute_result"
    }
   ],
   "source": [
    "vars(C)"
   ]
  },
  {
   "cell_type": "code",
   "execution_count": 48,
   "id": "4e21aa56",
   "metadata": {},
   "outputs": [
    {
     "data": {
      "text/plain": [
       "['__class__',\n",
       " '__delattr__',\n",
       " '__dict__',\n",
       " '__dir__',\n",
       " '__doc__',\n",
       " '__eq__',\n",
       " '__format__',\n",
       " '__ge__',\n",
       " '__getattribute__',\n",
       " '__gt__',\n",
       " '__hash__',\n",
       " '__init__',\n",
       " '__init_subclass__',\n",
       " '__le__',\n",
       " '__lt__',\n",
       " '__module__',\n",
       " '__ne__',\n",
       " '__new__',\n",
       " '__reduce__',\n",
       " '__reduce_ex__',\n",
       " '__repr__',\n",
       " '__setattr__',\n",
       " '__sizeof__',\n",
       " '__str__',\n",
       " '__subclasshook__',\n",
       " '__weakref__',\n",
       " 'const',\n",
       " 'mymethod',\n",
       " 'x',\n",
       " 'y']"
      ]
     },
     "execution_count": 48,
     "metadata": {},
     "output_type": "execute_result"
    }
   ],
   "source": [
    "dir(c)"
   ]
  },
  {
   "cell_type": "markdown",
   "id": "a7f888ff",
   "metadata": {},
   "source": [
    "#### hasattr, getattr, setattr, delattr"
   ]
  },
  {
   "cell_type": "code",
   "execution_count": 50,
   "id": "e7e07f05",
   "metadata": {},
   "outputs": [
    {
     "data": {
      "text/plain": [
       "False"
      ]
     },
     "execution_count": 50,
     "metadata": {},
     "output_type": "execute_result"
    }
   ],
   "source": [
    "hasattr(c, 'x')"
   ]
  },
  {
   "cell_type": "code",
   "execution_count": 51,
   "id": "339e3254",
   "metadata": {},
   "outputs": [
    {
     "data": {
      "text/plain": [
       "42"
      ]
     },
     "execution_count": 51,
     "metadata": {},
     "output_type": "execute_result"
    }
   ],
   "source": [
    "getattr(c, 'const')"
   ]
  },
  {
   "cell_type": "code",
   "execution_count": 52,
   "id": "5074fd68",
   "metadata": {},
   "outputs": [
    {
     "name": "stdout",
     "output_type": "stream",
     "text": [
      "x\n"
     ]
    }
   ],
   "source": [
    "print(\"x\")"
   ]
  },
  {
   "cell_type": "code",
   "execution_count": 53,
   "id": "11c9e837",
   "metadata": {},
   "outputs": [],
   "source": [
    "setattr(c, \"z\", 10)"
   ]
  },
  {
   "cell_type": "code",
   "execution_count": 54,
   "id": "595e365b",
   "metadata": {},
   "outputs": [
    {
     "data": {
      "text/plain": [
       "{'x': 1, 'y': 2, 'z': 10}"
      ]
     },
     "execution_count": 54,
     "metadata": {},
     "output_type": "execute_result"
    }
   ],
   "source": [
    "vars(c)"
   ]
  },
  {
   "cell_type": "code",
   "execution_count": 55,
   "id": "424354cc",
   "metadata": {},
   "outputs": [],
   "source": [
    "delattr(c, 'z')"
   ]
  },
  {
   "cell_type": "markdown",
   "id": "ecb4956e",
   "metadata": {},
   "source": [
    "#### builtincollections: str, list, dict, set, frozenset"
   ]
  },
  {
   "cell_type": "markdown",
   "id": "427f7384",
   "metadata": {},
   "source": [
    "#### Proste konwertery: bin, hex, oct, ord, chr, ascii"
   ]
  },
  {
   "cell_type": "code",
   "execution_count": 58,
   "id": "3b844ae8",
   "metadata": {},
   "outputs": [
    {
     "data": {
      "text/plain": [
       "\"'a\\\\u0142a'\""
      ]
     },
     "execution_count": 58,
     "metadata": {},
     "output_type": "execute_result"
    }
   ],
   "source": [
    "ascii('ała')"
   ]
  },
  {
   "cell_type": "code",
   "execution_count": 59,
   "id": "698f6d88",
   "metadata": {},
   "outputs": [],
   "source": [
    "ascii?"
   ]
  },
  {
   "cell_type": "markdown",
   "id": "cab74c02",
   "metadata": {},
   "source": [
    "#### callable"
   ]
  },
  {
   "cell_type": "code",
   "execution_count": 60,
   "id": "06a41cc2",
   "metadata": {},
   "outputs": [
    {
     "data": {
      "text/plain": [
       "True"
      ]
     },
     "execution_count": 60,
     "metadata": {},
     "output_type": "execute_result"
    }
   ],
   "source": [
    "class C: pass\n",
    "\n",
    "callable(C)"
   ]
  },
  {
   "cell_type": "code",
   "execution_count": 61,
   "id": "bc35dd7c",
   "metadata": {},
   "outputs": [],
   "source": [
    "c = C()"
   ]
  },
  {
   "cell_type": "code",
   "execution_count": 62,
   "id": "f3adf19d",
   "metadata": {},
   "outputs": [
    {
     "data": {
      "text/plain": [
       "False"
      ]
     },
     "execution_count": 62,
     "metadata": {},
     "output_type": "execute_result"
    }
   ],
   "source": [
    "callable(c)"
   ]
  },
  {
   "cell_type": "code",
   "execution_count": 63,
   "id": "4005f888",
   "metadata": {},
   "outputs": [
    {
     "ename": "TypeError",
     "evalue": "'C' object is not callable",
     "output_type": "error",
     "traceback": [
      "\u001b[0;31m---------------------------------------------------------------------------\u001b[0m",
      "\u001b[0;31mTypeError\u001b[0m                                 Traceback (most recent call last)",
      "Input \u001b[0;32mIn [63]\u001b[0m, in \u001b[0;36m<cell line: 1>\u001b[0;34m()\u001b[0m\n\u001b[0;32m----> 1\u001b[0m \u001b[43mc\u001b[49m\u001b[43m(\u001b[49m\u001b[43m)\u001b[49m\n",
      "\u001b[0;31mTypeError\u001b[0m: 'C' object is not callable"
     ]
    }
   ],
   "source": [
    "# c()"
   ]
  },
  {
   "cell_type": "code",
   "execution_count": 69,
   "id": "7c564501",
   "metadata": {},
   "outputs": [
    {
     "data": {
      "text/plain": [
       "True"
      ]
     },
     "execution_count": 69,
     "metadata": {},
     "output_type": "execute_result"
    }
   ],
   "source": [
    "class C:\n",
    "    def __call__(self, x):\n",
    "        print(\"Calling that\")\n",
    "\n",
    "callable(C)"
   ]
  },
  {
   "cell_type": "code",
   "execution_count": 70,
   "id": "3227a665",
   "metadata": {},
   "outputs": [],
   "source": [
    "c = C()"
   ]
  },
  {
   "cell_type": "code",
   "execution_count": 73,
   "id": "56e2d18e",
   "metadata": {},
   "outputs": [
    {
     "name": "stdout",
     "output_type": "stream",
     "text": [
      "Calling that\n"
     ]
    }
   ],
   "source": [
    "c(1)"
   ]
  },
  {
   "cell_type": "code",
   "execution_count": 72,
   "id": "d401cb8a",
   "metadata": {},
   "outputs": [
    {
     "data": {
      "text/plain": [
       "True"
      ]
     },
     "execution_count": 72,
     "metadata": {},
     "output_type": "execute_result"
    }
   ],
   "source": [
    "callable(c)"
   ]
  },
  {
   "cell_type": "code",
   "execution_count": 68,
   "id": "b8d56d55",
   "metadata": {},
   "outputs": [
    {
     "ename": "TypeError",
     "evalue": "C.__call__() takes 1 positional argument but 2 were given",
     "output_type": "error",
     "traceback": [
      "\u001b[0;31m---------------------------------------------------------------------------\u001b[0m",
      "\u001b[0;31mTypeError\u001b[0m                                 Traceback (most recent call last)",
      "Input \u001b[0;32mIn [68]\u001b[0m, in \u001b[0;36m<cell line: 1>\u001b[0;34m()\u001b[0m\n\u001b[0;32m----> 1\u001b[0m \u001b[43mc\u001b[49m\u001b[43m(\u001b[49m\u001b[38;5;241;43m1\u001b[39;49m\u001b[43m)\u001b[49m\n",
      "\u001b[0;31mTypeError\u001b[0m: C.__call__() takes 1 positional argument but 2 were given"
     ]
    }
   ],
   "source": [
    "c(1)"
   ]
  },
  {
   "cell_type": "markdown",
   "id": "f5acf04a",
   "metadata": {},
   "source": [
    "#### sorted, reveresed\n",
    "\n",
    "#### map, filter\n"
   ]
  },
  {
   "cell_type": "code",
   "execution_count": 76,
   "id": "ed32c5d4",
   "metadata": {},
   "outputs": [
    {
     "data": {
      "text/plain": [
       "'1234'"
      ]
     },
     "execution_count": 76,
     "metadata": {},
     "output_type": "execute_result"
    }
   ],
   "source": [
    "x = [1, 2, 3, 4]\n",
    "# x = [str(i) for i in x]\n",
    "\"\".join(map(str, x))"
   ]
  },
  {
   "cell_type": "code",
   "execution_count": 77,
   "id": "bd48720c",
   "metadata": {},
   "outputs": [
    {
     "data": {
      "text/plain": [
       "[1.0, 2.0, 3.0, 4.0]"
      ]
     },
     "execution_count": 77,
     "metadata": {},
     "output_type": "execute_result"
    }
   ],
   "source": [
    "list(map(float, x))"
   ]
  },
  {
   "cell_type": "code",
   "execution_count": 78,
   "id": "465f4f52",
   "metadata": {},
   "outputs": [
    {
     "data": {
      "text/plain": [
       "[10, 8]"
      ]
     },
     "execution_count": 78,
     "metadata": {},
     "output_type": "execute_result"
    }
   ],
   "source": [
    "items = [13, 10, 25, 8]\n",
    "\n",
    "evens = list(filter(lambda x: x % 2 == 0, items))\n",
    "evens"
   ]
  },
  {
   "cell_type": "markdown",
   "id": "7472b436",
   "metadata": {},
   "source": [
    "#### aggregate functions: len, max, min, sum\n",
    "\n"
   ]
  },
  {
   "cell_type": "code",
   "execution_count": 79,
   "id": "023670e1",
   "metadata": {},
   "outputs": [
    {
     "data": {
      "text/plain": [
       "3"
      ]
     },
     "execution_count": 79,
     "metadata": {},
     "output_type": "execute_result"
    }
   ],
   "source": [
    "x = [1,2 ,3]\n",
    "max(x)"
   ]
  },
  {
   "cell_type": "code",
   "execution_count": 85,
   "id": "a4261a9b",
   "metadata": {},
   "outputs": [
    {
     "data": {
      "text/plain": [
       "'0'"
      ]
     },
     "execution_count": 85,
     "metadata": {},
     "output_type": "execute_result"
    }
   ],
   "source": [
    "x = ['a', 'b', 'c', 1, 2, 3, 0, 'z']\n",
    "min(map(str, x))"
   ]
  },
  {
   "cell_type": "code",
   "execution_count": 87,
   "id": "87b338b0",
   "metadata": {},
   "outputs": [
    {
     "data": {
      "text/plain": [
       "0"
      ]
     },
     "execution_count": 87,
     "metadata": {},
     "output_type": "execute_result"
    }
   ],
   "source": [
    "min([-0, 0])"
   ]
  },
  {
   "cell_type": "markdown",
   "id": "962c99d3",
   "metadata": {},
   "source": [
    "#### range, enumerate, zip"
   ]
  },
  {
   "cell_type": "code",
   "execution_count": 95,
   "id": "6a506db9",
   "metadata": {},
   "outputs": [],
   "source": [
    "a = (1 +\n",
    "    3)"
   ]
  },
  {
   "cell_type": "code",
   "execution_count": 96,
   "id": "b85814cd",
   "metadata": {},
   "outputs": [
    {
     "data": {
      "text/plain": [
       "4"
      ]
     },
     "execution_count": 96,
     "metadata": {},
     "output_type": "execute_result"
    }
   ],
   "source": [
    "a"
   ]
  },
  {
   "cell_type": "code",
   "execution_count": 97,
   "id": "2dcf918e",
   "metadata": {},
   "outputs": [],
   "source": [
    "x = range(1, 100)\n",
    "y = (range(101, 110))"
   ]
  },
  {
   "cell_type": "code",
   "execution_count": 98,
   "id": "e7359cf0",
   "metadata": {},
   "outputs": [
    {
     "name": "stdout",
     "output_type": "stream",
     "text": [
      "1 101\n",
      "2 102\n",
      "3 103\n",
      "4 104\n",
      "5 105\n",
      "6 106\n",
      "7 107\n",
      "8 108\n",
      "9 109\n"
     ]
    }
   ],
   "source": [
    "for i, j in zip(x, y):\n",
    "    print(i, j)"
   ]
  },
  {
   "cell_type": "code",
   "execution_count": 99,
   "id": "0133379a",
   "metadata": {},
   "outputs": [],
   "source": [
    "cubes = [x**3 for x in range(10)]"
   ]
  },
  {
   "cell_type": "code",
   "execution_count": 100,
   "id": "21bd444a",
   "metadata": {},
   "outputs": [
    {
     "data": {
      "text/plain": [
       "[0, 1, 8, 27, 64, 125, 216, 343, 512, 729]"
      ]
     },
     "execution_count": 100,
     "metadata": {},
     "output_type": "execute_result"
    }
   ],
   "source": [
    "cubes"
   ]
  },
  {
   "cell_type": "code",
   "execution_count": 103,
   "id": "94fb9f06",
   "metadata": {},
   "outputs": [
    {
     "name": "stdout",
     "output_type": "stream",
     "text": [
      "1 0\n",
      "2 1\n",
      "3 8\n",
      "4 27\n",
      "5 64\n",
      "6 125\n",
      "7 216\n",
      "8 343\n",
      "9 512\n",
      "10 729\n"
     ]
    }
   ],
   "source": [
    "i = 1\n",
    "for el in cubes:\n",
    "    print( i, el)\n",
    "    i += 1"
   ]
  },
  {
   "cell_type": "code",
   "execution_count": 105,
   "id": "e2116373",
   "metadata": {},
   "outputs": [
    {
     "name": "stdout",
     "output_type": "stream",
     "text": [
      "1 0\n",
      "2 1\n",
      "3 8\n",
      "4 27\n",
      "5 64\n",
      "6 125\n",
      "7 216\n",
      "8 343\n",
      "9 512\n",
      "10 729\n"
     ]
    }
   ],
   "source": [
    "\n",
    "for i, el in enumerate(cubes, start=1):\n",
    "    print( i, el)\n"
   ]
  },
  {
   "cell_type": "markdown",
   "id": "c8efaed3",
   "metadata": {},
   "source": [
    "#### slice"
   ]
  },
  {
   "cell_type": "code",
   "execution_count": 107,
   "id": "b494ba53",
   "metadata": {},
   "outputs": [
    {
     "data": {
      "text/plain": [
       "[8, 27, 64, 125]"
      ]
     },
     "execution_count": 107,
     "metadata": {},
     "output_type": "execute_result"
    }
   ],
   "source": [
    "cubes[2:6]"
   ]
  },
  {
   "cell_type": "code",
   "execution_count": 108,
   "id": "77583e96",
   "metadata": {},
   "outputs": [
    {
     "data": {
      "text/plain": [
       "[8, 27, 64, 125]"
      ]
     },
     "execution_count": 108,
     "metadata": {},
     "output_type": "execute_result"
    }
   ],
   "source": [
    "s = slice(2, 6)\n",
    "\n",
    "cubes[s]"
   ]
  },
  {
   "cell_type": "markdown",
   "id": "306c6342",
   "metadata": {},
   "source": [
    "#### open\n",
    "\n",
    "#### repr"
   ]
  },
  {
   "cell_type": "code",
   "execution_count": 109,
   "id": "732938d0",
   "metadata": {},
   "outputs": [],
   "source": [
    "repr?"
   ]
  },
  {
   "cell_type": "code",
   "execution_count": 114,
   "id": "c6d4d5da",
   "metadata": {},
   "outputs": [],
   "source": [
    "class Vector:\n",
    "    def __init__(self, x, y):\n",
    "        self.x = x\n",
    "        self.y = y\n",
    "        \n",
    "    def __repr__(self):\n",
    "        return f\"Vector(x={self.x}, y={self.y})\"\n",
    "    \n",
    "v = Vector(1, 2)"
   ]
  },
  {
   "cell_type": "code",
   "execution_count": 115,
   "id": "049db1d2",
   "metadata": {},
   "outputs": [
    {
     "data": {
      "text/plain": [
       "Vector(x=1, y=2)"
      ]
     },
     "execution_count": 115,
     "metadata": {},
     "output_type": "execute_result"
    }
   ],
   "source": [
    "v"
   ]
  },
  {
   "cell_type": "code",
   "execution_count": 116,
   "id": "f4a81c1f",
   "metadata": {},
   "outputs": [
    {
     "data": {
      "text/plain": [
       "'Vector(x=1, y=2)'"
      ]
     },
     "execution_count": 116,
     "metadata": {},
     "output_type": "execute_result"
    }
   ],
   "source": [
    "str(v)"
   ]
  },
  {
   "cell_type": "code",
   "execution_count": 117,
   "id": "da9391f5",
   "metadata": {},
   "outputs": [
    {
     "data": {
      "text/plain": [
       "[Vector(x=1, y=2)]"
      ]
     },
     "execution_count": 117,
     "metadata": {},
     "output_type": "execute_result"
    }
   ],
   "source": [
    "[v]"
   ]
  },
  {
   "cell_type": "code",
   "execution_count": 121,
   "id": "6d4e1f11",
   "metadata": {},
   "outputs": [],
   "source": [
    "x = 7\n",
    "\n",
    "if x % 2 == 0 or x % 3 == 0:\n",
    "    print(\"cos tam\")"
   ]
  },
  {
   "cell_type": "code",
   "execution_count": 123,
   "id": "d2b0a27c",
   "metadata": {},
   "outputs": [],
   "source": [
    "if any([\n",
    "    x % 2 == 0,\n",
    "    x % 3 == 0,\n",
    "]):\n",
    "    print(\"cos\")"
   ]
  },
  {
   "cell_type": "code",
   "execution_count": 124,
   "id": "b4473f0a",
   "metadata": {},
   "outputs": [],
   "source": [
    "if all([\n",
    "    x % 2 == 0,\n",
    "    x % 3 == 0,\n",
    "]):\n",
    "    print(\"cos\")"
   ]
  },
  {
   "cell_type": "markdown",
   "id": "9d4ae88c",
   "metadata": {},
   "source": [
    "##  comprehension"
   ]
  },
  {
   "cell_type": "code",
   "execution_count": 133,
   "id": "b83b5fd3",
   "metadata": {},
   "outputs": [
    {
     "data": {
      "text/plain": [
       "[0, 2, 4, 6, 8]"
      ]
     },
     "execution_count": 133,
     "metadata": {},
     "output_type": "execute_result"
    }
   ],
   "source": [
    "[x for x in range(10) if x % 2 == 0]"
   ]
  },
  {
   "cell_type": "code",
   "execution_count": 134,
   "id": "aa0f56b5",
   "metadata": {},
   "outputs": [
    {
     "data": {
      "text/plain": [
       "[0, 2, 4, 6, 8]"
      ]
     },
     "execution_count": 134,
     "metadata": {},
     "output_type": "execute_result"
    }
   ],
   "source": [
    "out = []\n",
    "for x in range(10):\n",
    "    if x % 2 == 0:\n",
    "        out.append(x)\n",
    "out"
   ]
  },
  {
   "cell_type": "markdown",
   "id": "d0440b9b",
   "metadata": {},
   "source": [
    "### zadanie\n",
    "\n",
    "\n",
    "Przy pomocy wyrażenia listowego utwórz listę reprezentująca tabliczkę mnożenia"
   ]
  },
  {
   "cell_type": "code",
   "execution_count": 137,
   "id": "8496a79d",
   "metadata": {},
   "outputs": [
    {
     "name": "stdout",
     "output_type": "stream",
     "text": [
      "[1, 2, 3, 4, 5, 6, 7, 8, 9, 10]\n",
      "[2, 4, 6, 8, 10, 12, 14, 16, 18, 20]\n",
      "[3, 6, 9, 12, 15, 18, 21, 24, 27, 30]\n",
      "[4, 8, 12, 16, 20, 24, 28, 32, 36, 40]\n",
      "[5, 10, 15, 20, 25, 30, 35, 40, 45, 50]\n",
      "[6, 12, 18, 24, 30, 36, 42, 48, 54, 60]\n",
      "[7, 14, 21, 28, 35, 42, 49, 56, 63, 70]\n",
      "[8, 16, 24, 32, 40, 48, 56, 64, 72, 80]\n",
      "[9, 18, 27, 36, 45, 54, 63, 72, 81, 90]\n",
      "[10, 20, 30, 40, 50, 60, 70, 80, 90, 100]\n"
     ]
    }
   ],
   "source": [
    "\n",
    "for j in range(1, 11):\n",
    "    print([i * j  for i in range(1, 11)])\n"
   ]
  },
  {
   "cell_type": "code",
   "execution_count": 136,
   "id": "73d68811",
   "metadata": {},
   "outputs": [
    {
     "data": {
      "text/plain": [
       "[[1, 2, 3, 4, 5, 6, 7, 8, 9, 10],\n",
       " [2, 4, 6, 8, 10, 12, 14, 16, 18, 20],\n",
       " [3, 6, 9, 12, 15, 18, 21, 24, 27, 30],\n",
       " [4, 8, 12, 16, 20, 24, 28, 32, 36, 40],\n",
       " [5, 10, 15, 20, 25, 30, 35, 40, 45, 50],\n",
       " [6, 12, 18, 24, 30, 36, 42, 48, 54, 60],\n",
       " [7, 14, 21, 28, 35, 42, 49, 56, 63, 70],\n",
       " [8, 16, 24, 32, 40, 48, 56, 64, 72, 80],\n",
       " [9, 18, 27, 36, 45, 54, 63, 72, 81, 90],\n",
       " [10, 20, 30, 40, 50, 60, 70, 80, 90, 100]]"
      ]
     },
     "execution_count": 136,
     "metadata": {},
     "output_type": "execute_result"
    }
   ],
   "source": [
    "\n",
    "[\n",
    "    [i * j  for i in range(1, 11)]\n",
    "    for j in range(1, 11)\n",
    "]"
   ]
  },
  {
   "cell_type": "code",
   "execution_count": 146,
   "id": "c4a1a4c7",
   "metadata": {},
   "outputs": [
    {
     "data": {
      "text/plain": [
       "[11, 2, 11]"
      ]
     },
     "execution_count": 146,
     "metadata": {},
     "output_type": "execute_result"
    }
   ],
   "source": [
    "\n",
    "\n",
    "liczby = [1, 11, 2, 15, 4, 8, 11, 21, 34]\n",
    "\n",
    "liczby_pierwsze = []\n",
    "\n",
    "for liczba in liczby:\n",
    "    jest_dzielnik = False\n",
    "    if liczba <= 1: continue\n",
    "    else:\n",
    "        for i in range(2, liczba):\n",
    "            if liczba % i == 0: \n",
    "                jest_dzielnik = True\n",
    "                break\n",
    "    if not jest_dzielnik:\n",
    "        liczby_pierwsze.append(liczba)\n",
    "        \n",
    "\n",
    "liczby_pierwsze\n",
    "\n"
   ]
  },
  {
   "cell_type": "code",
   "execution_count": 148,
   "id": "276d1754",
   "metadata": {},
   "outputs": [
    {
     "data": {
      "text/plain": [
       "[]"
      ]
     },
     "execution_count": 148,
     "metadata": {},
     "output_type": "execute_result"
    }
   ],
   "source": [
    "\n",
    "liczby = [1, 11, 2, 15, 4, 8, 11, 21, 34]\n",
    "\n",
    "liczby_pierwsze = []\n",
    "\n",
    "for liczba in liczby:\n",
    "    if liczba <= 1: continue\n",
    "    for i in range(2, liczba):\n",
    "        if liczba % i == 0: \n",
    "            break\n",
    "    else:\n",
    "        liczby_pierwsze.append(liczba)\n",
    "        \n",
    "\n",
    "liczby_pierwsze"
   ]
  },
  {
   "cell_type": "code",
   "execution_count": 142,
   "id": "549307a7",
   "metadata": {},
   "outputs": [
    {
     "name": "stdout",
     "output_type": "stream",
     "text": [
      "0\n",
      "1\n",
      "2\n",
      "3\n",
      "4\n"
     ]
    }
   ],
   "source": [
    "for i in range(10): \n",
    "    if i == 5:\n",
    "        break \n",
    "    print(i)\n",
    "else:\n",
    "    print(\"Koniec - przeszedlem wszystko\")"
   ]
  },
  {
   "cell_type": "markdown",
   "id": "401ad31f",
   "metadata": {},
   "source": [
    "z zestawu liczb wybierz liczby pierwsze i zapisz je w liscie liczby_pierwsze\n"
   ]
  },
  {
   "cell_type": "markdown",
   "id": "030a426d",
   "metadata": {},
   "source": [
    "### Zadanie\n",
    "\n",
    "Utwórz nastepujaca strukture pakietów i modułów:\n",
    "* główny pakiet `mathematica`\n",
    "* pakiet wewnetrzny `geometry`\n",
    "* moduł figures w pakiecie `geometry` z funkcjami `square_area` oraz `triangle_area`\n",
    "* pakiet wewnetrzny `algebra`\n",
    "* moduł `matrices` w pakiecie `algebra` z funkcjami `add_matrices` i `sub_matrices`\n",
    "    \n",
    "    [1, 2\n",
    "     3, 4]\n",
    "* główny pakiet `tests`\n",
    "* moduł `test_geometry` testujacy funkcje geometryczne\n",
    "* moduł `test_algebra` testujacy funkcje algebraiczne"
   ]
  },
  {
   "cell_type": "code",
   "execution_count": 149,
   "id": "090ffe77",
   "metadata": {},
   "outputs": [
    {
     "ename": "NameError",
     "evalue": "name 'square_area' is not defined",
     "output_type": "error",
     "traceback": [
      "\u001b[0;31m---------------------------------------------------------------------------\u001b[0m",
      "\u001b[0;31mNameError\u001b[0m                                 Traceback (most recent call last)",
      "Input \u001b[0;32mIn [149]\u001b[0m, in \u001b[0;36m<cell line: 1>\u001b[0;34m()\u001b[0m\n\u001b[0;32m----> 1\u001b[0m \u001b[38;5;28;01massert\u001b[39;00m \u001b[43msquare_area\u001b[49m(\u001b[38;5;241m2\u001b[39m) \u001b[38;5;241m==\u001b[39m \u001b[38;5;241m4\u001b[39m\n\u001b[1;32m      2\u001b[0m \u001b[38;5;28;01massert\u001b[39;00m square_area(\u001b[38;5;241m1\u001b[39m) \u001b[38;5;241m==\u001b[39m \u001b[38;5;241m1\u001b[39m\n",
      "\u001b[0;31mNameError\u001b[0m: name 'square_area' is not defined"
     ]
    }
   ],
   "source": [
    "assert square_area(2) == 4\n",
    "assert square_area(1) == 1\n",
    "\n"
   ]
  },
  {
   "cell_type": "markdown",
   "id": "b575b473",
   "metadata": {},
   "source": [
    "\n",
    "    mathematica_project\n",
    "        mathematica\n",
    "            __init__.py\n",
    "            geometry.py\n",
    "            algebra.py\n",
    "        tests\n",
    "            __init__.py\n",
    "            test_algebra.py\n",
    "            test_geometry.py"
   ]
  },
  {
   "cell_type": "markdown",
   "id": "225b6891",
   "metadata": {},
   "source": [
    "Obiad do 14:03 lub 13:53 jesli sie zbierzemy"
   ]
  },
  {
   "cell_type": "markdown",
   "id": "ba2e52c9",
   "metadata": {},
   "source": [
    "# PEP8, flake8, black, mypy"
   ]
  },
  {
   "cell_type": "code",
   "execution_count": 118,
   "id": "7df82baa",
   "metadata": {},
   "outputs": [],
   "source": [
    "\n",
    "_ = 1"
   ]
  },
  {
   "cell_type": "code",
   "execution_count": 119,
   "id": "48a48891",
   "metadata": {},
   "outputs": [
    {
     "data": {
      "text/plain": [
       "1"
      ]
     },
     "execution_count": 119,
     "metadata": {},
     "output_type": "execute_result"
    }
   ],
   "source": [
    "_"
   ]
  },
  {
   "cell_type": "code",
   "execution_count": null,
   "id": "f51dbcda",
   "metadata": {},
   "outputs": [],
   "source": []
  }
 ],
 "metadata": {
  "kernelspec": {
   "display_name": "Python 3 (ipykernel)",
   "language": "python",
   "name": "python3"
  },
  "language_info": {
   "codemirror_mode": {
    "name": "ipython",
    "version": 3
   },
   "file_extension": ".py",
   "mimetype": "text/x-python",
   "name": "python",
   "nbconvert_exporter": "python",
   "pygments_lexer": "ipython3",
   "version": "3.10.4"
  },
  "toc": {
   "base_numbering": 1,
   "nav_menu": {},
   "number_sections": true,
   "sideBar": true,
   "skip_h1_title": false,
   "title_cell": "Table of Contents",
   "title_sidebar": "Contents",
   "toc_cell": false,
   "toc_position": {},
   "toc_section_display": true,
   "toc_window_display": false
  }
 },
 "nbformat": 4,
 "nbformat_minor": 5
}
