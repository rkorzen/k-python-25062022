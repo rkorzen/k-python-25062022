{
 "cells": [
  {
   "cell_type": "markdown",
   "id": "250808a3",
   "metadata": {},
   "source": [
    "# przypomnienia CD...\n",
    "\n",
    "## wbudowane typy\n",
    "\n",
    "### bytes"
   ]
  },
  {
   "cell_type": "code",
   "execution_count": null,
   "id": "3f89b3e5",
   "metadata": {},
   "outputs": [],
   "source": [
    "0b1000001"
   ]
  },
  {
   "cell_type": "code",
   "execution_count": null,
   "id": "416cf348",
   "metadata": {},
   "outputs": [],
   "source": [
    "ord(\"A\")"
   ]
  },
  {
   "cell_type": "code",
   "execution_count": null,
   "id": "6229511c",
   "metadata": {},
   "outputs": [],
   "source": [
    "ord?"
   ]
  },
  {
   "cell_type": "code",
   "execution_count": null,
   "id": "90663636",
   "metadata": {},
   "outputs": [],
   "source": [
    "\"ala\".encode()"
   ]
  },
  {
   "cell_type": "code",
   "execution_count": null,
   "id": "6427a296",
   "metadata": {},
   "outputs": [],
   "source": [
    "\"ała\".encode()"
   ]
  },
  {
   "cell_type": "code",
   "execution_count": null,
   "id": "1c4cceaf",
   "metadata": {},
   "outputs": [],
   "source": [
    "0xc5"
   ]
  },
  {
   "cell_type": "code",
   "execution_count": null,
   "id": "6dd05684",
   "metadata": {},
   "outputs": [],
   "source": [
    "chr(197)"
   ]
  },
  {
   "cell_type": "code",
   "execution_count": null,
   "id": "a0e71b6d",
   "metadata": {},
   "outputs": [],
   "source": [
    "0x82"
   ]
  },
  {
   "cell_type": "code",
   "execution_count": null,
   "id": "69fba20b",
   "metadata": {},
   "outputs": [],
   "source": [
    "chr(130)"
   ]
  },
  {
   "cell_type": "code",
   "execution_count": null,
   "id": "f1b75e16",
   "metadata": {},
   "outputs": [],
   "source": [
    "b'a\\xc5\\x82a'.decode(encoding='utf8')"
   ]
  },
  {
   "cell_type": "code",
   "execution_count": null,
   "id": "d5cb7848",
   "metadata": {},
   "outputs": [],
   "source": [
    "b'za\\xbf\\xf3\\xb3\\xe6 g\\xea\\xb6l\\xb1 ja\\xbc\\xf1'.decode(\"iso-8859-2\")"
   ]
  },
  {
   "cell_type": "code",
   "execution_count": null,
   "id": "876421d2",
   "metadata": {},
   "outputs": [],
   "source": [
    "x = b'za\\xbf\\xf3\\xb3\\xe6 g\\xea\\xb6l\\xb1 ja\\xbc\\xf1'\n"
   ]
  },
  {
   "cell_type": "code",
   "execution_count": null,
   "id": "c8f2d8d4",
   "metadata": {},
   "outputs": [],
   "source": [
    "x[1] = 122"
   ]
  },
  {
   "cell_type": "code",
   "execution_count": null,
   "id": "df8aeda1",
   "metadata": {},
   "outputs": [],
   "source": [
    "chr(122)"
   ]
  },
  {
   "cell_type": "markdown",
   "id": "6c4c1854",
   "metadata": {},
   "source": [
    "## wbudowane kolekcje"
   ]
  },
  {
   "cell_type": "markdown",
   "id": "d86cb20e",
   "metadata": {},
   "source": [
    "### krotka (tuple)\n",
    "\n",
    "niemutowalna"
   ]
  },
  {
   "cell_type": "code",
   "execution_count": null,
   "id": "f602da05",
   "metadata": {},
   "outputs": [],
   "source": [
    "tuple(\"123\") + (3, 4 ,5 ) + ([1, 2, 3], {1:2})"
   ]
  },
  {
   "cell_type": "markdown",
   "id": "c7349e0b",
   "metadata": {},
   "source": [
    "### list\n",
    "\n"
   ]
  },
  {
   "cell_type": "code",
   "execution_count": null,
   "id": "eb10c4b3",
   "metadata": {},
   "outputs": [],
   "source": [
    "x = list() + [1,2 ,3 ] + [\"a\"]\n",
    "x"
   ]
  },
  {
   "cell_type": "code",
   "execution_count": null,
   "id": "57126cfd",
   "metadata": {},
   "outputs": [],
   "source": [
    "x[0] = 10\n",
    "x"
   ]
  },
  {
   "cell_type": "markdown",
   "id": "509d3697",
   "metadata": {},
   "source": [
    "### słownik (dict)"
   ]
  },
  {
   "cell_type": "code",
   "execution_count": null,
   "id": "fd383a0e",
   "metadata": {},
   "outputs": [],
   "source": [
    "dict(), {}"
   ]
  },
  {
   "cell_type": "code",
   "execution_count": null,
   "id": "b9d62a98",
   "metadata": {},
   "outputs": [],
   "source": [
    "d = dict()\n",
    "d[1] = 'a'\n",
    "d[False] = \"fałsz\"\n",
    "d"
   ]
  },
  {
   "cell_type": "code",
   "execution_count": null,
   "id": "14aa2d3c",
   "metadata": {},
   "outputs": [],
   "source": [
    "d[[1, 2]] = 2"
   ]
  },
  {
   "cell_type": "markdown",
   "id": "67edc1b7",
   "metadata": {},
   "source": [
    "### zbiór (set)\n",
    "\n",
    "zestaw unikalnych hashowalnych elementów- mutowalny"
   ]
  },
  {
   "cell_type": "code",
   "execution_count": null,
   "id": "5d9e52d8",
   "metadata": {},
   "outputs": [],
   "source": [
    "{1, 2, 3}"
   ]
  },
  {
   "cell_type": "code",
   "execution_count": null,
   "id": "45d606d3",
   "metadata": {},
   "outputs": [],
   "source": [
    "{1, 2, 3, {3, 4}}"
   ]
  },
  {
   "cell_type": "markdown",
   "id": "56b9d9b2",
   "metadata": {},
   "source": [
    "### frozenset"
   ]
  },
  {
   "cell_type": "code",
   "execution_count": null,
   "id": "f65aa465",
   "metadata": {},
   "outputs": [],
   "source": [
    "x = frozenset([1, 2, 3])"
   ]
  },
  {
   "cell_type": "code",
   "execution_count": null,
   "id": "d1e9d80e",
   "metadata": {},
   "outputs": [],
   "source": [
    "x"
   ]
  },
  {
   "cell_type": "code",
   "execution_count": null,
   "id": "7cc9e25e",
   "metadata": {},
   "outputs": [],
   "source": [
    "hash(x)"
   ]
  },
  {
   "cell_type": "code",
   "execution_count": null,
   "id": "5cdca841",
   "metadata": {},
   "outputs": [],
   "source": [
    "{x}"
   ]
  },
  {
   "cell_type": "code",
   "execution_count": null,
   "id": "f1a893b8",
   "metadata": {},
   "outputs": [],
   "source": [
    "y = {2,3 ,4}"
   ]
  },
  {
   "cell_type": "code",
   "execution_count": null,
   "id": "a229d94e",
   "metadata": {},
   "outputs": [],
   "source": [
    "x, y"
   ]
  },
  {
   "cell_type": "code",
   "execution_count": null,
   "id": "023038e3",
   "metadata": {},
   "outputs": [],
   "source": [
    "x | y"
   ]
  },
  {
   "cell_type": "code",
   "execution_count": null,
   "id": "2a340609",
   "metadata": {},
   "outputs": [],
   "source": [
    "x - y"
   ]
  },
  {
   "cell_type": "code",
   "execution_count": null,
   "id": "2ec23878",
   "metadata": {},
   "outputs": [],
   "source": [
    "x & y"
   ]
  },
  {
   "cell_type": "code",
   "execution_count": null,
   "id": "6530e85c",
   "metadata": {},
   "outputs": [],
   "source": [
    "x ^ y"
   ]
  },
  {
   "cell_type": "code",
   "execution_count": null,
   "id": "8b3d8f3c",
   "metadata": {},
   "outputs": [],
   "source": [
    "hash([1, 2])"
   ]
  },
  {
   "cell_type": "code",
   "execution_count": null,
   "id": "654e0522",
   "metadata": {},
   "outputs": [],
   "source": [
    "hash((1, 2))"
   ]
  },
  {
   "cell_type": "code",
   "execution_count": null,
   "id": "915a6c5b",
   "metadata": {},
   "outputs": [],
   "source": [
    "x = (1, 2)"
   ]
  },
  {
   "cell_type": "code",
   "execution_count": null,
   "id": "e180b539",
   "metadata": {},
   "outputs": [],
   "source": [
    "y = (1, 2)"
   ]
  },
  {
   "cell_type": "code",
   "execution_count": null,
   "id": "0af2d924",
   "metadata": {},
   "outputs": [],
   "source": [
    "z = (2, 1)"
   ]
  },
  {
   "cell_type": "code",
   "execution_count": null,
   "id": "84727746",
   "metadata": {},
   "outputs": [],
   "source": [
    "x == y"
   ]
  },
  {
   "cell_type": "code",
   "execution_count": null,
   "id": "e951b0d1",
   "metadata": {},
   "outputs": [],
   "source": [
    "x == z"
   ]
  },
  {
   "cell_type": "code",
   "execution_count": null,
   "id": "719da53c",
   "metadata": {},
   "outputs": [],
   "source": [
    "x is y"
   ]
  },
  {
   "cell_type": "code",
   "execution_count": null,
   "id": "8c57da3e",
   "metadata": {},
   "outputs": [],
   "source": [
    "hash(x) == hash(y)"
   ]
  },
  {
   "cell_type": "markdown",
   "id": "6e094d40",
   "metadata": {},
   "source": [
    "## Adnotacje (annotations)"
   ]
  },
  {
   "cell_type": "code",
   "execution_count": null,
   "id": "b15bd3b3",
   "metadata": {},
   "outputs": [],
   "source": [
    "a: str = \"cos\""
   ]
  },
  {
   "cell_type": "code",
   "execution_count": null,
   "id": "6323b934",
   "metadata": {},
   "outputs": [],
   "source": [
    "__annotations__"
   ]
  },
  {
   "cell_type": "code",
   "execution_count": null,
   "id": "bfa298d4",
   "metadata": {},
   "outputs": [],
   "source": [
    "def suma(a: int, b: int) -> int:\n",
    "    return a + b"
   ]
  },
  {
   "cell_type": "code",
   "execution_count": null,
   "id": "18b55e46",
   "metadata": {},
   "outputs": [],
   "source": [
    "__annotations__"
   ]
  },
  {
   "cell_type": "code",
   "execution_count": null,
   "id": "e22ffdd8",
   "metadata": {},
   "outputs": [],
   "source": [
    "suma.__annotations__"
   ]
  },
  {
   "cell_type": "code",
   "execution_count": null,
   "id": "2c509ca9",
   "metadata": {},
   "outputs": [],
   "source": [
    "def suma(a: int, b: int) -> int:\n",
    "    return a + b"
   ]
  },
  {
   "cell_type": "code",
   "execution_count": null,
   "id": "1a042ed3",
   "metadata": {},
   "outputs": [],
   "source": [
    "suma.__annotations__"
   ]
  },
  {
   "cell_type": "code",
   "execution_count": null,
   "id": "e53f66c1",
   "metadata": {},
   "outputs": [],
   "source": [
    "def suma(a: \"jaakis opis\", b: int) -> int:\n",
    "    return a + b"
   ]
  },
  {
   "cell_type": "code",
   "execution_count": null,
   "id": "f20d4d63",
   "metadata": {},
   "outputs": [],
   "source": [
    "suma.__annotations__['a']"
   ]
  },
  {
   "cell_type": "code",
   "execution_count": null,
   "id": "6f42f9b0",
   "metadata": {},
   "outputs": [],
   "source": [
    "from typing import Optional, List, Dict\n",
    "\n",
    "def foo(a: int, b: str, c: Optional[List[str]] = None) -> Dict[int, str]:\n",
    "    pass\n"
   ]
  },
  {
   "cell_type": "code",
   "execution_count": null,
   "id": "119582bd",
   "metadata": {},
   "outputs": [],
   "source": [
    "foo.__annotations__"
   ]
  },
  {
   "cell_type": "markdown",
   "id": "fcacb53d",
   "metadata": {},
   "source": [
    "## Różne operatory stosowane w Pythonie\n",
    "\n",
    "* Operatory mogą być dwuargumentowe - gdy z lewej i prawej strony operatora znajdują się obiekty\n",
    "* Operatory mogą być jednoargumentowe - operator poprzedza obiekt\n",
    "\n",
    "* operatory arytmetyczne\n",
    "\n",
    "| operator | nazwa               | przykład | wynik |\n",
    "| -------- | ------------------- | -------- | ----- |\n",
    "| +        | dodawanie           |          |\n",
    "| -        | odejmowanie         |          |\n",
    "| /        | dzielenie           |          |\n",
    "| //       | dzielenie całkowite |          |\n",
    "| *        | mnożenie            |          |\n",
    "| **       | potęgowanie         |          |\n",
    "| %        | dzielenie modulo    |          |\n",
    "| @        | mnożenie macierzy   |          |\n",
    "\n",
    "\n",
    "\n",
    "* operatory algebry zbiorów\n",
    "\n",
    "Działają na obiektach typu `set`\n",
    "\n",
    "| operator | przykład             | wynik     |\n",
    "| -------- | -------------------- | --------- |\n",
    "| &        | {1, 2} & {2, 3}      | {2}       |\n",
    "| &#124;   | {1, 2} &#124; {2, 3} | {1, 2, 3} |\n",
    "| ^        | {1, 2} ^ {2, 3}      | {1, 3}    |\n",
    "| -        | {1, 2} - {2, 3}      | {1}       |\n",
    "\n",
    "\n",
    "* operatory przypisania: \n",
    "\n",
    "| operator | przykład    | równoważność   |\n",
    "| :------: | ----------- | -------------- |\n",
    "| =        | x = 5       | x = 5          |\n",
    "| +=       | x += 3      | x = x + 3      |\n",
    "| -=       | x -= 3      | x = x - 3      |\n",
    "| *=       | x *= 3      | x = x * 3      |\n",
    "| /=       | x /= 3      | x = x / 3      |\n",
    "| %=       | x %= 3      | x = x % 3      |\n",
    "| //=      | x //= 3     | x = x // 3     |\n",
    "| **=      | x **= 3     | x = x ** 3     |\n",
    "| &=       | x &= 3      | x = x & 3      |\n",
    "| &#124;=  | x &#124;= 3 | x = x &#124; 3 |\n",
    "| ^=       | x ^= 3      | x = x ^ 3      |\n",
    "| >>=      | x >>= 3     | x = x >> 3     |\n",
    "| <<=      | x <<= 3     | x = x << 3     |\n",
    "\n",
    "\n",
    "\n",
    "\n",
    "* operatory porównania: \n",
    "\n",
    "| operator | nazwa                    | przykład            |\n",
    "| :------: | ------------------------ | ------------------- |\n",
    "| ==       | Equal                    | x == y              |\n",
    "| !=       | Not equal                | x != y              |\n",
    "| >        | Greater than             | x > y               |\n",
    "| <        | Less than                | x < y               |\n",
    "| >=       | Greater than or equal to | x >= y              |\n",
    "| <=       | Less than or equal to    | x <= y              |\n",
    "| :=       | Walrus operator          | if x := 2 < 3: pass |"
   ]
  },
  {
   "cell_type": "code",
   "execution_count": null,
   "id": "b2e1db62",
   "metadata": {},
   "outputs": [],
   "source": [
    "if x := 2 < 3: print(\"cos\")\n",
    "x"
   ]
  },
  {
   "cell_type": "code",
   "execution_count": null,
   "id": "7a0bb0a7",
   "metadata": {},
   "outputs": [],
   "source": [
    "x = 2 < 3\n",
    "\n",
    "if x:\n",
    "    print(\"cos\")"
   ]
  },
  {
   "cell_type": "markdown",
   "id": "88c9e306",
   "metadata": {},
   "source": [
    "* operatory logiczne\n",
    "\n",
    "| operator | nazwa                                         | przykład              |\n",
    "| :------: | --------------------------------------------- | --------------------- |\n",
    "| and      | Returns True if both statements are true      | x < 5 and  x < 10     |\n",
    "| or       | Returns True if one of the statements is true | x < 5 or x < 4        |\n",
    "| not      | Reverse the result                            | not(x < 5 and x < 10) |\n",
    "\n",
    "* operatory identyczności, tożsamości\n",
    "\n",
    "| operator | nazwa                                                  | przykład   |\n",
    "| :------: | ------------------------------------------------------ | ---------- |\n",
    "| is       | Returns True if both variables are the same object     | x is y     |\n",
    "| is not   | Returns True if both variables are not the same object | x is not y |\n",
    "\n",
    "\n",
    "* operatory zawierania\n",
    "\n",
    "| operator | nazwa                                                                            | przykład   |\n",
    "| :------: | -------------------------------------------------------------------------------- | ---------- |\n",
    "| in       | Returns True if a sequence with the specified value is present in the object     | x in y     |\n",
    "| not in   | Returns True if a sequence with the specified value is not present in the object | x not in y |\n",
    "\n",
    "\n",
    "* operatory bitowe\n",
    "\n",
    "| operator | nazwa                | opis | przykład               | wynik      |\n",
    "| :------: | -------------------- | ---- | :--------------------: | ---------- |\n",
    "| &        | AND                  |      | bin(0b10  & 0b01)      | 0b0        |\n",
    "| &#124;   | OR                   |      | bin(0b10  &#124; 0b01) | 0b11       |\n",
    "| ^        | XOR                  |      | bin(0b10 ^ 0b01)       | 0b11       |\n",
    "|          |                      |      | bin(0b10 ^ 0b10)       | 0b0        |\n",
    "| ~        | NOT                  |      | ~0b1                   | -2         |\n",
    "|          |                      |      | bin(~0b1)              | -0b10      |\n",
    "| <<       | Zero fill left shift |      | bin(0b00111100 << 2)   | 0b11110000 |\n",
    "| >>       | Signed right shift   |      | bin(0b00111100 >> 2)   | 0b1111     |\n",
    "\n",
    "\n",
    "```"
   ]
  },
  {
   "cell_type": "code",
   "execution_count": null,
   "id": "d0fdd3c8",
   "metadata": {},
   "outputs": [],
   "source": [
    "0b01 & 0x10"
   ]
  },
  {
   "cell_type": "code",
   "execution_count": null,
   "id": "0e91e8f2",
   "metadata": {},
   "outputs": [],
   "source": [
    "'0b{:04b}'.format(0b1100 & 0b1010)"
   ]
  },
  {
   "cell_type": "code",
   "execution_count": null,
   "id": "9a9ca707",
   "metadata": {},
   "outputs": [],
   "source": [
    "'0b{:04b}'.format(0b1100 | 0b1010)"
   ]
  },
  {
   "cell_type": "code",
   "execution_count": null,
   "id": "767e0bcd",
   "metadata": {},
   "outputs": [],
   "source": [
    "'0b{:04b}'.format(0b1100 ^ 0b1010)"
   ]
  },
  {
   "cell_type": "code",
   "execution_count": null,
   "id": "b32ffc32",
   "metadata": {},
   "outputs": [],
   "source": [
    "2 << 2"
   ]
  },
  {
   "cell_type": "code",
   "execution_count": null,
   "id": "71c34115",
   "metadata": {},
   "outputs": [],
   "source": [
    "'0b{:04b}'.format(0b1100 >> 2)"
   ]
  },
  {
   "cell_type": "code",
   "execution_count": null,
   "id": "c3ac0a23",
   "metadata": {},
   "outputs": [],
   "source": [
    "'0b{:04b}'.format(0b0011 << 2)"
   ]
  },
  {
   "cell_type": "markdown",
   "id": "fd9ee91d",
   "metadata": {},
   "source": [
    "### Kolejność wykonywania operatorów\n",
    "\n",
    "|                    | Operator                         | Description                                      |\n",
    "| :----------------: | -------------------------------- | ------------------------------------------------ |\n",
    "| lowest precedence  | or                               | Boolean OR                                       |\n",
    "|                    | and                              | Boolean AND                                      |\n",
    "|                    | not                              | Boolean NOT                                      |\n",
    "|                    | ==, !=, <, <=, >, >=, is, is not | comparisons, identity                            |\n",
    "|                    | &#124;                           | bitwise OR                                       |\n",
    "|                    | ^                                | bitwise XOR                                      |\n",
    "|                    | &                                | bitwise AND                                      |\n",
    "|                    | <<, >>                           | bit shifts                                       |\n",
    "|                    | +, -                             | addition, subtraction                            |\n",
    "|                    | *, /, //, %                      | multiplication, division, floor division, modulo |\n",
    "|                    | +x, -x, ~x                       | unary positive, unary negation, bitwise negation |\n",
    "| highest precedence | **                               | exponentiation                                   |\n"
   ]
  },
  {
   "cell_type": "code",
   "execution_count": null,
   "id": "5117bccd",
   "metadata": {},
   "outputs": [],
   "source": [
    "3 * (-2) ** 2"
   ]
  },
  {
   "cell_type": "markdown",
   "id": "41b7dc85",
   "metadata": {},
   "source": [
    "## Dokumentacja\n",
    "\n"
   ]
  },
  {
   "cell_type": "code",
   "execution_count": null,
   "id": "af815839",
   "metadata": {},
   "outputs": [],
   "source": [
    "__doc__"
   ]
  },
  {
   "cell_type": "code",
   "execution_count": null,
   "id": "997987fc",
   "metadata": {},
   "outputs": [],
   "source": [
    "suma.__doc__"
   ]
  },
  {
   "cell_type": "code",
   "execution_count": null,
   "id": "a84c678c",
   "metadata": {},
   "outputs": [],
   "source": [
    "def suma(a: int, b: int) -> int:\n",
    "    \"\"\"Suma dwóch elementów\"\"\"\n",
    "    return a + b\n",
    "\n",
    "suma.__doc__"
   ]
  },
  {
   "cell_type": "code",
   "execution_count": null,
   "id": "d95c629a",
   "metadata": {},
   "outputs": [],
   "source": [
    "help(suma)"
   ]
  },
  {
   "cell_type": "markdown",
   "id": "d49108d9",
   "metadata": {},
   "source": [
    "## Moduły i paczki\n",
    "\n",
    "Moduły i paczki to sposób pythona na modularyzację projektów. Czyli podzielenia ich na powiązane ze sobą komponenty.\n",
    "\n",
    "Ułatwiają one tzw programowanie modularne. Zalety tego podejścia to między innymi:\n",
    "    \n",
    "* prostota (simplicity): zamiast skupiać się na całym problemie, moduł zazwyczaj skupia się na jednej stosunkowo niewielkiej części problemu. Jeśli pracujesz nad pojedynczym modułem, będziesz mieć mniejszą problematyczną domenę, na której możesz się oprzeć. Dzięki temu programowanie jest łatwiejsze i mniej podatne na błędy.\n",
    "\n",
    "* łatwość utrzymania (maintainability): moduły są zazwyczaj projektowane w taki sposób, aby wymuszały logiczne granice między różnymi domenami problemów. Jeśli moduły są napisane w sposób minimalizujący współzależności, zmniejsza się prawdopodobieństwo, że modyfikacje jednego modułu będą miały wpływ na inne części programu. (Możesz nawet dokonywać zmian w module bez znajomości aplikacji poza tym modułem). Dzięki temu zespół wielu programistów może pracować wspólnie nad dużą aplikacją.\n",
    "\n",
    "* ponowne wykorzystanie (reusability): Funkcjonalność zdefiniowana w jednym module może być łatwo ponownie wykorzystana (poprzez odpowiednio zdefiniowany interfejs) przez inne części aplikacji. Eliminuje to konieczność duplikowania kodu.\n",
    "\n",
    "* zakres (scoping): moduły zazwyczaj definiują oddzielną przestrzeń nazw, co pomaga uniknąć kolizji między identyfikatorami w różnych obszarach programu. (Jedną z zasad Zen Pythona jest to, że przestrzenie nazw to świetny pomysł — zróbmy ich więcej!)\n",
    "    \n",
    "    \n",
    "### Module\n",
    "\n",
    "- moduł może być napisany w Pythonie i najczęściej to po prostu pythonowy plik\n",
    "- moduł moze być napisany w C\n",
    "- moduły wbudowane - takie jak itertools np. są wewnętrznie zawarte w interpreterze"
   ]
  },
  {
   "cell_type": "code",
   "execution_count": null,
   "id": "22f619a4",
   "metadata": {},
   "outputs": [],
   "source": [
    "# %load modules_examples/mod.py\n",
    "s: str  = \"Yes we can\"\n",
    "a: list = [100, 200, 300]\n",
    "\n",
    "def foo(arg):\n",
    "    print(f\"arg: {arg}\")\n",
    "\n",
    "class Foo(): pass\n",
    "\n",
    "def print(*args, **kwargs):\n",
    "    __builtins__.get('print')(\"You are hacked\")\n",
    "\n",
    "# print(\"x\")\n",
    "\n",
    "#\n",
    "# print(dir(__builtins__))\n",
    "# print(__builtins__.get('print'))"
   ]
  },
  {
   "cell_type": "code",
   "execution_count": null,
   "id": "ef2dfa0e",
   "metadata": {},
   "outputs": [],
   "source": [
    "# %load modules_examples/import_example.py\n",
    "import mod\n",
    "\n",
    "mod.foo(\"1\")\n",
    "\n",
    "\n",
    "from mod import foo as f1\n",
    "from mod1 import foo as f2\n",
    "\n",
    "f1(\"10\")\n",
    "f2(\"10\")\n",
    "\n"
   ]
  },
  {
   "cell_type": "code",
   "execution_count": null,
   "id": "7e319c57",
   "metadata": {},
   "outputs": [],
   "source": [
    "# %load modules_examples/mod1.py\n",
    "def foo(arg):\n",
    "    print(\"Foo z mod1\")"
   ]
  },
  {
   "cell_type": "code",
   "execution_count": null,
   "id": "ca3ea340",
   "metadata": {},
   "outputs": [],
   "source": [
    "import palindrome"
   ]
  },
  {
   "cell_type": "code",
   "execution_count": null,
   "id": "2a144826",
   "metadata": {},
   "outputs": [],
   "source": [
    "palindrome.xxx(10)"
   ]
  },
  {
   "cell_type": "code",
   "execution_count": null,
   "id": "0af9df78",
   "metadata": {},
   "outputs": [],
   "source": [
    "import importlib\n",
    "importlib.reload(palindrome)\n"
   ]
  },
  {
   "cell_type": "code",
   "execution_count": null,
   "id": "f61ac472",
   "metadata": {},
   "outputs": [],
   "source": [
    "palindrome.xxx(10)"
   ]
  },
  {
   "cell_type": "code",
   "execution_count": null,
   "id": "3bb7b0bd",
   "metadata": {},
   "outputs": [],
   "source": [
    "import random\n",
    "\n",
    "dir(random)"
   ]
  },
  {
   "cell_type": "code",
   "execution_count": null,
   "id": "cbb8c6ca",
   "metadata": {},
   "outputs": [],
   "source": [
    "# import string\n",
    "\n",
    "string = __import__(\"string\")\n",
    "\n",
    "# import string as s\n",
    "\n",
    "s = __import__(\"string\")\n",
    "\n",
    "# method = calculate_method(args)\n",
    "# m = __import__(method)\n",
    "\n",
    "ascii_letter_lower = getattr(s, 'ascii_letters')\n",
    "ascii_letter_lower"
   ]
  },
  {
   "cell_type": "code",
   "execution_count": null,
   "id": "a976a594",
   "metadata": {},
   "outputs": [],
   "source": [
    "s.ascii_letters"
   ]
  },
  {
   "cell_type": "code",
   "execution_count": null,
   "id": "9f94c0bc",
   "metadata": {},
   "outputs": [],
   "source": [
    "__builtins__.print"
   ]
  },
  {
   "cell_type": "code",
   "execution_count": null,
   "id": "fe4c5756",
   "metadata": {},
   "outputs": [],
   "source": []
  },
  {
   "cell_type": "markdown",
   "id": "2a6f9588",
   "metadata": {},
   "source": [
    "Przerwa do 10:57"
   ]
  },
  {
   "cell_type": "markdown",
   "id": "3b8b95df",
   "metadata": {},
   "source": [
    "### Package\n",
    "\n",
    "Paczka to folder zawierajacy moduly:\n",
    "\n",
    "    pkg\n",
    "        mod1.py\n",
    "        mod2.py\n",
    "        "
   ]
  },
  {
   "cell_type": "code",
   "execution_count": null,
   "id": "42be4696",
   "metadata": {},
   "outputs": [],
   "source": [
    "!mkdir pkg"
   ]
  },
  {
   "cell_type": "code",
   "execution_count": null,
   "id": "584c83a8",
   "metadata": {},
   "outputs": [],
   "source": [
    "%%writefile pkg/mod1.py\n",
    "\n",
    "def foo2(): print('[mod1] foo()')\n",
    "    \n",
    "class Foo:\n",
    "    pass"
   ]
  },
  {
   "cell_type": "code",
   "execution_count": null,
   "id": "8017f2b3",
   "metadata": {},
   "outputs": [],
   "source": [
    "%%writefile pkg/mod2.py\n",
    "\n",
    "def foo2(): print('[mod2] foo()')\n",
    "    \n",
    "class Foo:\n",
    "    pass"
   ]
  },
  {
   "cell_type": "code",
   "execution_count": null,
   "id": "b6423dc6",
   "metadata": {},
   "outputs": [],
   "source": [
    "from pkg import mod1"
   ]
  },
  {
   "cell_type": "code",
   "execution_count": null,
   "id": "e704875a",
   "metadata": {},
   "outputs": [],
   "source": [
    "mod1.foo2()"
   ]
  },
  {
   "cell_type": "code",
   "execution_count": null,
   "id": "13d328a1",
   "metadata": {},
   "outputs": [],
   "source": [
    "!mkdir pkg2"
   ]
  },
  {
   "cell_type": "code",
   "execution_count": null,
   "id": "893054cc",
   "metadata": {},
   "outputs": [],
   "source": [
    "%%writefile pkg2/__init__.py\n",
    "\n",
    "print(\"Initiate pkg2\")\n",
    "import pkg2.mod1"
   ]
  },
  {
   "cell_type": "code",
   "execution_count": 2,
   "id": "0f63a4b6",
   "metadata": {},
   "outputs": [
    {
     "name": "stdout",
     "output_type": "stream",
     "text": [
      "Overwriting pkg2/mod1.py\n"
     ]
    }
   ],
   "source": [
    "%%writefile pkg2/mod1.py\n",
    "\n",
    "def foo2(): print('[pkg2][mod1] foo()')\n",
    "    \n",
    "class Foo:\n",
    "    pass"
   ]
  },
  {
   "cell_type": "code",
   "execution_count": 3,
   "id": "26b46fb3",
   "metadata": {},
   "outputs": [
    {
     "name": "stdout",
     "output_type": "stream",
     "text": [
      "Initiate pkg2\n"
     ]
    }
   ],
   "source": [
    "import pkg2"
   ]
  },
  {
   "cell_type": "code",
   "execution_count": null,
   "id": "e4648a1f",
   "metadata": {},
   "outputs": [],
   "source": [
    "import pkg"
   ]
  },
  {
   "cell_type": "code",
   "execution_count": null,
   "id": "9a2a912f",
   "metadata": {},
   "outputs": [],
   "source": [
    "pkg.mod1"
   ]
  },
  {
   "cell_type": "code",
   "execution_count": 4,
   "id": "2c863551",
   "metadata": {},
   "outputs": [
    {
     "data": {
      "text/plain": [
       "['__builtins__',\n",
       " '__cached__',\n",
       " '__doc__',\n",
       " '__file__',\n",
       " '__loader__',\n",
       " '__name__',\n",
       " '__package__',\n",
       " '__path__',\n",
       " '__spec__',\n",
       " 'mod1',\n",
       " 'pkg2']"
      ]
     },
     "execution_count": 4,
     "metadata": {},
     "output_type": "execute_result"
    }
   ],
   "source": [
    "dir(pkg2)"
   ]
  },
  {
   "cell_type": "code",
   "execution_count": 9,
   "id": "65606871",
   "metadata": {},
   "outputs": [
    {
     "data": {
      "text/plain": [
       "<module 'pkg2.mod1' from '/Users/rkorzen/PycharmProjects/szkolenia/k-python-25-06-2022/pkg2/mod1.py'>"
      ]
     },
     "execution_count": 9,
     "metadata": {},
     "output_type": "execute_result"
    }
   ],
   "source": [
    "pkg2.mod1"
   ]
  },
  {
   "cell_type": "markdown",
   "id": "f5b0eda0",
   "metadata": {},
   "source": [
    "https://realpython.com/python-modules-packages"
   ]
  },
  {
   "cell_type": "markdown",
   "id": "22513fdc",
   "metadata": {},
   "source": [
    "# Przestrzenie nazw w Python"
   ]
  },
  {
   "cell_type": "code",
   "execution_count": 10,
   "id": "e075b488",
   "metadata": {},
   "outputs": [
    {
     "name": "stdout",
     "output_type": "stream",
     "text": [
      "Writing namespaces_examples.py\n"
     ]
    }
   ],
   "source": [
    "%%writefile namespaces_examples.py\n",
    "\n",
    "a = 1\n",
    "\n",
    "\n",
    "def foo():\n",
    "    \n",
    "    print(a)"
   ]
  },
  {
   "cell_type": "markdown",
   "id": "9d61dddb",
   "metadata": {},
   "source": [
    "## pojęcia: globalna, lokalna, domykająca (nielokalna)\n",
    "\n",
    "## przydatne funkcje:\n",
    "\n"
   ]
  },
  {
   "cell_type": "code",
   "execution_count": 12,
   "id": "c07841ed",
   "metadata": {},
   "outputs": [
    {
     "data": {
      "text/plain": [
       "{'__name__': '__main__',\n",
       " '__doc__': 'Automatically created module for IPython interactive environment',\n",
       " '__package__': None,\n",
       " '__loader__': None,\n",
       " '__spec__': None,\n",
       " '__builtin__': <module 'builtins' (built-in)>,\n",
       " '__builtins__': <module 'builtins' (built-in)>,\n",
       " '_ih': ['',\n",
       "  'import pkg2',\n",
       "  'get_ipython().run_cell_magic(\\'writefile\\', \\'pkg2/mod1.py\\', \"\\\\ndef foo2(): print(\\'[pkg2][mod1] foo()\\')\\\\n    \\\\nclass Foo:\\\\n    pass\\\\n\")',\n",
       "  'import pkg2',\n",
       "  'dir(pkg2)',\n",
       "  'pkg2.mod1',\n",
       "  'pkg2.mod1',\n",
       "  'pkg2.mod1',\n",
       "  'pkg2.mod1',\n",
       "  'pkg2.mod1',\n",
       "  \"get_ipython().run_cell_magic('writefile', 'namespaces_examples.py', '\\\\na = 1\\\\n\\\\n\\\\ndef foo():\\\\n    \\\\n    print(a)\\\\n')\",\n",
       "  'locals()',\n",
       "  'locals()\\nglobals()'],\n",
       " '_oh': {4: ['__builtins__',\n",
       "   '__cached__',\n",
       "   '__doc__',\n",
       "   '__file__',\n",
       "   '__loader__',\n",
       "   '__name__',\n",
       "   '__package__',\n",
       "   '__path__',\n",
       "   '__spec__',\n",
       "   'mod1',\n",
       "   'pkg2'],\n",
       "  5: <module 'pkg2.mod1' from '/Users/rkorzen/PycharmProjects/szkolenia/k-python-25-06-2022/pkg2/mod1.py'>,\n",
       "  6: <module 'pkg2.mod1' from '/Users/rkorzen/PycharmProjects/szkolenia/k-python-25-06-2022/pkg2/mod1.py'>,\n",
       "  7: <module 'pkg2.mod1' from '/Users/rkorzen/PycharmProjects/szkolenia/k-python-25-06-2022/pkg2/mod1.py'>,\n",
       "  8: <module 'pkg2.mod1' from '/Users/rkorzen/PycharmProjects/szkolenia/k-python-25-06-2022/pkg2/mod1.py'>,\n",
       "  9: <module 'pkg2.mod1' from '/Users/rkorzen/PycharmProjects/szkolenia/k-python-25-06-2022/pkg2/mod1.py'>,\n",
       "  11: {...}},\n",
       " '_dh': [PosixPath('/Users/rkorzen/PycharmProjects/szkolenia/k-python-25-06-2022')],\n",
       " 'In': ['',\n",
       "  'import pkg2',\n",
       "  'get_ipython().run_cell_magic(\\'writefile\\', \\'pkg2/mod1.py\\', \"\\\\ndef foo2(): print(\\'[pkg2][mod1] foo()\\')\\\\n    \\\\nclass Foo:\\\\n    pass\\\\n\")',\n",
       "  'import pkg2',\n",
       "  'dir(pkg2)',\n",
       "  'pkg2.mod1',\n",
       "  'pkg2.mod1',\n",
       "  'pkg2.mod1',\n",
       "  'pkg2.mod1',\n",
       "  'pkg2.mod1',\n",
       "  \"get_ipython().run_cell_magic('writefile', 'namespaces_examples.py', '\\\\na = 1\\\\n\\\\n\\\\ndef foo():\\\\n    \\\\n    print(a)\\\\n')\",\n",
       "  'locals()',\n",
       "  'locals()\\nglobals()'],\n",
       " 'Out': {4: ['__builtins__',\n",
       "   '__cached__',\n",
       "   '__doc__',\n",
       "   '__file__',\n",
       "   '__loader__',\n",
       "   '__name__',\n",
       "   '__package__',\n",
       "   '__path__',\n",
       "   '__spec__',\n",
       "   'mod1',\n",
       "   'pkg2'],\n",
       "  5: <module 'pkg2.mod1' from '/Users/rkorzen/PycharmProjects/szkolenia/k-python-25-06-2022/pkg2/mod1.py'>,\n",
       "  6: <module 'pkg2.mod1' from '/Users/rkorzen/PycharmProjects/szkolenia/k-python-25-06-2022/pkg2/mod1.py'>,\n",
       "  7: <module 'pkg2.mod1' from '/Users/rkorzen/PycharmProjects/szkolenia/k-python-25-06-2022/pkg2/mod1.py'>,\n",
       "  8: <module 'pkg2.mod1' from '/Users/rkorzen/PycharmProjects/szkolenia/k-python-25-06-2022/pkg2/mod1.py'>,\n",
       "  9: <module 'pkg2.mod1' from '/Users/rkorzen/PycharmProjects/szkolenia/k-python-25-06-2022/pkg2/mod1.py'>,\n",
       "  11: {...}},\n",
       " 'get_ipython': <bound method InteractiveShell.get_ipython of <ipykernel.zmqshell.ZMQInteractiveShell object at 0x1054964a0>>,\n",
       " 'exit': <IPython.core.autocall.ZMQExitAutocall at 0x1059342e0>,\n",
       " 'quit': <IPython.core.autocall.ZMQExitAutocall at 0x1059342e0>,\n",
       " '_': {...},\n",
       " '__': <module 'pkg2.mod1' from '/Users/rkorzen/PycharmProjects/szkolenia/k-python-25-06-2022/pkg2/mod1.py'>,\n",
       " '___': <module 'pkg2.mod1' from '/Users/rkorzen/PycharmProjects/szkolenia/k-python-25-06-2022/pkg2/mod1.py'>,\n",
       " 'json': <module 'json' from '/usr/local/Cellar/python@3.10/3.10.4/Frameworks/Python.framework/Versions/3.10/lib/python3.10/json/__init__.py'>,\n",
       " 'yapf_reformat': <function __main__.yapf_reformat(cell_text)>,\n",
       " 'autopep8': <module 'autopep8' from '/usr/local/lib/python3.10/site-packages/autopep8.py'>,\n",
       " '_i': 'locals()',\n",
       " '_ii': '%%writefile namespaces_examples.py\\n\\na = 1\\n\\n\\ndef foo():\\n    \\n    print(a)',\n",
       " '_iii': 'pkg2.mod1',\n",
       " '_i1': 'import pkg2',\n",
       " '_i2': \"%%writefile pkg2/mod1.py\\n\\ndef foo2(): print('[pkg2][mod1] foo()')\\n    \\nclass Foo:\\n    pass\",\n",
       " '_i3': 'import pkg2',\n",
       " 'pkg2': <module 'pkg2' from '/Users/rkorzen/PycharmProjects/szkolenia/k-python-25-06-2022/pkg2/__init__.py'>,\n",
       " '_i4': 'dir(pkg2)',\n",
       " '_4': ['__builtins__',\n",
       "  '__cached__',\n",
       "  '__doc__',\n",
       "  '__file__',\n",
       "  '__loader__',\n",
       "  '__name__',\n",
       "  '__package__',\n",
       "  '__path__',\n",
       "  '__spec__',\n",
       "  'mod1',\n",
       "  'pkg2'],\n",
       " '_i5': 'pkg2.mod1',\n",
       " '_5': <module 'pkg2.mod1' from '/Users/rkorzen/PycharmProjects/szkolenia/k-python-25-06-2022/pkg2/mod1.py'>,\n",
       " '_i6': 'pkg2.mod1',\n",
       " '_6': <module 'pkg2.mod1' from '/Users/rkorzen/PycharmProjects/szkolenia/k-python-25-06-2022/pkg2/mod1.py'>,\n",
       " '_i7': 'pkg2.mod1',\n",
       " '_7': <module 'pkg2.mod1' from '/Users/rkorzen/PycharmProjects/szkolenia/k-python-25-06-2022/pkg2/mod1.py'>,\n",
       " '_i8': 'pkg2.mod1',\n",
       " '_8': <module 'pkg2.mod1' from '/Users/rkorzen/PycharmProjects/szkolenia/k-python-25-06-2022/pkg2/mod1.py'>,\n",
       " '_i9': 'pkg2.mod1',\n",
       " '_9': <module 'pkg2.mod1' from '/Users/rkorzen/PycharmProjects/szkolenia/k-python-25-06-2022/pkg2/mod1.py'>,\n",
       " '_i10': '%%writefile namespaces_examples.py\\n\\na = 1\\n\\n\\ndef foo():\\n    \\n    print(a)',\n",
       " '_i11': 'locals()',\n",
       " '_11': {...},\n",
       " '_i12': 'locals()\\nglobals()'}"
      ]
     },
     "execution_count": 12,
     "metadata": {},
     "output_type": "execute_result"
    }
   ],
   "source": [
    "locals()\n",
    "globals()"
   ]
  },
  {
   "cell_type": "markdown",
   "id": "dbc36c54",
   "metadata": {},
   "source": [
    "## przestrzen wbudowana `__builtins__`"
   ]
  },
  {
   "cell_type": "code",
   "execution_count": 13,
   "id": "2bbb24ec",
   "metadata": {},
   "outputs": [
    {
     "data": {
      "text/plain": [
       "['ArithmeticError',\n",
       " 'AssertionError',\n",
       " 'AttributeError',\n",
       " 'BaseException',\n",
       " 'BlockingIOError',\n",
       " 'BrokenPipeError',\n",
       " 'BufferError',\n",
       " 'BytesWarning',\n",
       " 'ChildProcessError',\n",
       " 'ConnectionAbortedError',\n",
       " 'ConnectionError',\n",
       " 'ConnectionRefusedError',\n",
       " 'ConnectionResetError',\n",
       " 'DeprecationWarning',\n",
       " 'EOFError',\n",
       " 'Ellipsis',\n",
       " 'EncodingWarning',\n",
       " 'EnvironmentError',\n",
       " 'Exception',\n",
       " 'False',\n",
       " 'FileExistsError',\n",
       " 'FileNotFoundError',\n",
       " 'FloatingPointError',\n",
       " 'FutureWarning',\n",
       " 'GeneratorExit',\n",
       " 'IOError',\n",
       " 'ImportError',\n",
       " 'ImportWarning',\n",
       " 'IndentationError',\n",
       " 'IndexError',\n",
       " 'InterruptedError',\n",
       " 'IsADirectoryError',\n",
       " 'KeyError',\n",
       " 'KeyboardInterrupt',\n",
       " 'LookupError',\n",
       " 'MemoryError',\n",
       " 'ModuleNotFoundError',\n",
       " 'NameError',\n",
       " 'None',\n",
       " 'NotADirectoryError',\n",
       " 'NotImplemented',\n",
       " 'NotImplementedError',\n",
       " 'OSError',\n",
       " 'OverflowError',\n",
       " 'PendingDeprecationWarning',\n",
       " 'PermissionError',\n",
       " 'ProcessLookupError',\n",
       " 'RecursionError',\n",
       " 'ReferenceError',\n",
       " 'ResourceWarning',\n",
       " 'RuntimeError',\n",
       " 'RuntimeWarning',\n",
       " 'StopAsyncIteration',\n",
       " 'StopIteration',\n",
       " 'SyntaxError',\n",
       " 'SyntaxWarning',\n",
       " 'SystemError',\n",
       " 'SystemExit',\n",
       " 'TabError',\n",
       " 'TimeoutError',\n",
       " 'True',\n",
       " 'TypeError',\n",
       " 'UnboundLocalError',\n",
       " 'UnicodeDecodeError',\n",
       " 'UnicodeEncodeError',\n",
       " 'UnicodeError',\n",
       " 'UnicodeTranslateError',\n",
       " 'UnicodeWarning',\n",
       " 'UserWarning',\n",
       " 'ValueError',\n",
       " 'Warning',\n",
       " 'ZeroDivisionError',\n",
       " '__IPYTHON__',\n",
       " '__build_class__',\n",
       " '__debug__',\n",
       " '__doc__',\n",
       " '__import__',\n",
       " '__loader__',\n",
       " '__name__',\n",
       " '__package__',\n",
       " '__spec__',\n",
       " 'abs',\n",
       " 'aiter',\n",
       " 'all',\n",
       " 'anext',\n",
       " 'any',\n",
       " 'ascii',\n",
       " 'bin',\n",
       " 'bool',\n",
       " 'breakpoint',\n",
       " 'bytearray',\n",
       " 'bytes',\n",
       " 'callable',\n",
       " 'chr',\n",
       " 'classmethod',\n",
       " 'compile',\n",
       " 'complex',\n",
       " 'copyright',\n",
       " 'credits',\n",
       " 'delattr',\n",
       " 'dict',\n",
       " 'dir',\n",
       " 'display',\n",
       " 'divmod',\n",
       " 'enumerate',\n",
       " 'eval',\n",
       " 'exec',\n",
       " 'execfile',\n",
       " 'filter',\n",
       " 'float',\n",
       " 'format',\n",
       " 'frozenset',\n",
       " 'get_ipython',\n",
       " 'getattr',\n",
       " 'globals',\n",
       " 'hasattr',\n",
       " 'hash',\n",
       " 'help',\n",
       " 'hex',\n",
       " 'id',\n",
       " 'input',\n",
       " 'int',\n",
       " 'isinstance',\n",
       " 'issubclass',\n",
       " 'iter',\n",
       " 'len',\n",
       " 'license',\n",
       " 'list',\n",
       " 'locals',\n",
       " 'map',\n",
       " 'max',\n",
       " 'memoryview',\n",
       " 'min',\n",
       " 'next',\n",
       " 'object',\n",
       " 'oct',\n",
       " 'open',\n",
       " 'ord',\n",
       " 'pow',\n",
       " 'print',\n",
       " 'property',\n",
       " 'range',\n",
       " 'repr',\n",
       " 'reversed',\n",
       " 'round',\n",
       " 'runfile',\n",
       " 'set',\n",
       " 'setattr',\n",
       " 'slice',\n",
       " 'sorted',\n",
       " 'staticmethod',\n",
       " 'str',\n",
       " 'sum',\n",
       " 'super',\n",
       " 'tuple',\n",
       " 'type',\n",
       " 'vars',\n",
       " 'zip']"
      ]
     },
     "execution_count": 13,
     "metadata": {},
     "output_type": "execute_result"
    }
   ],
   "source": [
    "dir(__builtins__)"
   ]
  },
  {
   "cell_type": "code",
   "execution_count": null,
   "id": "2d388b15",
   "metadata": {},
   "outputs": [],
   "source": [
    "# import builtins\n",
    "# x = builtins.print"
   ]
  },
  {
   "cell_type": "markdown",
   "id": "6c0debf0",
   "metadata": {},
   "source": [
    "### wyjatki:\n",
    "\n",
    "ponad 60 wyjatkow"
   ]
  },
  {
   "cell_type": "markdown",
   "id": "1e8d3f62",
   "metadata": {},
   "source": [
    "### Funky globals\n",
    "\n",
    "`__name__` `__debug__`"
   ]
  },
  {
   "cell_type": "code",
   "execution_count": 16,
   "id": "8ed3c7f3",
   "metadata": {},
   "outputs": [
    {
     "name": "stdout",
     "output_type": "stream",
     "text": [
      "None\n"
     ]
    }
   ],
   "source": [
    "print(__spec__)"
   ]
  },
  {
   "cell_type": "code",
   "execution_count": 17,
   "id": "c852546a",
   "metadata": {},
   "outputs": [
    {
     "data": {
      "text/plain": [
       "True"
      ]
     },
     "execution_count": 17,
     "metadata": {},
     "output_type": "execute_result"
    }
   ],
   "source": [
    "__debug__"
   ]
  },
  {
   "cell_type": "markdown",
   "id": "46df1e45",
   "metadata": {},
   "source": [
    "### Constans - stałe\n",
    "\n",
    "`False, True, None, Ellipsis, ..., NotImplemented`"
   ]
  },
  {
   "cell_type": "markdown",
   "id": "58fefe18",
   "metadata": {},
   "source": [
    "### Funkcje\n",
    "\n",
    "#### compile, exec, eval"
   ]
  },
  {
   "cell_type": "code",
   "execution_count": 19,
   "id": "131310ea",
   "metadata": {},
   "outputs": [
    {
     "name": "stdout",
     "output_type": "stream",
     "text": [
      "[11, 2, 3]\n"
     ]
    }
   ],
   "source": [
    "code = '''\n",
    "x = [11, 2, 3]\n",
    "print(x)\n",
    "'''\n",
    "\n",
    "exec(code)"
   ]
  },
  {
   "cell_type": "code",
   "execution_count": 20,
   "id": "e845904d",
   "metadata": {},
   "outputs": [
    {
     "data": {
      "text/plain": [
       "2"
      ]
     },
     "execution_count": 20,
     "metadata": {},
     "output_type": "execute_result"
    }
   ],
   "source": [
    "eval(\"1+1\")"
   ]
  },
  {
   "cell_type": "code",
   "execution_count": 25,
   "id": "a3ad27e2",
   "metadata": {},
   "outputs": [],
   "source": [
    "x = compile(code, \"f.txt\", mode='exec')"
   ]
  },
  {
   "cell_type": "code",
   "execution_count": 28,
   "id": "e909500b",
   "metadata": {},
   "outputs": [
    {
     "data": {
      "text/plain": [
       "['__class__',\n",
       " '__delattr__',\n",
       " '__dir__',\n",
       " '__doc__',\n",
       " '__eq__',\n",
       " '__format__',\n",
       " '__ge__',\n",
       " '__getattribute__',\n",
       " '__gt__',\n",
       " '__hash__',\n",
       " '__init__',\n",
       " '__init_subclass__',\n",
       " '__le__',\n",
       " '__lt__',\n",
       " '__ne__',\n",
       " '__new__',\n",
       " '__reduce__',\n",
       " '__reduce_ex__',\n",
       " '__repr__',\n",
       " '__setattr__',\n",
       " '__sizeof__',\n",
       " '__str__',\n",
       " '__subclasshook__',\n",
       " 'co_argcount',\n",
       " 'co_cellvars',\n",
       " 'co_code',\n",
       " 'co_consts',\n",
       " 'co_filename',\n",
       " 'co_firstlineno',\n",
       " 'co_flags',\n",
       " 'co_freevars',\n",
       " 'co_kwonlyargcount',\n",
       " 'co_lines',\n",
       " 'co_linetable',\n",
       " 'co_lnotab',\n",
       " 'co_name',\n",
       " 'co_names',\n",
       " 'co_nlocals',\n",
       " 'co_posonlyargcount',\n",
       " 'co_stacksize',\n",
       " 'co_varnames',\n",
       " 'replace']"
      ]
     },
     "execution_count": 28,
     "metadata": {},
     "output_type": "execute_result"
    }
   ],
   "source": [
    "dir(x)"
   ]
  },
  {
   "cell_type": "markdown",
   "id": "9385a12c",
   "metadata": {},
   "source": [
    "#### print, input"
   ]
  },
  {
   "cell_type": "markdown",
   "id": "3869b6ee",
   "metadata": {},
   "source": [
    "#### str, bytes, int, bool, float and complex - primitives"
   ]
  },
  {
   "cell_type": "markdown",
   "id": "8d7a558a",
   "metadata": {},
   "source": [
    "#### object"
   ]
  },
  {
   "cell_type": "code",
   "execution_count": 31,
   "id": "6829cf6d",
   "metadata": {},
   "outputs": [
    {
     "data": {
      "text/plain": [
       "['__class__',\n",
       " '__delattr__',\n",
       " '__dir__',\n",
       " '__doc__',\n",
       " '__eq__',\n",
       " '__format__',\n",
       " '__ge__',\n",
       " '__getattribute__',\n",
       " '__gt__',\n",
       " '__hash__',\n",
       " '__init__',\n",
       " '__init_subclass__',\n",
       " '__le__',\n",
       " '__lt__',\n",
       " '__ne__',\n",
       " '__new__',\n",
       " '__reduce__',\n",
       " '__reduce_ex__',\n",
       " '__repr__',\n",
       " '__setattr__',\n",
       " '__sizeof__',\n",
       " '__str__',\n",
       " '__subclasshook__']"
      ]
     },
     "execution_count": 31,
     "metadata": {},
     "output_type": "execute_result"
    }
   ],
   "source": [
    "dir(object)"
   ]
  },
  {
   "cell_type": "code",
   "execution_count": 33,
   "id": "16471ac1",
   "metadata": {},
   "outputs": [
    {
     "data": {
      "text/plain": [
       "False"
      ]
     },
     "execution_count": 33,
     "metadata": {},
     "output_type": "execute_result"
    }
   ],
   "source": [
    "object() == object()"
   ]
  },
  {
   "cell_type": "markdown",
   "id": "094419c8",
   "metadata": {},
   "source": [
    "#### type"
   ]
  },
  {
   "cell_type": "code",
   "execution_count": 34,
   "id": "5dfef09b",
   "metadata": {},
   "outputs": [
    {
     "data": {
      "text/plain": [
       "int"
      ]
     },
     "execution_count": 34,
     "metadata": {},
     "output_type": "execute_result"
    }
   ],
   "source": [
    "type(1)"
   ]
  },
  {
   "cell_type": "code",
   "execution_count": 35,
   "id": "040604fc",
   "metadata": {},
   "outputs": [],
   "source": [
    "type?"
   ]
  },
  {
   "cell_type": "code",
   "execution_count": 37,
   "id": "3aee2214",
   "metadata": {},
   "outputs": [],
   "source": [
    "Vector = type(\"Vector\", (object, ), {})"
   ]
  },
  {
   "cell_type": "code",
   "execution_count": 38,
   "id": "ff11b111",
   "metadata": {},
   "outputs": [],
   "source": [
    "v = Vector()"
   ]
  },
  {
   "cell_type": "code",
   "execution_count": 39,
   "id": "64f1d7bf",
   "metadata": {},
   "outputs": [
    {
     "data": {
      "text/plain": [
       "__main__.Vector"
      ]
     },
     "execution_count": 39,
     "metadata": {},
     "output_type": "execute_result"
    }
   ],
   "source": [
    "type(v)"
   ]
  },
  {
   "cell_type": "code",
   "execution_count": 40,
   "id": "90bbdedd",
   "metadata": {},
   "outputs": [
    {
     "data": {
      "text/plain": [
       "type"
      ]
     },
     "execution_count": 40,
     "metadata": {},
     "output_type": "execute_result"
    }
   ],
   "source": [
    "type(Vector)"
   ]
  },
  {
   "cell_type": "markdown",
   "id": "4ab12766",
   "metadata": {},
   "source": [
    "#### hash, id"
   ]
  },
  {
   "cell_type": "markdown",
   "id": "b0bf5041",
   "metadata": {},
   "source": [
    "#### dir, vars"
   ]
  },
  {
   "cell_type": "code",
   "execution_count": 44,
   "id": "3f952834",
   "metadata": {},
   "outputs": [],
   "source": [
    "class C:\n",
    "    const = 42\n",
    "    def __init__(self, x, y):\n",
    "        self.x = x\n",
    "        self.y = y\n",
    "    def mymethod(self): ..."
   ]
  },
  {
   "cell_type": "code",
   "execution_count": 45,
   "id": "a30a62a2",
   "metadata": {},
   "outputs": [],
   "source": [
    "c = C(1, 2)\n",
    "\n"
   ]
  },
  {
   "cell_type": "code",
   "execution_count": 46,
   "id": "b4fd39ed",
   "metadata": {},
   "outputs": [
    {
     "data": {
      "text/plain": [
       "{'x': 1, 'y': 2}"
      ]
     },
     "execution_count": 46,
     "metadata": {},
     "output_type": "execute_result"
    }
   ],
   "source": [
    "vars(c)"
   ]
  },
  {
   "cell_type": "code",
   "execution_count": 47,
   "id": "378e550d",
   "metadata": {},
   "outputs": [
    {
     "data": {
      "text/plain": [
       "mappingproxy({'__module__': '__main__',\n",
       "              'const': 42,\n",
       "              '__init__': <function __main__.C.__init__(self, x, y)>,\n",
       "              'mymethod': <function __main__.C.mymethod(self)>,\n",
       "              '__dict__': <attribute '__dict__' of 'C' objects>,\n",
       "              '__weakref__': <attribute '__weakref__' of 'C' objects>,\n",
       "              '__doc__': None})"
      ]
     },
     "execution_count": 47,
     "metadata": {},
     "output_type": "execute_result"
    }
   ],
   "source": [
    "vars(C)"
   ]
  },
  {
   "cell_type": "code",
   "execution_count": 48,
   "id": "c7ef7811",
   "metadata": {},
   "outputs": [
    {
     "data": {
      "text/plain": [
       "['__class__',\n",
       " '__delattr__',\n",
       " '__dict__',\n",
       " '__dir__',\n",
       " '__doc__',\n",
       " '__eq__',\n",
       " '__format__',\n",
       " '__ge__',\n",
       " '__getattribute__',\n",
       " '__gt__',\n",
       " '__hash__',\n",
       " '__init__',\n",
       " '__init_subclass__',\n",
       " '__le__',\n",
       " '__lt__',\n",
       " '__module__',\n",
       " '__ne__',\n",
       " '__new__',\n",
       " '__reduce__',\n",
       " '__reduce_ex__',\n",
       " '__repr__',\n",
       " '__setattr__',\n",
       " '__sizeof__',\n",
       " '__str__',\n",
       " '__subclasshook__',\n",
       " '__weakref__',\n",
       " 'const',\n",
       " 'mymethod',\n",
       " 'x',\n",
       " 'y']"
      ]
     },
     "execution_count": 48,
     "metadata": {},
     "output_type": "execute_result"
    }
   ],
   "source": [
    "dir(c)"
   ]
  },
  {
   "cell_type": "markdown",
   "id": "bd17cc1f",
   "metadata": {},
   "source": [
    "#### hasattr, getattr, setattr, delattr"
   ]
  },
  {
   "cell_type": "code",
   "execution_count": 50,
   "id": "817286da",
   "metadata": {},
   "outputs": [
    {
     "data": {
      "text/plain": [
       "False"
      ]
     },
     "execution_count": 50,
     "metadata": {},
     "output_type": "execute_result"
    }
   ],
   "source": [
    "hasattr(c, 'x')"
   ]
  },
  {
   "cell_type": "code",
   "execution_count": 51,
   "id": "561c033e",
   "metadata": {},
   "outputs": [
    {
     "data": {
      "text/plain": [
       "42"
      ]
     },
     "execution_count": 51,
     "metadata": {},
     "output_type": "execute_result"
    }
   ],
   "source": [
    "getattr(c, 'const')"
   ]
  },
  {
   "cell_type": "code",
   "execution_count": 52,
   "id": "64e1d496",
   "metadata": {},
   "outputs": [
    {
     "name": "stdout",
     "output_type": "stream",
     "text": [
      "x\n"
     ]
    }
   ],
   "source": [
    "print(\"x\")"
   ]
  },
  {
   "cell_type": "code",
   "execution_count": 53,
   "id": "6659f03e",
   "metadata": {},
   "outputs": [],
   "source": [
    "setattr(c, \"z\", 10)"
   ]
  },
  {
   "cell_type": "code",
   "execution_count": 54,
   "id": "a2a42369",
   "metadata": {},
   "outputs": [
    {
     "data": {
      "text/plain": [
       "{'x': 1, 'y': 2, 'z': 10}"
      ]
     },
     "execution_count": 54,
     "metadata": {},
     "output_type": "execute_result"
    }
   ],
   "source": [
    "vars(c)"
   ]
  },
  {
   "cell_type": "code",
   "execution_count": 55,
   "id": "7f81be66",
   "metadata": {},
   "outputs": [],
   "source": [
    "delattr(c, 'z')"
   ]
  },
  {
   "cell_type": "markdown",
   "id": "f34728bc",
   "metadata": {},
   "source": [
    "#### builtincollections: str, list, dict, set, frozenset"
   ]
  },
  {
   "cell_type": "markdown",
   "id": "0b5d4932",
   "metadata": {},
   "source": [
    "#### Proste konwertery: bin, hex, oct, ord, chr, ascii"
   ]
  },
  {
   "cell_type": "code",
   "execution_count": 58,
   "id": "cd08a5ab",
   "metadata": {},
   "outputs": [
    {
     "data": {
      "text/plain": [
       "\"'a\\\\u0142a'\""
      ]
     },
     "execution_count": 58,
     "metadata": {},
     "output_type": "execute_result"
    }
   ],
   "source": [
    "ascii('ała')"
   ]
  },
  {
   "cell_type": "code",
   "execution_count": 59,
   "id": "e2c104c3",
   "metadata": {},
   "outputs": [],
   "source": [
    "ascii?"
   ]
  },
  {
   "cell_type": "markdown",
   "id": "7781bcb7",
   "metadata": {},
   "source": [
    "#### callable"
   ]
  },
  {
   "cell_type": "code",
   "execution_count": 60,
   "id": "9dacd6ac",
   "metadata": {},
   "outputs": [
    {
     "data": {
      "text/plain": [
       "True"
      ]
     },
     "execution_count": 60,
     "metadata": {},
     "output_type": "execute_result"
    }
   ],
   "source": [
    "class C: pass\n",
    "\n",
    "callable(C)"
   ]
  },
  {
   "cell_type": "code",
   "execution_count": 61,
   "id": "abde0b6d",
   "metadata": {},
   "outputs": [],
   "source": [
    "c = C()"
   ]
  },
  {
   "cell_type": "code",
   "execution_count": 62,
   "id": "d9a9f545",
   "metadata": {},
   "outputs": [
    {
     "data": {
      "text/plain": [
       "False"
      ]
     },
     "execution_count": 62,
     "metadata": {},
     "output_type": "execute_result"
    }
   ],
   "source": [
    "callable(c)"
   ]
  },
  {
   "cell_type": "code",
   "execution_count": 63,
   "id": "a380b2f6",
   "metadata": {},
   "outputs": [
    {
     "ename": "TypeError",
     "evalue": "'C' object is not callable",
     "output_type": "error",
     "traceback": [
      "\u001b[0;31m---------------------------------------------------------------------------\u001b[0m",
      "\u001b[0;31mTypeError\u001b[0m                                 Traceback (most recent call last)",
      "Input \u001b[0;32mIn [63]\u001b[0m, in \u001b[0;36m<cell line: 1>\u001b[0;34m()\u001b[0m\n\u001b[0;32m----> 1\u001b[0m \u001b[43mc\u001b[49m\u001b[43m(\u001b[49m\u001b[43m)\u001b[49m\n",
      "\u001b[0;31mTypeError\u001b[0m: 'C' object is not callable"
     ]
    }
   ],
   "source": [
    "# c()"
   ]
  },
  {
   "cell_type": "code",
   "execution_count": 69,
   "id": "566614aa",
   "metadata": {},
   "outputs": [
    {
     "data": {
      "text/plain": [
       "True"
      ]
     },
     "execution_count": 69,
     "metadata": {},
     "output_type": "execute_result"
    }
   ],
   "source": [
    "class C:\n",
    "    def __call__(self, x):\n",
    "        print(\"Calling that\")\n",
    "\n",
    "callable(C)"
   ]
  },
  {
   "cell_type": "code",
   "execution_count": 70,
   "id": "f76ac286",
   "metadata": {},
   "outputs": [],
   "source": [
    "c = C()"
   ]
  },
  {
   "cell_type": "code",
   "execution_count": 73,
   "id": "ab7cb11a",
   "metadata": {},
   "outputs": [
    {
     "name": "stdout",
     "output_type": "stream",
     "text": [
      "Calling that\n"
     ]
    }
   ],
   "source": [
    "c(1)"
   ]
  },
  {
   "cell_type": "code",
   "execution_count": 72,
   "id": "a38eba7b",
   "metadata": {},
   "outputs": [
    {
     "data": {
      "text/plain": [
       "True"
      ]
     },
     "execution_count": 72,
     "metadata": {},
     "output_type": "execute_result"
    }
   ],
   "source": [
    "callable(c)"
   ]
  },
  {
   "cell_type": "code",
   "execution_count": 68,
   "id": "c88cf831",
   "metadata": {},
   "outputs": [
    {
     "ename": "TypeError",
     "evalue": "C.__call__() takes 1 positional argument but 2 were given",
     "output_type": "error",
     "traceback": [
      "\u001b[0;31m---------------------------------------------------------------------------\u001b[0m",
      "\u001b[0;31mTypeError\u001b[0m                                 Traceback (most recent call last)",
      "Input \u001b[0;32mIn [68]\u001b[0m, in \u001b[0;36m<cell line: 1>\u001b[0;34m()\u001b[0m\n\u001b[0;32m----> 1\u001b[0m \u001b[43mc\u001b[49m\u001b[43m(\u001b[49m\u001b[38;5;241;43m1\u001b[39;49m\u001b[43m)\u001b[49m\n",
      "\u001b[0;31mTypeError\u001b[0m: C.__call__() takes 1 positional argument but 2 were given"
     ]
    }
   ],
   "source": [
    "c(1)"
   ]
  },
  {
   "cell_type": "markdown",
   "id": "b13e9a20",
   "metadata": {},
   "source": [
    "#### sorted, reveresed\n",
    "\n",
    "#### map, filter\n"
   ]
  },
  {
   "cell_type": "code",
   "execution_count": 76,
   "id": "dd120064",
   "metadata": {},
   "outputs": [
    {
     "data": {
      "text/plain": [
       "'1234'"
      ]
     },
     "execution_count": 76,
     "metadata": {},
     "output_type": "execute_result"
    }
   ],
   "source": [
    "x = [1, 2, 3, 4]\n",
    "# x = [str(i) for i in x]\n",
    "\"\".join(map(str, x))"
   ]
  },
  {
   "cell_type": "code",
   "execution_count": 77,
   "id": "028c4d37",
   "metadata": {},
   "outputs": [
    {
     "data": {
      "text/plain": [
       "[1.0, 2.0, 3.0, 4.0]"
      ]
     },
     "execution_count": 77,
     "metadata": {},
     "output_type": "execute_result"
    }
   ],
   "source": [
    "list(map(float, x))"
   ]
  },
  {
   "cell_type": "code",
   "execution_count": 78,
   "id": "6ca830cb",
   "metadata": {},
   "outputs": [
    {
     "data": {
      "text/plain": [
       "[10, 8]"
      ]
     },
     "execution_count": 78,
     "metadata": {},
     "output_type": "execute_result"
    }
   ],
   "source": [
    "items = [13, 10, 25, 8]\n",
    "\n",
    "evens = list(filter(lambda x: x % 2 == 0, items))\n",
    "evens"
   ]
  },
  {
   "cell_type": "markdown",
   "id": "ee94938e",
   "metadata": {},
   "source": [
    "#### aggregate functions: len, max, min, sum\n",
    "\n"
   ]
  },
  {
   "cell_type": "code",
   "execution_count": 79,
   "id": "9a179104",
   "metadata": {},
   "outputs": [
    {
     "data": {
      "text/plain": [
       "3"
      ]
     },
     "execution_count": 79,
     "metadata": {},
     "output_type": "execute_result"
    }
   ],
   "source": [
    "x = [1,2 ,3]\n",
    "max(x)"
   ]
  },
  {
   "cell_type": "code",
   "execution_count": 85,
   "id": "6dff2d53",
   "metadata": {},
   "outputs": [
    {
     "data": {
      "text/plain": [
       "'0'"
      ]
     },
     "execution_count": 85,
     "metadata": {},
     "output_type": "execute_result"
    }
   ],
   "source": [
    "x = ['a', 'b', 'c', 1, 2, 3, 0, 'z']\n",
    "min(map(str, x))"
   ]
  },
  {
   "cell_type": "code",
   "execution_count": 87,
   "id": "fccd78c2",
   "metadata": {},
   "outputs": [
    {
     "data": {
      "text/plain": [
       "0"
      ]
     },
     "execution_count": 87,
     "metadata": {},
     "output_type": "execute_result"
    }
   ],
   "source": [
    "min([-0, 0])"
   ]
  },
  {
   "cell_type": "markdown",
   "id": "780ddb89",
   "metadata": {},
   "source": [
    "#### range, enumerate, zip"
   ]
  },
  {
   "cell_type": "code",
   "execution_count": 95,
   "id": "0f859d5e",
   "metadata": {},
   "outputs": [],
   "source": [
    "a = (1 +\n",
    "    3)"
   ]
  },
  {
   "cell_type": "code",
   "execution_count": 96,
   "id": "07142d5c",
   "metadata": {},
   "outputs": [
    {
     "data": {
      "text/plain": [
       "4"
      ]
     },
     "execution_count": 96,
     "metadata": {},
     "output_type": "execute_result"
    }
   ],
   "source": [
    "a"
   ]
  },
  {
   "cell_type": "code",
   "execution_count": 97,
   "id": "d567a9bc",
   "metadata": {},
   "outputs": [],
   "source": [
    "x = range(1, 100)\n",
    "y = (range(101, 110))"
   ]
  },
  {
   "cell_type": "code",
   "execution_count": 98,
   "id": "df9f9c63",
   "metadata": {},
   "outputs": [
    {
     "name": "stdout",
     "output_type": "stream",
     "text": [
      "1 101\n",
      "2 102\n",
      "3 103\n",
      "4 104\n",
      "5 105\n",
      "6 106\n",
      "7 107\n",
      "8 108\n",
      "9 109\n"
     ]
    }
   ],
   "source": [
    "for i, j in zip(x, y):\n",
    "    print(i, j)"
   ]
  },
  {
   "cell_type": "code",
   "execution_count": 99,
   "id": "42626fce",
   "metadata": {},
   "outputs": [],
   "source": [
    "cubes = [x**3 for x in range(10)]"
   ]
  },
  {
   "cell_type": "code",
   "execution_count": 100,
   "id": "d761fb2c",
   "metadata": {},
   "outputs": [
    {
     "data": {
      "text/plain": [
       "[0, 1, 8, 27, 64, 125, 216, 343, 512, 729]"
      ]
     },
     "execution_count": 100,
     "metadata": {},
     "output_type": "execute_result"
    }
   ],
   "source": [
    "cubes"
   ]
  },
  {
   "cell_type": "code",
   "execution_count": 103,
   "id": "df8c9765",
   "metadata": {},
   "outputs": [
    {
     "name": "stdout",
     "output_type": "stream",
     "text": [
      "1 0\n",
      "2 1\n",
      "3 8\n",
      "4 27\n",
      "5 64\n",
      "6 125\n",
      "7 216\n",
      "8 343\n",
      "9 512\n",
      "10 729\n"
     ]
    }
   ],
   "source": [
    "i = 1\n",
    "for el in cubes:\n",
    "    print( i, el)\n",
    "    i += 1"
   ]
  },
  {
   "cell_type": "code",
   "execution_count": 105,
   "id": "061b45d6",
   "metadata": {},
   "outputs": [
    {
     "name": "stdout",
     "output_type": "stream",
     "text": [
      "1 0\n",
      "2 1\n",
      "3 8\n",
      "4 27\n",
      "5 64\n",
      "6 125\n",
      "7 216\n",
      "8 343\n",
      "9 512\n",
      "10 729\n"
     ]
    }
   ],
   "source": [
    "\n",
    "for i, el in enumerate(cubes, start=1):\n",
    "    print( i, el)\n"
   ]
  },
  {
   "cell_type": "markdown",
   "id": "38047e8e",
   "metadata": {},
   "source": [
    "#### slice"
   ]
  },
  {
   "cell_type": "code",
   "execution_count": 107,
   "id": "a668413a",
   "metadata": {},
   "outputs": [
    {
     "data": {
      "text/plain": [
       "[8, 27, 64, 125]"
      ]
     },
     "execution_count": 107,
     "metadata": {},
     "output_type": "execute_result"
    }
   ],
   "source": [
    "cubes[2:6]"
   ]
  },
  {
   "cell_type": "code",
   "execution_count": 108,
   "id": "e8c5849e",
   "metadata": {},
   "outputs": [
    {
     "data": {
      "text/plain": [
       "[8, 27, 64, 125]"
      ]
     },
     "execution_count": 108,
     "metadata": {},
     "output_type": "execute_result"
    }
   ],
   "source": [
    "s = slice(2, 6)\n",
    "\n",
    "cubes[s]"
   ]
  },
  {
   "cell_type": "markdown",
   "id": "da4d9c99",
   "metadata": {},
   "source": [
    "#### open\n",
    "\n",
    "#### repr"
   ]
  },
  {
   "cell_type": "code",
   "execution_count": 109,
   "id": "01f153a6",
   "metadata": {},
   "outputs": [],
   "source": [
    "repr?"
   ]
  },
  {
   "cell_type": "code",
   "execution_count": 114,
   "id": "fd3705fa",
   "metadata": {},
   "outputs": [],
   "source": [
    "class Vector:\n",
    "    def __init__(self, x, y):\n",
    "        self.x = x\n",
    "        self.y = y\n",
    "        \n",
    "    def __repr__(self):\n",
    "        return f\"Vector(x={self.x}, y={self.y})\"\n",
    "    \n",
    "v = Vector(1, 2)"
   ]
  },
  {
   "cell_type": "code",
   "execution_count": 115,
   "id": "5f0ef218",
   "metadata": {},
   "outputs": [
    {
     "data": {
      "text/plain": [
       "Vector(x=1, y=2)"
      ]
     },
     "execution_count": 115,
     "metadata": {},
     "output_type": "execute_result"
    }
   ],
   "source": [
    "v"
   ]
  },
  {
   "cell_type": "code",
   "execution_count": 116,
   "id": "c1c75399",
   "metadata": {},
   "outputs": [
    {
     "data": {
      "text/plain": [
       "'Vector(x=1, y=2)'"
      ]
     },
     "execution_count": 116,
     "metadata": {},
     "output_type": "execute_result"
    }
   ],
   "source": [
    "str(v)"
   ]
  },
  {
   "cell_type": "code",
   "execution_count": 117,
   "id": "e1ec26a5",
   "metadata": {},
   "outputs": [
    {
     "data": {
      "text/plain": [
       "[Vector(x=1, y=2)]"
      ]
     },
     "execution_count": 117,
     "metadata": {},
     "output_type": "execute_result"
    }
   ],
   "source": [
    "[v]"
   ]
  },
  {
   "cell_type": "code",
   "execution_count": 121,
   "id": "ee079b11",
   "metadata": {},
   "outputs": [],
   "source": [
    "x = 7\n",
    "\n",
    "if x % 2 == 0 or x % 3 == 0:\n",
    "    print(\"cos tam\")"
   ]
  },
  {
   "cell_type": "code",
   "execution_count": 123,
   "id": "5976635f",
   "metadata": {},
   "outputs": [],
   "source": [
    "if any([\n",
    "    x % 2 == 0,\n",
    "    x % 3 == 0,\n",
    "]):\n",
    "    print(\"cos\")"
   ]
  },
  {
   "cell_type": "code",
   "execution_count": 124,
   "id": "d5b05d06",
   "metadata": {},
   "outputs": [],
   "source": [
    "if all([\n",
    "    x % 2 == 0,\n",
    "    x % 3 == 0,\n",
    "]):\n",
    "    print(\"cos\")"
   ]
  },
  {
   "cell_type": "markdown",
   "id": "a5c202ef",
   "metadata": {},
   "source": [
    "##  comprehension"
   ]
  },
  {
   "cell_type": "code",
   "execution_count": 133,
   "id": "1a3338af",
   "metadata": {},
   "outputs": [
    {
     "data": {
      "text/plain": [
       "[0, 2, 4, 6, 8]"
      ]
     },
     "execution_count": 133,
     "metadata": {},
     "output_type": "execute_result"
    }
   ],
   "source": [
    "[x for x in range(10) if x % 2 == 0]"
   ]
  },
  {
   "cell_type": "code",
   "execution_count": 134,
   "id": "b486fe36",
   "metadata": {},
   "outputs": [
    {
     "data": {
      "text/plain": [
       "[0, 2, 4, 6, 8]"
      ]
     },
     "execution_count": 134,
     "metadata": {},
     "output_type": "execute_result"
    }
   ],
   "source": [
    "out = []\n",
    "for x in range(10):\n",
    "    if x % 2 == 0:\n",
    "        out.append(x)\n",
    "out"
   ]
  },
  {
   "cell_type": "markdown",
   "id": "c27cfb04",
   "metadata": {},
   "source": [
    "### zadanie\n",
    "\n",
    "\n",
    "Przy pomocy wyrażenia listowego utwórz listę reprezentująca tabliczkę mnożenia"
   ]
  },
  {
   "cell_type": "code",
   "execution_count": 137,
   "id": "dc7193ef",
   "metadata": {},
   "outputs": [
    {
     "name": "stdout",
     "output_type": "stream",
     "text": [
      "[1, 2, 3, 4, 5, 6, 7, 8, 9, 10]\n",
      "[2, 4, 6, 8, 10, 12, 14, 16, 18, 20]\n",
      "[3, 6, 9, 12, 15, 18, 21, 24, 27, 30]\n",
      "[4, 8, 12, 16, 20, 24, 28, 32, 36, 40]\n",
      "[5, 10, 15, 20, 25, 30, 35, 40, 45, 50]\n",
      "[6, 12, 18, 24, 30, 36, 42, 48, 54, 60]\n",
      "[7, 14, 21, 28, 35, 42, 49, 56, 63, 70]\n",
      "[8, 16, 24, 32, 40, 48, 56, 64, 72, 80]\n",
      "[9, 18, 27, 36, 45, 54, 63, 72, 81, 90]\n",
      "[10, 20, 30, 40, 50, 60, 70, 80, 90, 100]\n"
     ]
    }
   ],
   "source": [
    "\n",
    "for j in range(1, 11):\n",
    "    print([i * j  for i in range(1, 11)])\n"
   ]
  },
  {
   "cell_type": "code",
   "execution_count": 136,
   "id": "6a9a3e1d",
   "metadata": {},
   "outputs": [
    {
     "data": {
      "text/plain": [
       "[[1, 2, 3, 4, 5, 6, 7, 8, 9, 10],\n",
       " [2, 4, 6, 8, 10, 12, 14, 16, 18, 20],\n",
       " [3, 6, 9, 12, 15, 18, 21, 24, 27, 30],\n",
       " [4, 8, 12, 16, 20, 24, 28, 32, 36, 40],\n",
       " [5, 10, 15, 20, 25, 30, 35, 40, 45, 50],\n",
       " [6, 12, 18, 24, 30, 36, 42, 48, 54, 60],\n",
       " [7, 14, 21, 28, 35, 42, 49, 56, 63, 70],\n",
       " [8, 16, 24, 32, 40, 48, 56, 64, 72, 80],\n",
       " [9, 18, 27, 36, 45, 54, 63, 72, 81, 90],\n",
       " [10, 20, 30, 40, 50, 60, 70, 80, 90, 100]]"
      ]
     },
     "execution_count": 136,
     "metadata": {},
     "output_type": "execute_result"
    }
   ],
   "source": [
    "\n",
    "[\n",
    "    [i * j  for i in range(1, 11)]\n",
    "    for j in range(1, 11)\n",
    "]"
   ]
  },
  {
   "cell_type": "code",
   "execution_count": 146,
   "id": "895df95b",
   "metadata": {},
   "outputs": [
    {
     "data": {
      "text/plain": [
       "[11, 2, 11]"
      ]
     },
     "execution_count": 146,
     "metadata": {},
     "output_type": "execute_result"
    }
   ],
   "source": [
    "\n",
    "\n",
    "liczby = [1, 11, 2, 15, 4, 8, 11, 21, 34]\n",
    "\n",
    "liczby_pierwsze = []\n",
    "\n",
    "for liczba in liczby:\n",
    "    jest_dzielnik = False\n",
    "    if liczba <= 1: continue\n",
    "    else:\n",
    "        for i in range(2, liczba):\n",
    "            if liczba % i == 0: \n",
    "                jest_dzielnik = True\n",
    "                break\n",
    "    if not jest_dzielnik:\n",
    "        liczby_pierwsze.append(liczba)\n",
    "        \n",
    "\n",
    "liczby_pierwsze\n",
    "\n"
   ]
  },
  {
   "cell_type": "code",
   "execution_count": 148,
   "id": "8bf44317",
   "metadata": {},
   "outputs": [
    {
     "data": {
      "text/plain": [
       "[]"
      ]
     },
     "execution_count": 148,
     "metadata": {},
     "output_type": "execute_result"
    }
   ],
   "source": [
    "\n",
    "liczby = [1, 11, 2, 15, 4, 8, 11, 21, 34]\n",
    "\n",
    "liczby_pierwsze = []\n",
    "\n",
    "for liczba in liczby:\n",
    "    if liczba <= 1: continue\n",
    "    for i in range(2, liczba):\n",
    "        if liczba % i == 0: \n",
    "            break\n",
    "    else:\n",
    "        liczby_pierwsze.append(liczba)\n",
    "        \n",
    "\n",
    "liczby_pierwsze"
   ]
  },
  {
   "cell_type": "code",
   "execution_count": 142,
   "id": "7b82b786",
   "metadata": {},
   "outputs": [
    {
     "name": "stdout",
     "output_type": "stream",
     "text": [
      "0\n",
      "1\n",
      "2\n",
      "3\n",
      "4\n"
     ]
    }
   ],
   "source": [
    "for i in range(10): \n",
    "    if i == 5:\n",
    "        break \n",
    "    print(i)\n",
    "else:\n",
    "    print(\"Koniec - przeszedlem wszystko\")"
   ]
  },
  {
   "cell_type": "markdown",
   "id": "1c69b6b1",
   "metadata": {},
   "source": [
    "z zestawu liczb wybierz liczby pierwsze i zapisz je w liscie liczby_pierwsze\n"
   ]
  },
  {
   "cell_type": "markdown",
   "id": "62da9676",
   "metadata": {},
   "source": [
    "### Zadanie\n",
    "\n",
    "Utwórz nastepujaca strukture pakietów i modułów:\n",
    "* główny pakiet `mathematica`\n",
    "* pakiet wewnetrzny `geometry`\n",
    "* moduł figures w pakiecie `geometry` z funkcjami `square_area` oraz `triangle_area`\n",
    "* pakiet wewnetrzny `algebra`\n",
    "* moduł `matrices` w pakiecie `algebra` z funkcjami `add_matrices` i `sub_matrices`\n",
    "* główny pakiet `tests`\n",
    "* moduł `test_geometry` testujacy funkcje geometryczne\n",
    "* moduł `test_algebra` testujacy funkcje algebraiczne"
   ]
  },
  {
   "cell_type": "code",
   "execution_count": 149,
   "id": "0ac00051",
   "metadata": {},
   "outputs": [
    {
     "ename": "NameError",
     "evalue": "name 'square_area' is not defined",
     "output_type": "error",
     "traceback": [
      "\u001b[0;31m---------------------------------------------------------------------------\u001b[0m",
      "\u001b[0;31mNameError\u001b[0m                                 Traceback (most recent call last)",
      "Input \u001b[0;32mIn [149]\u001b[0m, in \u001b[0;36m<cell line: 1>\u001b[0;34m()\u001b[0m\n\u001b[0;32m----> 1\u001b[0m \u001b[38;5;28;01massert\u001b[39;00m \u001b[43msquare_area\u001b[49m(\u001b[38;5;241m2\u001b[39m) \u001b[38;5;241m==\u001b[39m \u001b[38;5;241m4\u001b[39m\n\u001b[1;32m      2\u001b[0m \u001b[38;5;28;01massert\u001b[39;00m square_area(\u001b[38;5;241m1\u001b[39m) \u001b[38;5;241m==\u001b[39m \u001b[38;5;241m1\u001b[39m\n",
      "\u001b[0;31mNameError\u001b[0m: name 'square_area' is not defined"
     ]
    }
   ],
   "source": [
    "assert square_area(2) == 4\n",
    "assert square_area(1) == 1\n",
    "\n"
   ]
  },
  {
   "cell_type": "markdown",
   "id": "da4b5e0c",
   "metadata": {},
   "source": [
    "\n",
    "    mathematica_project\n",
    "        mathematica\n",
    "            __init__.py\n",
    "            geometry.py\n",
    "            algebra.py\n",
    "        tests\n",
    "            __init__.py\n",
    "            test_algebra.py\n",
    "            test_geometry.py"
   ]
  },
  {
   "cell_type": "markdown",
   "id": "d73e9849",
   "metadata": {},
   "source": [
    "Obiad do 14:03 lub 13:53 jesli sie zbierzemy"
   ]
  },
  {
   "cell_type": "markdown",
   "id": "701c989e",
   "metadata": {},
   "source": [
    "# PEP8, flake8, black, mypy"
   ]
  },
  {
   "cell_type": "code",
   "execution_count": 118,
   "id": "14b705e6",
   "metadata": {},
   "outputs": [],
   "source": [
    "\n",
    "_ = 1"
   ]
  },
  {
   "cell_type": "code",
   "execution_count": 119,
   "id": "04b267fd",
   "metadata": {},
   "outputs": [
    {
     "data": {
      "text/plain": [
       "1"
      ]
     },
     "execution_count": 119,
     "metadata": {},
     "output_type": "execute_result"
    }
   ],
   "source": [
    "_"
   ]
  },
  {
   "cell_type": "code",
   "execution_count": 150,
   "id": "548a952c",
   "metadata": {},
   "outputs": [
    {
     "name": "stdout",
     "output_type": "stream",
     "text": [
      "The Zen of Python, by Tim Peters\n",
      "\n",
      "Beautiful is better than ugly.\n",
      "Explicit is better than implicit.\n",
      "Simple is better than complex.\n",
      "Complex is better than complicated.\n",
      "Flat is better than nested.\n",
      "Sparse is better than dense.\n",
      "Readability counts.\n",
      "Special cases aren't special enough to break the rules.\n",
      "Although practicality beats purity.\n",
      "Errors should never pass silently.\n",
      "Unless explicitly silenced.\n",
      "In the face of ambiguity, refuse the temptation to guess.\n",
      "There should be one-- and preferably only one --obvious way to do it.\n",
      "Although that way may not be obvious at first unless you're Dutch.\n",
      "Now is better than never.\n",
      "Although never is often better than *right* now.\n",
      "If the implementation is hard to explain, it's a bad idea.\n",
      "If the implementation is easy to explain, it may be a good idea.\n",
      "Namespaces are one honking great idea -- let's do more of those!\n"
     ]
    }
   ],
   "source": [
    "import this"
   ]
  },
  {
   "cell_type": "code",
   "execution_count": null,
   "id": "44fbde97",
   "metadata": {},
   "outputs": [],
   "source": []
  }
 ],
 "metadata": {
  "kernelspec": {
   "display_name": "Python 3 (ipykernel)",
   "language": "python",
   "name": "python3"
  },
  "language_info": {
   "codemirror_mode": {
    "name": "ipython",
    "version": 3
   },
   "file_extension": ".py",
   "mimetype": "text/x-python",
   "name": "python",
   "nbconvert_exporter": "python",
   "pygments_lexer": "ipython3",
   "version": "3.10.4"
  },
  "toc": {
   "base_numbering": 1,
   "nav_menu": {},
   "number_sections": true,
   "sideBar": true,
   "skip_h1_title": false,
   "title_cell": "Table of Contents",
   "title_sidebar": "Contents",
   "toc_cell": false,
   "toc_position": {},
   "toc_section_display": true,
   "toc_window_display": false
  }
 },
 "nbformat": 4,
 "nbformat_minor": 5
}
